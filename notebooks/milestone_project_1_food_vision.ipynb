{
 "cells": [
  {
   "cell_type": "markdown",
   "id": "b786fd4a-376c-484e-ac66-72daccc8254d",
   "metadata": {},
   "source": [
    "# Milestone Project 1: Food Vision 🍕\n",
    "\n",
    "Annotated version of the notebook: https://github.com/mrdbourke/tensorflow-deep-learning/blob/main/07_food_vision_milestone_project_1.ipynb"
   ]
  },
  {
   "cell_type": "code",
   "execution_count": 1,
   "id": "29edceea-1651-4f3e-9109-73af2c896b58",
   "metadata": {},
   "outputs": [],
   "source": [
    "import tensorflow as tf\n",
    "\n",
    "from tensorflow import keras\n",
    "from tensorflow.keras import layers"
   ]
  },
  {
   "cell_type": "code",
   "execution_count": 2,
   "id": "8eb15fff-67c5-4e71-9730-ff803227647b",
   "metadata": {},
   "outputs": [],
   "source": [
    "IMAGE_SIZE = (224, 224)\n",
    "BATCH_SIZE = 32"
   ]
  },
  {
   "cell_type": "markdown",
   "id": "9f156c0e-66c0-4351-b2e6-bb2ba8724db0",
   "metadata": {},
   "source": [
    "## Get Helper Functions\n",
    "\n",
    "The link to the script: https://github.com/mrdbourke/tensorflow-deep-learning/blob/main/extras/helper_functions.py"
   ]
  },
  {
   "cell_type": "code",
   "execution_count": 3,
   "id": "30872554-e911-4a89-be30-36cd5887446d",
   "metadata": {},
   "outputs": [
    {
     "name": "stdout",
     "output_type": "stream",
     "text": [
      "--2024-01-26 10:19:59--  https://raw.githubusercontent.com/mrdbourke/tensorflow-deep-learning/main/extras/helper_functions.py\n",
      "Resolving raw.githubusercontent.com (raw.githubusercontent.com)... 185.199.111.133, 185.199.110.133, 185.199.108.133, ...\n",
      "Connecting to raw.githubusercontent.com (raw.githubusercontent.com)|185.199.111.133|:443... connected.\n",
      "HTTP request sent, awaiting response... 200 OK\n",
      "Length: 10246 (10K) [text/plain]\n",
      "Saving to: 'helper_functions.py'\n",
      "\n",
      "helper_functions.py 100%[===================>]  10.01K  --.-KB/s    in 0s      \n",
      "\n",
      "2024-01-26 10:19:59 (42.3 MB/s) - 'helper_functions.py' saved [10246/10246]\n",
      "\n"
     ]
    }
   ],
   "source": [
    "!wget https://raw.githubusercontent.com/mrdbourke/tensorflow-deep-learning/main/extras/helper_functions.py"
   ]
  },
  {
   "cell_type": "code",
   "execution_count": 4,
   "id": "c8891b7d-c9e6-481e-acdd-8123af9db5e4",
   "metadata": {},
   "outputs": [],
   "source": [
    "from helper_functions import create_tensorboard_callback, plot_loss_curves, compare_historys"
   ]
  },
  {
   "cell_type": "markdown",
   "id": "ce7832bd-f45d-4e02-a359-b864a70812b4",
   "metadata": {},
   "source": [
    "## Use TensorFlow Datasets to Download the Data\n",
    "\n",
    "The overview of the TensorFlow Datasets: https://www.tensorflow.org/datasets/overview"
   ]
  },
  {
   "cell_type": "code",
   "execution_count": 5,
   "id": "0e633728-ef3f-40e2-bba1-437882924468",
   "metadata": {},
   "outputs": [],
   "source": [
    "import tensorflow_datasets as tfds"
   ]
  },
  {
   "cell_type": "markdown",
   "id": "4359cd69-3c17-4766-9df5-5bab08a56fe8",
   "metadata": {},
   "source": [
    "The Food-101 paper: https://data.vision.ee.ethz.ch/cvl/datasets_extra/food-101/static/bossard_eccv14_food-101.pdf"
   ]
  },
  {
   "cell_type": "code",
   "execution_count": 6,
   "id": "4a2f8d9a-976f-4bd5-9e5e-16fd6405a92f",
   "metadata": {},
   "outputs": [
    {
     "name": "stderr",
     "output_type": "stream",
     "text": [
      "2024-01-26 10:20:01.009152: W external/local_tsl/tsl/platform/cloud/google_auth_provider.cc:184] All attempts to get a Google authentication bearer token failed, returning an empty token. Retrieving token from files failed with \"NOT_FOUND: Could not locate the credentials file.\". Retrieving token from GCE failed with \"FAILED_PRECONDITION: Error executing an HTTP request: libcurl code 6 meaning 'Couldn't resolve host name', error details: Could not resolve host: metadata.google.internal\".\n"
     ]
    },
    {
     "data": {
      "text/plain": [
       "True"
      ]
     },
     "execution_count": 6,
     "metadata": {},
     "output_type": "execute_result"
    }
   ],
   "source": [
    "datasets_list = tfds.list_builders()\n",
    "\n",
    "# Check for the Food101 dataset\n",
    "'food101' in datasets_list"
   ]
  },
  {
   "cell_type": "code",
   "execution_count": 7,
   "id": "861853dc-a80d-49f4-bcb6-8d26de78fd50",
   "metadata": {},
   "outputs": [],
   "source": [
    "(train_data, test_data), ds_info = tfds.load(\n",
    "    name='food101',\n",
    "    split=['train', 'validation'],\n",
    "    shuffle_files=True,\n",
    "    as_supervised=True,\n",
    "    with_info=True\n",
    ")"
   ]
  },
  {
   "cell_type": "code",
   "execution_count": 8,
   "id": "a0e30ac7-f93f-43c3-8c63-5839944135bc",
   "metadata": {
    "editable": true,
    "slideshow": {
     "slide_type": ""
    },
    "tags": []
   },
   "outputs": [
    {
     "data": {
      "text/plain": [
       "FeaturesDict({\n",
       "    'image': Image(shape=(None, None, 3), dtype=uint8),\n",
       "    'label': ClassLabel(shape=(), dtype=int64, num_classes=101),\n",
       "})"
      ]
     },
     "execution_count": 8,
     "metadata": {},
     "output_type": "execute_result"
    }
   ],
   "source": [
    "ds_info.features"
   ]
  },
  {
   "cell_type": "markdown",
   "id": "6632e3e8-132b-4c0d-ae67-4042e9a474b3",
   "metadata": {},
   "source": [
    "## Exploring the Food-101 Data\n",
    "\n",
    "1. Class names\n",
    "2. Shape of the input data\n",
    "3. Data type of the input data\n",
    "4. Type of labels (one-hot encoded or label encoded)\n",
    "5. Do the labels match-up with the class names?"
   ]
  },
  {
   "cell_type": "code",
   "execution_count": 9,
   "id": "48696077-b535-423d-bdfd-a9486c8df47a",
   "metadata": {},
   "outputs": [
    {
     "data": {
      "text/plain": [
       "['apple_pie',\n",
       " 'baby_back_ribs',\n",
       " 'baklava',\n",
       " 'beef_carpaccio',\n",
       " 'beef_tartare',\n",
       " 'beet_salad',\n",
       " 'beignets',\n",
       " 'bibimbap',\n",
       " 'bread_pudding',\n",
       " 'breakfast_burrito']"
      ]
     },
     "execution_count": 9,
     "metadata": {},
     "output_type": "execute_result"
    }
   ],
   "source": [
    "class_names = ds_info.features['label'].names\n",
    "class_names[:10]"
   ]
  },
  {
   "cell_type": "code",
   "execution_count": 10,
   "id": "5bd7340a-a10a-4982-ad77-7ff5caac006b",
   "metadata": {},
   "outputs": [],
   "source": [
    "train_one_sample = train_data.take(1)    # (image_tensor, label)"
   ]
  },
  {
   "cell_type": "code",
   "execution_count": 11,
   "id": "e134dab7-6c97-4783-9f84-64f458d1f7bb",
   "metadata": {},
   "outputs": [
    {
     "name": "stdout",
     "output_type": "stream",
     "text": [
      "\n",
      "    Image shape: (512, 289, 3)\n",
      "    Image data type: <dtype: 'uint8'>\n",
      "    Target class (tensor): 45\n",
      "    Target class (string): frozen_yogurt\n",
      "    \n"
     ]
    }
   ],
   "source": [
    "for image, label in train_one_sample:\n",
    "    print(f'''\n",
    "    Image shape: {image.shape}\n",
    "    Image data type: {image.dtype}\n",
    "    Target class (tensor): {label}\n",
    "    Target class (string): {class_names[label.numpy()]}\n",
    "    ''')"
   ]
  },
  {
   "cell_type": "code",
   "execution_count": 12,
   "id": "aef22dca-12d2-4a2b-963e-d9a8a1006eab",
   "metadata": {},
   "outputs": [
    {
     "data": {
      "text/plain": [
       "<tf.Tensor: shape=(512, 289, 3), dtype=uint8, numpy=\n",
       "array([[[145, 151, 125],\n",
       "        [157, 163, 137],\n",
       "        [159, 165, 139],\n",
       "        ...,\n",
       "        [197, 209, 199],\n",
       "        [197, 209, 199],\n",
       "        [197, 207, 198]],\n",
       "\n",
       "       [[146, 152, 126],\n",
       "        [156, 162, 136],\n",
       "        [158, 164, 138],\n",
       "        ...,\n",
       "        [197, 209, 199],\n",
       "        [197, 209, 199],\n",
       "        [199, 209, 200]],\n",
       "\n",
       "       [[150, 156, 130],\n",
       "        [155, 161, 135],\n",
       "        [157, 163, 137],\n",
       "        ...,\n",
       "        [197, 209, 199],\n",
       "        [197, 209, 199],\n",
       "        [199, 209, 198]],\n",
       "\n",
       "       ...,\n",
       "\n",
       "       [[173, 186, 177],\n",
       "        [174, 187, 178],\n",
       "        [176, 189, 180],\n",
       "        ...,\n",
       "        [181, 197, 187],\n",
       "        [181, 197, 187],\n",
       "        [178, 195, 187]],\n",
       "\n",
       "       [[176, 187, 179],\n",
       "        [176, 187, 179],\n",
       "        [176, 189, 180],\n",
       "        ...,\n",
       "        [182, 198, 188],\n",
       "        [182, 198, 188],\n",
       "        [180, 197, 189]],\n",
       "\n",
       "       [[178, 189, 181],\n",
       "        [177, 188, 180],\n",
       "        [175, 188, 179],\n",
       "        ...,\n",
       "        [179, 195, 185],\n",
       "        [179, 195, 185],\n",
       "        [179, 196, 190]]], dtype=uint8)>"
      ]
     },
     "execution_count": 12,
     "metadata": {},
     "output_type": "execute_result"
    }
   ],
   "source": [
    "image"
   ]
  },
  {
   "cell_type": "code",
   "execution_count": 13,
   "id": "83d32050-8d05-4b0e-8c83-eb13aa28fe86",
   "metadata": {},
   "outputs": [
    {
     "data": {
      "text/plain": [
       "(<tf.Tensor: shape=(), dtype=uint8, numpy=0>,\n",
       " <tf.Tensor: shape=(), dtype=uint8, numpy=255>)"
      ]
     },
     "execution_count": 13,
     "metadata": {},
     "output_type": "execute_result"
    }
   ],
   "source": [
    "tf.reduce_min(image), tf.reduce_max(image)"
   ]
  },
  {
   "cell_type": "markdown",
   "id": "77b2e6c2-05bd-4271-9b61-a125cfc24b6c",
   "metadata": {},
   "source": [
    "## Plot an Image from the TensorFlow Dataset"
   ]
  },
  {
   "cell_type": "code",
   "execution_count": 14,
   "id": "52d53462-b526-4edb-8e58-a8de05fd7307",
   "metadata": {},
   "outputs": [],
   "source": [
    "import matplotlib.pyplot as plt"
   ]
  },
  {
   "cell_type": "code",
   "execution_count": 15,
   "id": "8081ad42-4268-4551-ae9d-4e362618eacf",
   "metadata": {},
   "outputs": [
    {
     "data": {
      "image/png": "[encoded data removed]",
      "text/plain": [
       "<Figure size 640x480 with 1 Axes>"
      ]
     },
     "metadata": {},
     "output_type": "display_data"
    }
   ],
   "source": [
    "plt.imshow(image)\n",
    "plt.title(class_names[label.numpy()])\n",
    "plt.axis(False);"
   ]
  },
  {
   "cell_type": "markdown",
   "id": "81c8d95c-92f5-4c9c-aca5-be772e16b43e",
   "metadata": {},
   "source": [
    "## Create Preprocessing Functions for the Data\n",
    "\n",
    "What we know about the data:\n",
    "\n",
    "* Data as `uint8` data type.\n",
    "* Comprised of tensors of different sizes.\n",
    "* Not scaled or standardised [0:255] -> [0:1].\n",
    "\n",
    "What we know the models like:\n",
    "\n",
    "* Data as `float32` dtype (or `float16` and `float32` for mixed precision).\n",
    "* For batches, TensorFlow likes the tensors to be of the same size.\n",
    "* Scaled or normalised tensors perform better."
   ]
  },
  {
   "cell_type": "code",
   "execution_count": 16,
   "id": "cc2456a6-ac5a-47fe-ae2a-9975b5442863",
   "metadata": {},
   "outputs": [],
   "source": [
    "def preprocess_img(image, label, img_shape=224):\n",
    "    \"\"\"Converts image data type to `float32` and reshapes\n",
    "    image to (img_shape, img_shape, color_channels).\n",
    "    \"\"\"\n",
    "    image = tf.image.resize(image, size=(img_shape, img_shape))\n",
    "    return tf.cast(image, dtype=tf.float32), label"
   ]
  },
  {
   "cell_type": "code",
   "execution_count": 17,
   "id": "f906e1a3-fe38-4f26-9ad9-53645d064c0e",
   "metadata": {},
   "outputs": [
    {
     "name": "stdout",
     "output_type": "stream",
     "text": [
      "\n",
      "Image before preprocessing:\n",
      "[[[145 151 125]\n",
      "  [157 163 137]\n",
      "  [159 165 139]\n",
      "  ...\n",
      "  [197 209 199]\n",
      "  [197 209 199]\n",
      "  [197 207 198]]\n",
      "\n",
      " [[146 152 126]\n",
      "  [156 162 136]\n",
      "  [158 164 138]\n",
      "  ...\n",
      "  [197 209 199]\n",
      "  [197 209 199]\n",
      "  [199 209 200]]]\n",
      "Shape: (512, 289, 3)\n",
      "Dtype: <dtype: 'uint8'>\n",
      "    \n",
      "Image after preprocessing:\n",
      "[[[147.19739 153.19739 127.19739]\n",
      "  [157.22768 163.22768 137.22768]\n",
      "  [158.09805 164.09805 138.09805]\n",
      "  ...\n",
      "  [197.      209.      197.54907]\n",
      "  [197.      209.      199.     ]\n",
      "  [198.09914 208.38936 199.24425]]\n",
      "\n",
      " [[154.69467 160.69467 134.69467]\n",
      "  [155.87053 161.87053 135.87053]\n",
      "  [158.39908 164.39908 138.39908]\n",
      "  ...\n",
      "  [197.      209.      197.54907]\n",
      "  [197.      209.      199.     ]\n",
      "  [196.32831 206.61853 195.76364]]]\n",
      "Shape: (224, 224, 3)\n",
      "Dtype: <dtype: 'float32'>\n",
      "\n"
     ]
    }
   ],
   "source": [
    "preprocessed_img = preprocess_img(image, label)[0]\n",
    "print(f'''\n",
    "Image before preprocessing:\\n{image[:2]}\n",
    "Shape: {image.shape}\n",
    "Dtype: {image.dtype}\n",
    "    \n",
    "Image after preprocessing:\\n{preprocessed_img[:2]}\n",
    "Shape: {preprocessed_img.shape}\n",
    "Dtype: {preprocessed_img.dtype}\n",
    "''')"
   ]
  },
  {
   "cell_type": "markdown",
   "id": "8dcab927-a289-44b6-8cf8-5b67ce3ce759",
   "metadata": {},
   "source": [
    "## Batch and Prepare Datasets\n",
    "\n",
    "For more resources: https://www.tensorflow.org/guide/data_performance"
   ]
  },
  {
   "cell_type": "code",
   "execution_count": 18,
   "id": "d75e603f-15ab-4b31-a368-a39d8c0f0319",
   "metadata": {},
   "outputs": [],
   "source": [
    "# Map the preprocessing function to the training data (and parallelize)\n",
    "train_data = train_data.map(\n",
    "    map_func=preprocess_img,\n",
    "    num_parallel_calls=tf.data.AUTOTUNE\n",
    ")\n",
    "\n",
    "# Shuffle the training data and turn it into batches and prefetch it\n",
    "train_data = train_data.shuffle(\n",
    "    buffer_size=1000\n",
    ").batch(\n",
    "    batch_size=BATCH_SIZE\n",
    ").prefetch(\n",
    "    buffer_size=tf.data.AUTOTUNE\n",
    ")\n",
    "\n",
    "# Map the preprocessing function to the test data (and parallelize)\n",
    "# and turn it into batches and prefetch it\n",
    "test_data = test_data.map(\n",
    "    map_func=preprocess_img,\n",
    "    num_parallel_calls=tf.data.AUTOTUNE\n",
    ").batch(\n",
    "    batch_size=BATCH_SIZE\n",
    ").prefetch(\n",
    "    buffer_size=tf.data.AUTOTUNE\n",
    ")"
   ]
  },
  {
   "cell_type": "code",
   "execution_count": 19,
   "id": "c6a16607-28da-4341-9764-c6c79058152f",
   "metadata": {},
   "outputs": [
    {
     "data": {
      "text/plain": [
       "(<_PrefetchDataset element_spec=(TensorSpec(shape=(None, 224, 224, 3), dtype=tf.float32, name=None), TensorSpec(shape=(None,), dtype=tf.int64, name=None))>,\n",
       " <_PrefetchDataset element_spec=(TensorSpec(shape=(None, 224, 224, 3), dtype=tf.float32, name=None), TensorSpec(shape=(None,), dtype=tf.int64, name=None))>)"
      ]
     },
     "execution_count": 19,
     "metadata": {},
     "output_type": "execute_result"
    }
   ],
   "source": [
    "train_data, test_data"
   ]
  },
  {
   "cell_type": "markdown",
   "id": "f7fc9cde-1117-4c82-a7b5-67c68a9760d9",
   "metadata": {},
   "source": [
    "## Create the Modelling Callbacks\n",
    "\n",
    "* `TensorBoard` callback to log training results (for visualisation).\n",
    "* `ModelCheckpoint` callback to save the model's progress after feature extraction."
   ]
  },
  {
   "cell_type": "code",
   "execution_count": 20,
   "id": "937ec5c6-5e1d-48b0-870b-709a4311e599",
   "metadata": {},
   "outputs": [],
   "source": [
    "# Create TensorBoard callback\n",
    "from helper_functions import create_tensorboard_callback\n",
    "\n",
    "# Create ModelCheckpoint callback\n",
    "checkpoint_path = 'mp1_model_checkpoints/cp.ckpt'\n",
    "checkpoint_callback = tf.keras.callbacks.ModelCheckpoint(\n",
    "    checkpoint_path,\n",
    "    monitor='val_accuracy',\n",
    "    save_best_only=True,\n",
    "    save_weights_only=True,\n",
    "    verbose=0\n",
    ")"
   ]
  },
  {
   "cell_type": "markdown",
   "id": "49d49e06-d15f-4899-9aea-5f5a9de38e5c",
   "metadata": {},
   "source": [
    "## Setup Mixed Precision Training\n",
    "\n",
    "For more information: https://www.tensorflow.org/guide/mixed_precision\n",
    "\n",
    "Mixed precision utilises a combination of `float16` and `float32` dtypes to speed up model performance."
   ]
  },
  {
   "cell_type": "code",
   "execution_count": 21,
   "id": "168014ff-fad9-4148-b59e-9f0f6a127a71",
   "metadata": {},
   "outputs": [
    {
     "name": "stdout",
     "output_type": "stream",
     "text": [
      "WARNING:tensorflow:Mixed precision compatibility check (mixed_float16): WARNING\n",
      "The dtype policy mixed_float16 may run slowly because this machine does not have a GPU. Only Nvidia GPUs with compute capability of at least 7.0 run quickly with mixed_float16.\n",
      "If you will use compatible GPU(s) not attached to this host, e.g. by running a multi-worker model, you can ignore this warning. This message will only be logged once\n"
     ]
    },
    {
     "name": "stderr",
     "output_type": "stream",
     "text": [
      "WARNING:tensorflow:Mixed precision compatibility check (mixed_float16): WARNING\n",
      "The dtype policy mixed_float16 may run slowly because this machine does not have a GPU. Only Nvidia GPUs with compute capability of at least 7.0 run quickly with mixed_float16.\n",
      "If you will use compatible GPU(s) not attached to this host, e.g. by running a multi-worker model, you can ignore this warning. This message will only be logged once\n"
     ]
    }
   ],
   "source": [
    "# Turn on mixed precision training\n",
    "from tensorflow.keras import mixed_precision\n",
    "\n",
    "mixed_precision.set_global_policy('mixed_float16')    # slow on the Apple M1"
   ]
  },
  {
   "cell_type": "code",
   "execution_count": 22,
   "id": "eb2bad12-a617-49e0-becd-7b1dcaa86990",
   "metadata": {},
   "outputs": [
    {
     "data": {
      "text/plain": [
       "<Policy \"mixed_float16\">"
      ]
     },
     "execution_count": 22,
     "metadata": {},
     "output_type": "execute_result"
    }
   ],
   "source": [
    "mixed_precision.global_policy()"
   ]
  },
  {
   "cell_type": "markdown",
   "id": "d2395b4f-d397-4a1e-b2eb-9bfa26211c5c",
   "metadata": {},
   "source": [
    "## Build the Feature Extraction Model"
   ]
  },
  {
   "cell_type": "code",
   "execution_count": 23,
   "id": "b1458852-c251-4483-93d7-7fcd4da0474b",
   "metadata": {},
   "outputs": [
    {
     "data": {
      "text/plain": [
       "(224, 224, 3)"
      ]
     },
     "execution_count": 23,
     "metadata": {},
     "output_type": "execute_result"
    }
   ],
   "source": [
    "INPUT_SHAPE =  IMAGE_SIZE + (3,)\n",
    "INPUT_SHAPE"
   ]
  },
  {
   "cell_type": "code",
   "execution_count": 24,
   "id": "6d309677-40a4-4ed7-8fb7-fba091192b2f",
   "metadata": {},
   "outputs": [],
   "source": [
    "# Create the base model\n",
    "base_model = tf.keras.applications.efficientnet_v2.EfficientNetV2B0(include_top=False)\n",
    "base_model.trainable = False\n",
    "\n",
    "# Create the functional model\n",
    "inputs = layers.Input(shape=INPUT_SHAPE, name='input_layer')\n",
    "x = base_model(inputs, training=False)\n",
    "x = layers.GlobalAveragePooling2D(name='global_average_pooling_layer')(x)\n",
    "x = layers.Dense(len(class_names), name='output_layer')(x)\n",
    "outputs = layers.Activation('softmax', dtype=tf.float32, name='softmax_float32')(x)\n",
    "\n",
    "model = tf.keras.Model(inputs, outputs, name='food_vision')\n",
    "\n",
    "# Compile the model\n",
    "model.compile(\n",
    "    loss='sparse_categorical_crossentropy',\n",
    "    optimizer=tf.keras.optimizers.legacy.Adam(),    # for the Apple M1 chip\n",
    "    metrics=['accuracy']\n",
    ")"
   ]
  },
  {
   "cell_type": "code",
   "execution_count": 25,
   "id": "a9ab0e50-8567-4e54-b742-799374f2c20e",
   "metadata": {},
   "outputs": [
    {
     "name": "stdout",
     "output_type": "stream",
     "text": [
      "Model: \"food_vision\"\n",
      "_________________________________________________________________\n",
      " Layer (type)                Output Shape              Param #   \n",
      "=================================================================\n",
      " input_layer (InputLayer)    [(None, 224, 224, 3)]     0         \n",
      "                                                                 \n",
      " efficientnetv2-b0 (Functio  (None, None, None, 1280   5919312   \n",
      " nal)                        )                                   \n",
      "                                                                 \n",
      " global_average_pooling_lay  (None, 1280)              0         \n",
      " er (GlobalAveragePooling2D                                      \n",
      " )                                                               \n",
      "                                                                 \n",
      " output_layer (Dense)        (None, 101)               129381    \n",
      "                                                                 \n",
      " softmax_float32 (Activatio  (None, 101)               0         \n",
      " n)                                                              \n",
      "                                                                 \n",
      "=================================================================\n",
      "Total params: 6048693 (23.07 MB)\n",
      "Trainable params: 129381 (505.39 KB)\n",
      "Non-trainable params: 5919312 (22.58 MB)\n",
      "_________________________________________________________________\n"
     ]
    }
   ],
   "source": [
    "model.summary()"
   ]
  },
  {
   "cell_type": "markdown",
   "id": "4a29a886-9c15-45ef-aa77-140926bd4863",
   "metadata": {},
   "source": [
    "## Checking the Layer Data Type Policies (To Check for Mixed Precision)\n",
    "\n",
    "This will be slow on the Apple M1 chip."
   ]
  },
  {
   "cell_type": "code",
   "execution_count": 26,
   "id": "048862e8-86f3-41b6-9074-b7c7b08f2eef",
   "metadata": {},
   "outputs": [
    {
     "data": {
      "text/html": [
       "<div>\n",
       "<style scoped>\n",
       "    .dataframe tbody tr th:only-of-type {\n",
       "        vertical-align: middle;\n",
       "    }\n",
       "\n",
       "    .dataframe tbody tr th {\n",
       "        vertical-align: top;\n",
       "    }\n",
       "\n",
       "    .dataframe thead th {\n",
       "        text-align: right;\n",
       "    }\n",
       "</style>\n",
       "<table border=\"1\" class=\"dataframe\">\n",
       "  <thead>\n",
       "    <tr style=\"text-align: right;\">\n",
       "      <th></th>\n",
       "      <th>layer_name</th>\n",
       "      <th>is_trainable</th>\n",
       "      <th>layer_dtype</th>\n",
       "      <th>layer_dtype_policy</th>\n",
       "    </tr>\n",
       "  </thead>\n",
       "  <tbody>\n",
       "    <tr>\n",
       "      <th>0</th>\n",
       "      <td>input_layer</td>\n",
       "      <td>True</td>\n",
       "      <td>float32</td>\n",
       "      <td>&lt;Policy \"float32\"&gt;</td>\n",
       "    </tr>\n",
       "    <tr>\n",
       "      <th>1</th>\n",
       "      <td>efficientnetv2-b0</td>\n",
       "      <td>False</td>\n",
       "      <td>float32</td>\n",
       "      <td>&lt;Policy \"mixed_float16\"&gt;</td>\n",
       "    </tr>\n",
       "    <tr>\n",
       "      <th>2</th>\n",
       "      <td>global_average_pooling_layer</td>\n",
       "      <td>True</td>\n",
       "      <td>float32</td>\n",
       "      <td>&lt;Policy \"mixed_float16\"&gt;</td>\n",
       "    </tr>\n",
       "    <tr>\n",
       "      <th>3</th>\n",
       "      <td>output_layer</td>\n",
       "      <td>True</td>\n",
       "      <td>float32</td>\n",
       "      <td>&lt;Policy \"mixed_float16\"&gt;</td>\n",
       "    </tr>\n",
       "    <tr>\n",
       "      <th>4</th>\n",
       "      <td>softmax_float32</td>\n",
       "      <td>True</td>\n",
       "      <td>float32</td>\n",
       "      <td>&lt;Policy \"float32\"&gt;</td>\n",
       "    </tr>\n",
       "  </tbody>\n",
       "</table>\n",
       "</div>"
      ],
      "text/plain": [
       "                     layer_name  is_trainable layer_dtype  \\\n",
       "0                   input_layer          True     float32   \n",
       "1             efficientnetv2-b0         False     float32   \n",
       "2  global_average_pooling_layer          True     float32   \n",
       "3                  output_layer          True     float32   \n",
       "4               softmax_float32          True     float32   \n",
       "\n",
       "         layer_dtype_policy  \n",
       "0        <Policy \"float32\">  \n",
       "1  <Policy \"mixed_float16\">  \n",
       "2  <Policy \"mixed_float16\">  \n",
       "3  <Policy \"mixed_float16\">  \n",
       "4        <Policy \"float32\">  "
      ]
     },
     "execution_count": 26,
     "metadata": {},
     "output_type": "execute_result"
    }
   ],
   "source": [
    "import pandas as pd\n",
    "\n",
    "layer_data = []\n",
    "for layer in model.layers:\n",
    "    layer_data.append([layer.name, layer.trainable, layer.dtype, layer.dtype_policy])\n",
    "\n",
    "pd.DataFrame(layer_data, columns=['layer_name', 'is_trainable', 'layer_dtype', 'layer_dtype_policy'])"
   ]
  },
  {
   "cell_type": "code",
   "execution_count": 27,
   "id": "07fa3da8-bccd-4282-8053-1537e4dd25dd",
   "metadata": {},
   "outputs": [
    {
     "data": {
      "text/html": [
       "<div>\n",
       "<style scoped>\n",
       "    .dataframe tbody tr th:only-of-type {\n",
       "        vertical-align: middle;\n",
       "    }\n",
       "\n",
       "    .dataframe tbody tr th {\n",
       "        vertical-align: top;\n",
       "    }\n",
       "\n",
       "    .dataframe thead th {\n",
       "        text-align: right;\n",
       "    }\n",
       "</style>\n",
       "<table border=\"1\" class=\"dataframe\">\n",
       "  <thead>\n",
       "    <tr style=\"text-align: right;\">\n",
       "      <th></th>\n",
       "      <th>layer_name</th>\n",
       "      <th>is_trainable</th>\n",
       "      <th>layer_dtype</th>\n",
       "      <th>layer_dtype_policy</th>\n",
       "    </tr>\n",
       "  </thead>\n",
       "  <tbody>\n",
       "    <tr>\n",
       "      <th>0</th>\n",
       "      <td>input_1</td>\n",
       "      <td>False</td>\n",
       "      <td>float32</td>\n",
       "      <td>&lt;Policy \"float32\"&gt;</td>\n",
       "    </tr>\n",
       "    <tr>\n",
       "      <th>1</th>\n",
       "      <td>rescaling</td>\n",
       "      <td>False</td>\n",
       "      <td>float32</td>\n",
       "      <td>&lt;Policy \"mixed_float16\"&gt;</td>\n",
       "    </tr>\n",
       "    <tr>\n",
       "      <th>2</th>\n",
       "      <td>normalization</td>\n",
       "      <td>False</td>\n",
       "      <td>float32</td>\n",
       "      <td>&lt;Policy \"mixed_float16\"&gt;</td>\n",
       "    </tr>\n",
       "    <tr>\n",
       "      <th>3</th>\n",
       "      <td>stem_conv</td>\n",
       "      <td>False</td>\n",
       "      <td>float32</td>\n",
       "      <td>&lt;Policy \"mixed_float16\"&gt;</td>\n",
       "    </tr>\n",
       "    <tr>\n",
       "      <th>4</th>\n",
       "      <td>stem_bn</td>\n",
       "      <td>False</td>\n",
       "      <td>float32</td>\n",
       "      <td>&lt;Policy \"mixed_float16\"&gt;</td>\n",
       "    </tr>\n",
       "    <tr>\n",
       "      <th>5</th>\n",
       "      <td>stem_activation</td>\n",
       "      <td>False</td>\n",
       "      <td>float32</td>\n",
       "      <td>&lt;Policy \"mixed_float16\"&gt;</td>\n",
       "    </tr>\n",
       "    <tr>\n",
       "      <th>6</th>\n",
       "      <td>block1a_project_conv</td>\n",
       "      <td>False</td>\n",
       "      <td>float32</td>\n",
       "      <td>&lt;Policy \"mixed_float16\"&gt;</td>\n",
       "    </tr>\n",
       "    <tr>\n",
       "      <th>7</th>\n",
       "      <td>block1a_project_bn</td>\n",
       "      <td>False</td>\n",
       "      <td>float32</td>\n",
       "      <td>&lt;Policy \"mixed_float16\"&gt;</td>\n",
       "    </tr>\n",
       "    <tr>\n",
       "      <th>8</th>\n",
       "      <td>block1a_project_activation</td>\n",
       "      <td>False</td>\n",
       "      <td>float32</td>\n",
       "      <td>&lt;Policy \"mixed_float16\"&gt;</td>\n",
       "    </tr>\n",
       "    <tr>\n",
       "      <th>9</th>\n",
       "      <td>block2a_expand_conv</td>\n",
       "      <td>False</td>\n",
       "      <td>float32</td>\n",
       "      <td>&lt;Policy \"mixed_float16\"&gt;</td>\n",
       "    </tr>\n",
       "    <tr>\n",
       "      <th>10</th>\n",
       "      <td>block2a_expand_bn</td>\n",
       "      <td>False</td>\n",
       "      <td>float32</td>\n",
       "      <td>&lt;Policy \"mixed_float16\"&gt;</td>\n",
       "    </tr>\n",
       "    <tr>\n",
       "      <th>11</th>\n",
       "      <td>block2a_expand_activation</td>\n",
       "      <td>False</td>\n",
       "      <td>float32</td>\n",
       "      <td>&lt;Policy \"mixed_float16\"&gt;</td>\n",
       "    </tr>\n",
       "    <tr>\n",
       "      <th>12</th>\n",
       "      <td>block2a_project_conv</td>\n",
       "      <td>False</td>\n",
       "      <td>float32</td>\n",
       "      <td>&lt;Policy \"mixed_float16\"&gt;</td>\n",
       "    </tr>\n",
       "    <tr>\n",
       "      <th>13</th>\n",
       "      <td>block2a_project_bn</td>\n",
       "      <td>False</td>\n",
       "      <td>float32</td>\n",
       "      <td>&lt;Policy \"mixed_float16\"&gt;</td>\n",
       "    </tr>\n",
       "    <tr>\n",
       "      <th>14</th>\n",
       "      <td>block2b_expand_conv</td>\n",
       "      <td>False</td>\n",
       "      <td>float32</td>\n",
       "      <td>&lt;Policy \"mixed_float16\"&gt;</td>\n",
       "    </tr>\n",
       "    <tr>\n",
       "      <th>15</th>\n",
       "      <td>block2b_expand_bn</td>\n",
       "      <td>False</td>\n",
       "      <td>float32</td>\n",
       "      <td>&lt;Policy \"mixed_float16\"&gt;</td>\n",
       "    </tr>\n",
       "    <tr>\n",
       "      <th>16</th>\n",
       "      <td>block2b_expand_activation</td>\n",
       "      <td>False</td>\n",
       "      <td>float32</td>\n",
       "      <td>&lt;Policy \"mixed_float16\"&gt;</td>\n",
       "    </tr>\n",
       "    <tr>\n",
       "      <th>17</th>\n",
       "      <td>block2b_project_conv</td>\n",
       "      <td>False</td>\n",
       "      <td>float32</td>\n",
       "      <td>&lt;Policy \"mixed_float16\"&gt;</td>\n",
       "    </tr>\n",
       "    <tr>\n",
       "      <th>18</th>\n",
       "      <td>block2b_project_bn</td>\n",
       "      <td>False</td>\n",
       "      <td>float32</td>\n",
       "      <td>&lt;Policy \"mixed_float16\"&gt;</td>\n",
       "    </tr>\n",
       "    <tr>\n",
       "      <th>19</th>\n",
       "      <td>block2b_drop</td>\n",
       "      <td>False</td>\n",
       "      <td>float32</td>\n",
       "      <td>&lt;Policy \"mixed_float16\"&gt;</td>\n",
       "    </tr>\n",
       "  </tbody>\n",
       "</table>\n",
       "</div>"
      ],
      "text/plain": [
       "                    layer_name  is_trainable layer_dtype  \\\n",
       "0                      input_1         False     float32   \n",
       "1                    rescaling         False     float32   \n",
       "2                normalization         False     float32   \n",
       "3                    stem_conv         False     float32   \n",
       "4                      stem_bn         False     float32   \n",
       "5              stem_activation         False     float32   \n",
       "6         block1a_project_conv         False     float32   \n",
       "7           block1a_project_bn         False     float32   \n",
       "8   block1a_project_activation         False     float32   \n",
       "9          block2a_expand_conv         False     float32   \n",
       "10           block2a_expand_bn         False     float32   \n",
       "11   block2a_expand_activation         False     float32   \n",
       "12        block2a_project_conv         False     float32   \n",
       "13          block2a_project_bn         False     float32   \n",
       "14         block2b_expand_conv         False     float32   \n",
       "15           block2b_expand_bn         False     float32   \n",
       "16   block2b_expand_activation         False     float32   \n",
       "17        block2b_project_conv         False     float32   \n",
       "18          block2b_project_bn         False     float32   \n",
       "19                block2b_drop         False     float32   \n",
       "\n",
       "          layer_dtype_policy  \n",
       "0         <Policy \"float32\">  \n",
       "1   <Policy \"mixed_float16\">  \n",
       "2   <Policy \"mixed_float16\">  \n",
       "3   <Policy \"mixed_float16\">  \n",
       "4   <Policy \"mixed_float16\">  \n",
       "5   <Policy \"mixed_float16\">  \n",
       "6   <Policy \"mixed_float16\">  \n",
       "7   <Policy \"mixed_float16\">  \n",
       "8   <Policy \"mixed_float16\">  \n",
       "9   <Policy \"mixed_float16\">  \n",
       "10  <Policy \"mixed_float16\">  \n",
       "11  <Policy \"mixed_float16\">  \n",
       "12  <Policy \"mixed_float16\">  \n",
       "13  <Policy \"mixed_float16\">  \n",
       "14  <Policy \"mixed_float16\">  \n",
       "15  <Policy \"mixed_float16\">  \n",
       "16  <Policy \"mixed_float16\">  \n",
       "17  <Policy \"mixed_float16\">  \n",
       "18  <Policy \"mixed_float16\">  \n",
       "19  <Policy \"mixed_float16\">  "
      ]
     },
     "execution_count": 27,
     "metadata": {},
     "output_type": "execute_result"
    }
   ],
   "source": [
    "base_layer_data = []\n",
    "for layer in model.layers[1].layers:\n",
    "    base_layer_data.append([layer.name, layer.trainable, layer.dtype, layer.dtype_policy])\n",
    "\n",
    "pd.DataFrame(base_layer_data, columns=['layer_name', 'is_trainable', 'layer_dtype', 'layer_dtype_policy']).head(20)"
   ]
  },
  {
   "cell_type": "markdown",
   "id": "fd457af7-30a3-44cc-8c05-02281aec11ad",
   "metadata": {},
   "source": [
    "## Fit the Feature Extraction Model\n",
    "\n",
    "The steps to fine-tune a pre-trained model generally include:\n",
    "\n",
    "1. Build a feature extraction model (train a couple layers and freeze the base layers).\n",
    "2. Fine-tune some of the frozen layers (by unfreezing them)."
   ]
  },
  {
   "cell_type": "code",
   "execution_count": 28,
   "id": "90039ac7-54ab-4760-8af8-e96d39953e32",
   "metadata": {},
   "outputs": [
    {
     "name": "stdout",
     "output_type": "stream",
     "text": [
      "Saving TensorBoard log files to: logs/efficientnetv2-b0_feature_extraction_101_food_classes/20240126-102009\n",
      "Epoch 1/3\n",
      "2368/2368 [==============================] - 1431s 601ms/step - loss: 1.7444 - accuracy: 0.5766 - val_loss: 1.1455 - val_accuracy: 0.6992\n",
      "Epoch 2/3\n",
      "2368/2368 [==============================] - 1419s 599ms/step - loss: 1.2103 - accuracy: 0.6860 - val_loss: 1.0441 - val_accuracy: 0.7233\n",
      "Epoch 3/3\n",
      "2368/2368 [==============================] - 1535s 648ms/step - loss: 1.0637 - accuracy: 0.7227 - val_loss: 0.9907 - val_accuracy: 0.7365\n"
     ]
    }
   ],
   "source": [
    "# Fit the model\n",
    "feature_extraction_history = model.fit(\n",
    "    train_data,\n",
    "    epochs=3,\n",
    "    steps_per_epoch=len(train_data),\n",
    "    validation_data=test_data,\n",
    "    validation_steps=int(.15 * len(test_data)),\n",
    "    callbacks=[\n",
    "        create_tensorboard_callback(\n",
    "            dir_name='logs',\n",
    "            experiment_name='efficientnetv2-b0_feature_extraction_101_food_classes'\n",
    "        ),\n",
    "        checkpoint_callback\n",
    "    ]\n",
    ")"
   ]
  },
  {
   "cell_type": "code",
   "execution_count": 31,
   "id": "1d850f10-2f58-4d78-af7e-56de322d6b29",
   "metadata": {},
   "outputs": [
    {
     "name": "stdout",
     "output_type": "stream",
     "text": [
      "790/790 [==============================] - 485s 614ms/step - loss: 0.9911 - accuracy: 0.7305\n"
     ]
    },
    {
     "data": {
      "text/plain": [
       "[0.9910997748374939, 0.7304554581642151]"
      ]
     },
     "execution_count": 31,
     "metadata": {},
     "output_type": "execute_result"
    }
   ],
   "source": [
    "# Evaluate the model\n",
    "feature_extraction_results = model.evaluate(test_data)\n",
    "feature_extraction_results"
   ]
  },
  {
   "cell_type": "code",
   "execution_count": 32,
   "id": "b4b56d2a-9882-477d-94fe-52d905b33391",
   "metadata": {},
   "outputs": [
    {
     "data": {
      "image/png": "[encoded data removed]",
      "text/plain": [
       "<Figure size 640x480 with 1 Axes>"
      ]
     },
     "metadata": {},
     "output_type": "display_data"
    },
    {
     "data": {
      "image/png": "[encoded data removed]",
      "text/plain": [
       "<Figure size 640x480 with 1 Axes>"
      ]
     },
     "metadata": {},
     "output_type": "display_data"
    }
   ],
   "source": [
    "plot_loss_curves(feature_extraction_history)"
   ]
  },
  {
   "cell_type": "markdown",
   "id": "a2046d1c-e7a9-422f-a44f-b794b02f7300",
   "metadata": {},
   "source": [
    "## Fine-tune the Feature Extraction Model\n",
    "\n",
    "Go through and fine-tune the model to improve the performance.\n",
    "\n",
    "* Complete the [TEMPLATE](https://github.com/mrdbourke/tensorflow-deep-learning/blob/main/extras/TEMPLATE_07_food_vision_milestone_project_1.ipynb) notebook.\n",
    "* Refer to this [example](https://github.com/mrdbourke/tensorflow-deep-learning/blob/main/07_food_vision_milestone_project_1.ipynb) notebook."
   ]
  },
  {
   "cell_type": "code",
   "execution_count": null,
   "id": "09473d84-7877-46ca-bdbb-a984878e2da7",
   "metadata": {},
   "outputs": [],
   "source": []
  }
 ],
 "metadata": {
  "kernelspec": {
   "display_name": "Python 3 (ipykernel)",
   "language": "python",
   "name": "python3"
  },
  "language_info": {
   "codemirror_mode": {
    "name": "ipython",
    "version": 3
   },
   "file_extension": ".py",
   "mimetype": "text/x-python",
   "name": "python",
   "nbconvert_exporter": "python",
   "pygments_lexer": "ipython3",
   "version": "3.10.13"
  }
 },
 "nbformat": 4,
 "nbformat_minor": 5
}
