{
 "cells": [
  {
   "cell_type": "markdown",
   "id": "e0949deb-58ff-4ec2-ad3a-b80cfad94ac8",
   "metadata": {},
   "source": [
    "# Milestone Project 2: SkimLit 📝\n",
    "\n",
    "Important papers:\n",
    "* [PubMed 200k RCT: a Dataset for Sequential Sentence Classification in Medical Abstracts](https://arxiv.org/abs/1710.06071)\n",
    "* [Neural Networks for Joint Sentence Classification in Medical Paper Abstracts](https://arxiv.org/abs/1612.05251)\n",
    "\n",
    "The dataset can be downloaded from here: https://github.com/Franck-Dernoncourt/pubmed-rct\n",
    "\n",
    "Tips from [George Hotz](https://www.twitch.tv/georgehotz), an ML engineer:\n",
    "\n",
    "1. Download a paper.\n",
    "2. Implement it.\n",
    "3. Keep doing this until you have skills.\n",
    "4. Build infrastructure around the model/data preprocessing steps."
   ]
  },
  {
   "cell_type": "markdown",
   "id": "613d2a54-77b1-46eb-918f-d4a1864000f7",
   "metadata": {},
   "source": [
    "## Get the Data"
   ]
  },
  {
   "cell_type": "code",
   "execution_count": 1,
   "id": "24737a89-af09-49e8-9704-b0f0d124e7d6",
   "metadata": {},
   "outputs": [
    {
     "name": "stdout",
     "output_type": "stream",
     "text": [
      "Cloning into 'pubmed-rct'...\n",
      "remote: Enumerating objects: 39, done.\u001b[K\n",
      "remote: Counting objects: 100% (14/14), done.\u001b[K\n",
      "remote: Compressing objects: 100% (9/9), done.\u001b[K\n",
      "remote: Total 39 (delta 8), reused 5 (delta 5), pack-reused 25\u001b[K\n",
      "Receiving objects: 100% (39/39), 177.08 MiB | 17.59 MiB/s, done.\n",
      "Resolving deltas: 100% (15/15), done.\n",
      "\u001b[34mPubMed_200k_RCT\u001b[m\u001b[m\n",
      "\u001b[34mPubMed_200k_RCT_numbers_replaced_with_at_sign\u001b[m\u001b[m\n",
      "\u001b[34mPubMed_20k_RCT\u001b[m\u001b[m\n",
      "\u001b[34mPubMed_20k_RCT_numbers_replaced_with_at_sign\u001b[m\u001b[m\n",
      "README.md\n"
     ]
    }
   ],
   "source": [
    "!git clone https://github.com/Franck-Dernoncourt/pubmed-rct.git\n",
    "!ls pubmed-rct"
   ]
  },
  {
   "cell_type": "code",
   "execution_count": 2,
   "id": "efe882de-3a29-4b5b-a0ab-5e39c3887538",
   "metadata": {},
   "outputs": [
    {
     "name": "stdout",
     "output_type": "stream",
     "text": [
      "dev.txt   test.txt  train.txt\n"
     ]
    }
   ],
   "source": [
    "!ls pubmed-rct/PubMed_20k_RCT_numbers_replaced_with_at_sign/"
   ]
  },
  {
   "cell_type": "code",
   "execution_count": 4,
   "id": "eb536bee-63cf-475d-bd0d-38f3d39f219d",
   "metadata": {},
   "outputs": [],
   "source": [
    "data_dir = 'pubmed-rct/PubMed_20k_RCT_numbers_replaced_with_at_sign/'"
   ]
  },
  {
   "cell_type": "code",
   "execution_count": 5,
   "id": "cd6758e6-e2b8-432b-acea-5e79df34689d",
   "metadata": {},
   "outputs": [
    {
     "data": {
      "text/plain": [
       "['pubmed-rct/PubMed_20k_RCT_numbers_replaced_with_at_sign/dev.txt',\n",
       " 'pubmed-rct/PubMed_20k_RCT_numbers_replaced_with_at_sign/train.txt',\n",
       " 'pubmed-rct/PubMed_20k_RCT_numbers_replaced_with_at_sign/test.txt',\n",
       " 'pubmed-rct/PubMed_20k_RCT_numbers_replaced_with_at_sign/.ipynb_checkpoints']"
      ]
     },
     "execution_count": 5,
     "metadata": {},
     "output_type": "execute_result"
    }
   ],
   "source": [
    "import os\n",
    "\n",
    "filenames = [data_dir + filename for filename in os.listdir(data_dir)]\n",
    "filenames"
   ]
  },
  {
   "cell_type": "markdown",
   "id": "c980661e-1ca2-4f39-9c17-190b31bcf4a2",
   "metadata": {},
   "source": [
    "## Preprocess the Data"
   ]
  },
  {
   "cell_type": "code",
   "execution_count": 1,
   "id": "7225c126-d535-4749-bf22-6b8812eb6765",
   "metadata": {},
   "outputs": [],
   "source": [
    "def get_lines(filename):\n",
    "    \"\"\"Reads filename and returns the lines of text as a list.\n",
    "\n",
    "    Args:\n",
    "        filename (string): The target filepath.\n",
    "\n",
    "    Returns:\n",
    "        A list of strings with one string per line from the target filename.\n",
    "    \"\"\"\n",
    "    with open(filename, 'r') as f:\n",
    "        return f.readlines()"
   ]
  },
  {
   "cell_type": "code",
   "execution_count": 7,
   "id": "5cee6a8f-d471-42ef-a2b3-b59fcaa1f851",
   "metadata": {},
   "outputs": [
    {
     "data": {
      "text/plain": [
       "['###24293578\\n',\n",
       " 'OBJECTIVE\\tTo investigate the efficacy of @ weeks of daily low-dose oral prednisolone in improving pain , mobility , and systemic low-grade inflammation in the short term and whether the effect would be sustained at @ weeks in older adults with moderate to severe knee osteoarthritis ( OA ) .\\n',\n",
       " 'METHODS\\tA total of @ patients with primary knee OA were randomized @:@ ; @ received @ mg/day of prednisolone and @ received placebo for @ weeks .\\n',\n",
       " 'METHODS\\tOutcome measures included pain reduction and improvement in function scores and systemic inflammation markers .\\n',\n",
       " 'METHODS\\tPain was assessed using the visual analog pain scale ( @-@ mm ) .\\n',\n",
       " 'METHODS\\tSecondary outcome measures included the Western Ontario and McMaster Universities Osteoarthritis Index scores , patient global assessment ( PGA ) of the severity of knee OA , and @-min walk distance ( @MWD ) .\\n',\n",
       " 'METHODS\\tSerum levels of interleukin @ ( IL-@ ) , IL-@ , tumor necrosis factor ( TNF ) - , and high-sensitivity C-reactive protein ( hsCRP ) were measured .\\n',\n",
       " 'RESULTS\\tThere was a clinically relevant reduction in the intervention group compared to the placebo group for knee pain , physical function , PGA , and @MWD at @ weeks .\\n',\n",
       " 'RESULTS\\tThe mean difference between treatment arms ( @ % CI ) was @ ( @-@ @ ) , p < @ ; @ ( @-@ @ ) , p < @ ; @ ( @-@ @ ) , p < @ ; and @ ( @-@ @ ) , p < @ , respectively .\\n',\n",
       " 'RESULTS\\tFurther , there was a clinically relevant reduction in the serum levels of IL-@ , IL-@ , TNF - , and hsCRP at @ weeks in the intervention group when compared to the placebo group .\\n',\n",
       " 'RESULTS\\tThese differences remained significant at @ weeks .\\n',\n",
       " 'RESULTS\\tThe Outcome Measures in Rheumatology Clinical Trials-Osteoarthritis Research Society International responder rate was @ % in the intervention group and @ % in the placebo group ( p < @ ) .\\n',\n",
       " 'CONCLUSIONS\\tLow-dose oral prednisolone had both a short-term and a longer sustained effect resulting in less knee pain , better physical function , and attenuation of systemic inflammation in older patients with knee OA ( ClinicalTrials.gov identifier NCT@ ) .\\n',\n",
       " '\\n',\n",
       " '###24854809\\n',\n",
       " 'BACKGROUND\\tEmotional eating is associated with overeating and the development of obesity .\\n',\n",
       " 'BACKGROUND\\tYet , empirical evidence for individual ( trait ) differences in emotional eating and cognitive mechanisms that contribute to eating during sad mood remain equivocal .\\n',\n",
       " 'OBJECTIVE\\tThe aim of this study was to test if attention bias for food moderates the effect of self-reported emotional eating during sad mood ( vs neutral mood ) on actual food intake .\\n',\n",
       " 'OBJECTIVE\\tIt was expected that emotional eating is predictive of elevated attention for food and higher food intake after an experimentally induced sad mood and that attentional maintenance on food predicts food intake during a sad versus a neutral mood .\\n',\n",
       " 'METHODS\\tParticipants ( N = @ ) were randomly assigned to one of the two experimental mood induction conditions ( sad/neutral ) .\\n',\n",
       " 'METHODS\\tAttentional biases for high caloric foods were measured by eye tracking during a visual probe task with pictorial food and neutral stimuli .\\n',\n",
       " 'METHODS\\tSelf-reported emotional eating was assessed with the Dutch Eating Behavior Questionnaire ( DEBQ ) and ad libitum food intake was tested by a disguised food offer .\\n',\n",
       " 'RESULTS\\tHierarchical multivariate regression modeling showed that self-reported emotional eating did not account for changes in attention allocation for food or food intake in either condition .\\n',\n",
       " 'RESULTS\\tYet , attention maintenance on food cues was significantly related to increased intake specifically in the neutral condition , but not in the sad mood condition .\\n',\n",
       " 'CONCLUSIONS\\tThe current findings show that self-reported emotional eating ( based on the DEBQ ) might not validly predict who overeats when sad , at least not in a laboratory setting with healthy women .\\n',\n",
       " 'CONCLUSIONS\\tResults further suggest that attention maintenance on food relates to eating motivation when in a neutral affective state , and might therefore be a cognitive mechanism contributing to increased food intake in general , but maybe not during sad mood .\\n',\n",
       " '\\n']"
      ]
     },
     "execution_count": 7,
     "metadata": {},
     "output_type": "execute_result"
    }
   ],
   "source": [
    "train_lines = get_lines(data_dir + 'train.txt')\n",
    "train_lines[:27]"
   ]
  },
  {
   "cell_type": "code",
   "execution_count": 8,
   "id": "55b6f953-5fcf-4d6f-88e3-d8e652957f9b",
   "metadata": {},
   "outputs": [
    {
     "data": {
      "text/plain": [
       "210040"
      ]
     },
     "execution_count": 8,
     "metadata": {},
     "output_type": "execute_result"
    }
   ],
   "source": [
    "len(train_lines)"
   ]
  },
  {
   "cell_type": "markdown",
   "id": "bc3191a6-cb4c-477e-99d5-d2dff9e5368e",
   "metadata": {},
   "source": [
    "> The data representation:\n",
    "```\n",
    "[{\n",
    "    'line_number': 0,\n",
    "    'target': 'BACKGROUND',\n",
    "    'text': 'Emotional eating is associated with overeating and the development of obesity .\\n',\n",
    "    'total_lines': 11\n",
    "}, ...]\n",
    "```"
   ]
  },
  {
   "cell_type": "code",
   "execution_count": 2,
   "id": "6ee33f80-c214-468a-a2ed-f32dd1fae141",
   "metadata": {},
   "outputs": [],
   "source": [
    "def preprocess_text_with_line_numbers(filename):\n",
    "    \"\"\"Returns a list of dictionaries of abstract line data.\n",
    "\n",
    "    Takes in filename, reads its content and sorts through each line,\n",
    "    extracting items like the target label, the text of the sentence,\n",
    "    the number of lines in the focused abstract and what sentence number\n",
    "    the target line is.\n",
    "    \"\"\"\n",
    "    input_lines = get_lines(filename)\n",
    "    \n",
    "    abstract_lines = ''\n",
    "    abstract_samples = []\n",
    "\n",
    "    for line in input_lines:\n",
    "        if line.startswith('###'):\n",
    "            abstract_id = line\n",
    "            abstract_lines = ''\n",
    "        elif line.isspace():\n",
    "            abstract_line_split = abstract_lines.splitlines()\n",
    "            \n",
    "            for abstract_line_number, abstract_line in enumerate(abstract_line_split):\n",
    "                target_text_split = abstract_line.split('\\t')\n",
    "                line_data = {\n",
    "                    'target': target_text_split[0],\n",
    "                    'text': target_text_split[1].lower(),\n",
    "                    'line_number': abstract_line_number,\n",
    "                    'total_lines': len(abstract_line_split) - 1\n",
    "                }\n",
    "                abstract_samples.append(line_data)\n",
    "        else:\n",
    "            abstract_lines += line\n",
    "\n",
    "    return abstract_samples"
   ]
  },
  {
   "cell_type": "code",
   "execution_count": 10,
   "id": "47d557af-621f-426b-b01a-85630464af91",
   "metadata": {},
   "outputs": [
    {
     "name": "stdout",
     "output_type": "stream",
     "text": [
      "CPU times: user 408 ms, sys: 37.9 ms, total: 446 ms\n",
      "Wall time: 449 ms\n"
     ]
    },
    {
     "data": {
      "text/plain": [
       "(180040, 30212, 30135)"
      ]
     },
     "execution_count": 10,
     "metadata": {},
     "output_type": "execute_result"
    }
   ],
   "source": [
    "%%time\n",
    "train_samples = preprocess_text_with_line_numbers(data_dir + 'train.txt')\n",
    "val_samples = preprocess_text_with_line_numbers(data_dir + 'dev.txt')\n",
    "test_samples = preprocess_text_with_line_numbers(data_dir + 'test.txt')\n",
    "\n",
    "len(train_samples), len(val_samples), len(test_samples)"
   ]
  },
  {
   "cell_type": "code",
   "execution_count": 11,
   "id": "6adc34fa-2d05-4058-9c53-195f92051892",
   "metadata": {},
   "outputs": [
    {
     "data": {
      "text/plain": [
       "[{'target': 'OBJECTIVE',\n",
       "  'text': 'to investigate the efficacy of @ weeks of daily low-dose oral prednisolone in improving pain , mobility , and systemic low-grade inflammation in the short term and whether the effect would be sustained at @ weeks in older adults with moderate to severe knee osteoarthritis ( oa ) .',\n",
       "  'line_number': 0,\n",
       "  'total_lines': 11},\n",
       " {'target': 'METHODS',\n",
       "  'text': 'a total of @ patients with primary knee oa were randomized @:@ ; @ received @ mg/day of prednisolone and @ received placebo for @ weeks .',\n",
       "  'line_number': 1,\n",
       "  'total_lines': 11},\n",
       " {'target': 'METHODS',\n",
       "  'text': 'outcome measures included pain reduction and improvement in function scores and systemic inflammation markers .',\n",
       "  'line_number': 2,\n",
       "  'total_lines': 11},\n",
       " {'target': 'METHODS',\n",
       "  'text': 'pain was assessed using the visual analog pain scale ( @-@ mm ) .',\n",
       "  'line_number': 3,\n",
       "  'total_lines': 11},\n",
       " {'target': 'METHODS',\n",
       "  'text': 'secondary outcome measures included the western ontario and mcmaster universities osteoarthritis index scores , patient global assessment ( pga ) of the severity of knee oa , and @-min walk distance ( @mwd ) .',\n",
       "  'line_number': 4,\n",
       "  'total_lines': 11},\n",
       " {'target': 'METHODS',\n",
       "  'text': 'serum levels of interleukin @ ( il-@ ) , il-@ , tumor necrosis factor ( tnf ) - , and high-sensitivity c-reactive protein ( hscrp ) were measured .',\n",
       "  'line_number': 5,\n",
       "  'total_lines': 11},\n",
       " {'target': 'RESULTS',\n",
       "  'text': 'there was a clinically relevant reduction in the intervention group compared to the placebo group for knee pain , physical function , pga , and @mwd at @ weeks .',\n",
       "  'line_number': 6,\n",
       "  'total_lines': 11},\n",
       " {'target': 'RESULTS',\n",
       "  'text': 'the mean difference between treatment arms ( @ % ci ) was @ ( @-@ @ ) , p < @ ; @ ( @-@ @ ) , p < @ ; @ ( @-@ @ ) , p < @ ; and @ ( @-@ @ ) , p < @ , respectively .',\n",
       "  'line_number': 7,\n",
       "  'total_lines': 11},\n",
       " {'target': 'RESULTS',\n",
       "  'text': 'further , there was a clinically relevant reduction in the serum levels of il-@ , il-@ , tnf - , and hscrp at @ weeks in the intervention group when compared to the placebo group .',\n",
       "  'line_number': 8,\n",
       "  'total_lines': 11},\n",
       " {'target': 'RESULTS',\n",
       "  'text': 'these differences remained significant at @ weeks .',\n",
       "  'line_number': 9,\n",
       "  'total_lines': 11},\n",
       " {'target': 'RESULTS',\n",
       "  'text': 'the outcome measures in rheumatology clinical trials-osteoarthritis research society international responder rate was @ % in the intervention group and @ % in the placebo group ( p < @ ) .',\n",
       "  'line_number': 10,\n",
       "  'total_lines': 11},\n",
       " {'target': 'CONCLUSIONS',\n",
       "  'text': 'low-dose oral prednisolone had both a short-term and a longer sustained effect resulting in less knee pain , better physical function , and attenuation of systemic inflammation in older patients with knee oa ( clinicaltrials.gov identifier nct@ ) .',\n",
       "  'line_number': 11,\n",
       "  'total_lines': 11},\n",
       " {'target': 'BACKGROUND',\n",
       "  'text': 'emotional eating is associated with overeating and the development of obesity .',\n",
       "  'line_number': 0,\n",
       "  'total_lines': 10},\n",
       " {'target': 'BACKGROUND',\n",
       "  'text': 'yet , empirical evidence for individual ( trait ) differences in emotional eating and cognitive mechanisms that contribute to eating during sad mood remain equivocal .',\n",
       "  'line_number': 1,\n",
       "  'total_lines': 10}]"
      ]
     },
     "execution_count": 11,
     "metadata": {},
     "output_type": "execute_result"
    }
   ],
   "source": [
    "train_samples[:14]"
   ]
  },
  {
   "cell_type": "code",
   "execution_count": 12,
   "id": "f3064077-b480-4d6e-b222-ead27b52ea7b",
   "metadata": {},
   "outputs": [
    {
     "data": {
      "text/html": [
       "<div>\n",
       "<style scoped>\n",
       "    .dataframe tbody tr th:only-of-type {\n",
       "        vertical-align: middle;\n",
       "    }\n",
       "\n",
       "    .dataframe tbody tr th {\n",
       "        vertical-align: top;\n",
       "    }\n",
       "\n",
       "    .dataframe thead th {\n",
       "        text-align: right;\n",
       "    }\n",
       "</style>\n",
       "<table border=\"1\" class=\"dataframe\">\n",
       "  <thead>\n",
       "    <tr style=\"text-align: right;\">\n",
       "      <th></th>\n",
       "      <th>target</th>\n",
       "      <th>text</th>\n",
       "      <th>line_number</th>\n",
       "      <th>total_lines</th>\n",
       "    </tr>\n",
       "  </thead>\n",
       "  <tbody>\n",
       "    <tr>\n",
       "      <th>0</th>\n",
       "      <td>OBJECTIVE</td>\n",
       "      <td>to investigate the efficacy of @ weeks of dail...</td>\n",
       "      <td>0</td>\n",
       "      <td>11</td>\n",
       "    </tr>\n",
       "    <tr>\n",
       "      <th>1</th>\n",
       "      <td>METHODS</td>\n",
       "      <td>a total of @ patients with primary knee oa wer...</td>\n",
       "      <td>1</td>\n",
       "      <td>11</td>\n",
       "    </tr>\n",
       "    <tr>\n",
       "      <th>2</th>\n",
       "      <td>METHODS</td>\n",
       "      <td>outcome measures included pain reduction and i...</td>\n",
       "      <td>2</td>\n",
       "      <td>11</td>\n",
       "    </tr>\n",
       "    <tr>\n",
       "      <th>3</th>\n",
       "      <td>METHODS</td>\n",
       "      <td>pain was assessed using the visual analog pain...</td>\n",
       "      <td>3</td>\n",
       "      <td>11</td>\n",
       "    </tr>\n",
       "    <tr>\n",
       "      <th>4</th>\n",
       "      <td>METHODS</td>\n",
       "      <td>secondary outcome measures included the wester...</td>\n",
       "      <td>4</td>\n",
       "      <td>11</td>\n",
       "    </tr>\n",
       "    <tr>\n",
       "      <th>5</th>\n",
       "      <td>METHODS</td>\n",
       "      <td>serum levels of interleukin @ ( il-@ ) , il-@ ...</td>\n",
       "      <td>5</td>\n",
       "      <td>11</td>\n",
       "    </tr>\n",
       "    <tr>\n",
       "      <th>6</th>\n",
       "      <td>RESULTS</td>\n",
       "      <td>there was a clinically relevant reduction in t...</td>\n",
       "      <td>6</td>\n",
       "      <td>11</td>\n",
       "    </tr>\n",
       "    <tr>\n",
       "      <th>7</th>\n",
       "      <td>RESULTS</td>\n",
       "      <td>the mean difference between treatment arms ( @...</td>\n",
       "      <td>7</td>\n",
       "      <td>11</td>\n",
       "    </tr>\n",
       "    <tr>\n",
       "      <th>8</th>\n",
       "      <td>RESULTS</td>\n",
       "      <td>further , there was a clinically relevant redu...</td>\n",
       "      <td>8</td>\n",
       "      <td>11</td>\n",
       "    </tr>\n",
       "    <tr>\n",
       "      <th>9</th>\n",
       "      <td>RESULTS</td>\n",
       "      <td>these differences remained significant at @ we...</td>\n",
       "      <td>9</td>\n",
       "      <td>11</td>\n",
       "    </tr>\n",
       "    <tr>\n",
       "      <th>10</th>\n",
       "      <td>RESULTS</td>\n",
       "      <td>the outcome measures in rheumatology clinical ...</td>\n",
       "      <td>10</td>\n",
       "      <td>11</td>\n",
       "    </tr>\n",
       "    <tr>\n",
       "      <th>11</th>\n",
       "      <td>CONCLUSIONS</td>\n",
       "      <td>low-dose oral prednisolone had both a short-te...</td>\n",
       "      <td>11</td>\n",
       "      <td>11</td>\n",
       "    </tr>\n",
       "    <tr>\n",
       "      <th>12</th>\n",
       "      <td>BACKGROUND</td>\n",
       "      <td>emotional eating is associated with overeating...</td>\n",
       "      <td>0</td>\n",
       "      <td>10</td>\n",
       "    </tr>\n",
       "    <tr>\n",
       "      <th>13</th>\n",
       "      <td>BACKGROUND</td>\n",
       "      <td>yet , empirical evidence for individual ( trai...</td>\n",
       "      <td>1</td>\n",
       "      <td>10</td>\n",
       "    </tr>\n",
       "  </tbody>\n",
       "</table>\n",
       "</div>"
      ],
      "text/plain": [
       "         target                                               text  \\\n",
       "0     OBJECTIVE  to investigate the efficacy of @ weeks of dail...   \n",
       "1       METHODS  a total of @ patients with primary knee oa wer...   \n",
       "2       METHODS  outcome measures included pain reduction and i...   \n",
       "3       METHODS  pain was assessed using the visual analog pain...   \n",
       "4       METHODS  secondary outcome measures included the wester...   \n",
       "5       METHODS  serum levels of interleukin @ ( il-@ ) , il-@ ...   \n",
       "6       RESULTS  there was a clinically relevant reduction in t...   \n",
       "7       RESULTS  the mean difference between treatment arms ( @...   \n",
       "8       RESULTS  further , there was a clinically relevant redu...   \n",
       "9       RESULTS  these differences remained significant at @ we...   \n",
       "10      RESULTS  the outcome measures in rheumatology clinical ...   \n",
       "11  CONCLUSIONS  low-dose oral prednisolone had both a short-te...   \n",
       "12   BACKGROUND  emotional eating is associated with overeating...   \n",
       "13   BACKGROUND  yet , empirical evidence for individual ( trai...   \n",
       "\n",
       "    line_number  total_lines  \n",
       "0             0           11  \n",
       "1             1           11  \n",
       "2             2           11  \n",
       "3             3           11  \n",
       "4             4           11  \n",
       "5             5           11  \n",
       "6             6           11  \n",
       "7             7           11  \n",
       "8             8           11  \n",
       "9             9           11  \n",
       "10           10           11  \n",
       "11           11           11  \n",
       "12            0           10  \n",
       "13            1           10  "
      ]
     },
     "execution_count": 12,
     "metadata": {},
     "output_type": "execute_result"
    }
   ],
   "source": [
    "import pandas as pd\n",
    "\n",
    "train_df = pd.DataFrame(train_samples)\n",
    "val_df = pd.DataFrame(val_samples)\n",
    "test_df = pd.DataFrame(test_samples)\n",
    "\n",
    "train_df.head(14)"
   ]
  },
  {
   "cell_type": "code",
   "execution_count": 13,
   "id": "c9084ce2-c68e-40f6-a928-134ea505096c",
   "metadata": {},
   "outputs": [
    {
     "data": {
      "text/plain": [
       "METHODS        59353\n",
       "RESULTS        57953\n",
       "CONCLUSIONS    27168\n",
       "BACKGROUND     21727\n",
       "OBJECTIVE      13839\n",
       "Name: target, dtype: int64"
      ]
     },
     "execution_count": 13,
     "metadata": {},
     "output_type": "execute_result"
    }
   ],
   "source": [
    "train_df.target.value_counts()"
   ]
  },
  {
   "cell_type": "code",
   "execution_count": 14,
   "id": "8d0afbb2-8b45-4d35-bedc-7711af78983e",
   "metadata": {},
   "outputs": [
    {
     "data": {
      "image/png": "[encoded data removed]",
      "text/plain": [
       "<Figure size 640x480 with 1 Axes>"
      ]
     },
     "metadata": {},
     "output_type": "display_data"
    }
   ],
   "source": [
    "train_df.total_lines.plot.hist();"
   ]
  },
  {
   "cell_type": "markdown",
   "id": "3b590145-ed4a-4714-b594-9364503e9b09",
   "metadata": {},
   "source": [
    "### Get Lists of Sentences"
   ]
  },
  {
   "cell_type": "code",
   "execution_count": 15,
   "id": "c91fc0f2-29d4-418d-be2c-e96372923c0a",
   "metadata": {},
   "outputs": [
    {
     "data": {
      "text/plain": [
       "(180040, 30212, 30135)"
      ]
     },
     "execution_count": 15,
     "metadata": {},
     "output_type": "execute_result"
    }
   ],
   "source": [
    "train_sentences = train_df['text'].to_list()\n",
    "val_sentences = val_df['text'].to_list()\n",
    "test_sentences = test_df['text'].to_list()\n",
    "\n",
    "len(train_sentences), len(val_sentences), len(test_sentences)"
   ]
  },
  {
   "cell_type": "code",
   "execution_count": 16,
   "id": "028c0cb3-c68f-4932-be55-6198a83b4fdc",
   "metadata": {},
   "outputs": [
    {
     "data": {
      "text/plain": [
       "['to investigate the efficacy of @ weeks of daily low-dose oral prednisolone in improving pain , mobility , and systemic low-grade inflammation in the short term and whether the effect would be sustained at @ weeks in older adults with moderate to severe knee osteoarthritis ( oa ) .',\n",
       " 'a total of @ patients with primary knee oa were randomized @:@ ; @ received @ mg/day of prednisolone and @ received placebo for @ weeks .',\n",
       " 'outcome measures included pain reduction and improvement in function scores and systemic inflammation markers .',\n",
       " 'pain was assessed using the visual analog pain scale ( @-@ mm ) .',\n",
       " 'secondary outcome measures included the western ontario and mcmaster universities osteoarthritis index scores , patient global assessment ( pga ) of the severity of knee oa , and @-min walk distance ( @mwd ) .',\n",
       " 'serum levels of interleukin @ ( il-@ ) , il-@ , tumor necrosis factor ( tnf ) - , and high-sensitivity c-reactive protein ( hscrp ) were measured .',\n",
       " 'there was a clinically relevant reduction in the intervention group compared to the placebo group for knee pain , physical function , pga , and @mwd at @ weeks .',\n",
       " 'the mean difference between treatment arms ( @ % ci ) was @ ( @-@ @ ) , p < @ ; @ ( @-@ @ ) , p < @ ; @ ( @-@ @ ) , p < @ ; and @ ( @-@ @ ) , p < @ , respectively .',\n",
       " 'further , there was a clinically relevant reduction in the serum levels of il-@ , il-@ , tnf - , and hscrp at @ weeks in the intervention group when compared to the placebo group .',\n",
       " 'these differences remained significant at @ weeks .']"
      ]
     },
     "execution_count": 16,
     "metadata": {},
     "output_type": "execute_result"
    }
   ],
   "source": [
    "train_sentences[:10]"
   ]
  },
  {
   "cell_type": "markdown",
   "id": "69105ae1-4afc-41e6-8002-ad39987db0f2",
   "metadata": {},
   "source": [
    "## Making Numeric Labels"
   ]
  },
  {
   "cell_type": "code",
   "execution_count": 17,
   "id": "9badb585-9880-4a70-bf67-f3cd7f6cde30",
   "metadata": {},
   "outputs": [
    {
     "data": {
      "text/plain": [
       "array([[0., 0., 0., 1., 0.],\n",
       "       [0., 0., 1., 0., 0.],\n",
       "       [0., 0., 1., 0., 0.],\n",
       "       ...,\n",
       "       [0., 0., 0., 0., 1.],\n",
       "       [0., 1., 0., 0., 0.],\n",
       "       [0., 1., 0., 0., 0.]])"
      ]
     },
     "execution_count": 17,
     "metadata": {},
     "output_type": "execute_result"
    }
   ],
   "source": [
    "# One-hot encode the labels\n",
    "from sklearn.preprocessing import OneHotEncoder\n",
    "\n",
    "one_hot_encoder = OneHotEncoder(sparse_output=False)\n",
    "\n",
    "train_labels_one_hot = one_hot_encoder.fit_transform(train_df['target'].to_numpy().reshape(-1, 1))\n",
    "val_labels_one_hot = one_hot_encoder.fit_transform(val_df['target'].to_numpy().reshape(-1, 1))\n",
    "test_labels_one_hot = one_hot_encoder.fit_transform(test_df['target'].to_numpy().reshape(-1, 1))\n",
    "\n",
    "train_labels_one_hot"
   ]
  },
  {
   "cell_type": "code",
   "execution_count": 18,
   "id": "0c203536-cd57-4247-80cf-5c5e77a753a6",
   "metadata": {},
   "outputs": [
    {
     "data": {
      "text/plain": [
       "array([3, 2, 2, ..., 4, 1, 1])"
      ]
     },
     "execution_count": 18,
     "metadata": {},
     "output_type": "execute_result"
    }
   ],
   "source": [
    "# Label encode the labels\n",
    "from sklearn.preprocessing import LabelEncoder\n",
    "\n",
    "label_encoder = LabelEncoder()\n",
    "\n",
    "train_labels_encoded = label_encoder.fit_transform(train_df['target'].to_numpy())\n",
    "val_labels_encoded = label_encoder.fit_transform(val_df['target'].to_numpy())\n",
    "test_labels_encoded = label_encoder.fit_transform(test_df['target'].to_numpy())\n",
    "\n",
    "train_labels_encoded"
   ]
  },
  {
   "cell_type": "code",
   "execution_count": 19,
   "id": "e302f7dd-87e5-4169-8122-0c2bc4f2a050",
   "metadata": {},
   "outputs": [
    {
     "data": {
      "text/plain": [
       "(5,\n",
       " array(['BACKGROUND', 'CONCLUSIONS', 'METHODS', 'OBJECTIVE', 'RESULTS'],\n",
       "       dtype=object))"
      ]
     },
     "execution_count": 19,
     "metadata": {},
     "output_type": "execute_result"
    }
   ],
   "source": [
    "# Get class names and number of classes from the LabelEncoder instance\n",
    "num_classes = len(label_encoder.classes_)\n",
    "class_names = label_encoder.classes_\n",
    "\n",
    "num_classes, class_names"
   ]
  },
  {
   "cell_type": "markdown",
   "id": "44a946a9-fd2f-4f98-95c2-9af453f91012",
   "metadata": {},
   "source": [
    "## Performing the Modelling Experiments\n",
    "\n",
    "* Model 0: Naive Bayes with TF-IDF encoder (baseline)\n",
    "* Model 1: Conv1D with token embeddings\n",
    "* Model 2: Pre-trained Feature Extractor\n",
    "* Model 3: Conv1D with character embeddings\n",
    "* Model 4: Pre-trained token embeddings + character embeddings\n",
    "* Model 5: Pre-trained token + character + positional embeddings"
   ]
  },
  {
   "cell_type": "markdown",
   "id": "4e88441c-8432-498c-9b50-914c8da91103",
   "metadata": {},
   "source": [
    "### Model 0: Get a Baseline\n",
    "\n",
    "For reference, check out: https://chrisalbon.com/Home"
   ]
  },
  {
   "cell_type": "code",
   "execution_count": 20,
   "id": "49df627b-d762-4994-bbb8-ebe872656645",
   "metadata": {},
   "outputs": [
    {
     "data": {
      "text/html": [
       "<style>#sk-container-id-1 {color: black;background-color: white;}#sk-container-id-1 pre{padding: 0;}#sk-container-id-1 div.sk-toggleable {background-color: white;}#sk-container-id-1 label.sk-toggleable__label {cursor: pointer;display: block;width: 100%;margin-bottom: 0;padding: 0.3em;box-sizing: border-box;text-align: center;}#sk-container-id-1 label.sk-toggleable__label-arrow:before {content: \"▸\";float: left;margin-right: 0.25em;color: #696969;}#sk-container-id-1 label.sk-toggleable__label-arrow:hover:before {color: black;}#sk-container-id-1 div.sk-estimator:hover label.sk-toggleable__label-arrow:before {color: black;}#sk-container-id-1 div.sk-toggleable__content {max-height: 0;max-width: 0;overflow: hidden;text-align: left;background-color: #f0f8ff;}#sk-container-id-1 div.sk-toggleable__content pre {margin: 0.2em;color: black;border-radius: 0.25em;background-color: #f0f8ff;}#sk-container-id-1 input.sk-toggleable__control:checked~div.sk-toggleable__content {max-height: 200px;max-width: 100%;overflow: auto;}#sk-container-id-1 input.sk-toggleable__control:checked~label.sk-toggleable__label-arrow:before {content: \"▾\";}#sk-container-id-1 div.sk-estimator input.sk-toggleable__control:checked~label.sk-toggleable__label {background-color: #d4ebff;}#sk-container-id-1 div.sk-label input.sk-toggleable__control:checked~label.sk-toggleable__label {background-color: #d4ebff;}#sk-container-id-1 input.sk-hidden--visually {border: 0;clip: rect(1px 1px 1px 1px);clip: rect(1px, 1px, 1px, 1px);height: 1px;margin: -1px;overflow: hidden;padding: 0;position: absolute;width: 1px;}#sk-container-id-1 div.sk-estimator {font-family: monospace;background-color: #f0f8ff;border: 1px dotted black;border-radius: 0.25em;box-sizing: border-box;margin-bottom: 0.5em;}#sk-container-id-1 div.sk-estimator:hover {background-color: #d4ebff;}#sk-container-id-1 div.sk-parallel-item::after {content: \"\";width: 100%;border-bottom: 1px solid gray;flex-grow: 1;}#sk-container-id-1 div.sk-label:hover label.sk-toggleable__label {background-color: #d4ebff;}#sk-container-id-1 div.sk-serial::before {content: \"\";position: absolute;border-left: 1px solid gray;box-sizing: border-box;top: 0;bottom: 0;left: 50%;z-index: 0;}#sk-container-id-1 div.sk-serial {display: flex;flex-direction: column;align-items: center;background-color: white;padding-right: 0.2em;padding-left: 0.2em;position: relative;}#sk-container-id-1 div.sk-item {position: relative;z-index: 1;}#sk-container-id-1 div.sk-parallel {display: flex;align-items: stretch;justify-content: center;background-color: white;position: relative;}#sk-container-id-1 div.sk-item::before, #sk-container-id-1 div.sk-parallel-item::before {content: \"\";position: absolute;border-left: 1px solid gray;box-sizing: border-box;top: 0;bottom: 0;left: 50%;z-index: -1;}#sk-container-id-1 div.sk-parallel-item {display: flex;flex-direction: column;z-index: 1;position: relative;background-color: white;}#sk-container-id-1 div.sk-parallel-item:first-child::after {align-self: flex-end;width: 50%;}#sk-container-id-1 div.sk-parallel-item:last-child::after {align-self: flex-start;width: 50%;}#sk-container-id-1 div.sk-parallel-item:only-child::after {width: 0;}#sk-container-id-1 div.sk-dashed-wrapped {border: 1px dashed gray;margin: 0 0.4em 0.5em 0.4em;box-sizing: border-box;padding-bottom: 0.4em;background-color: white;}#sk-container-id-1 div.sk-label label {font-family: monospace;font-weight: bold;display: inline-block;line-height: 1.2em;}#sk-container-id-1 div.sk-label-container {text-align: center;}#sk-container-id-1 div.sk-container {/* jupyter's `normalize.less` sets `[hidden] { display: none; }` but bootstrap.min.css set `[hidden] { display: none !important; }` so we also need the `!important` here to be able to override the default hidden behavior on the sphinx rendered scikit-learn.org. See: https://github.com/scikit-learn/scikit-learn/issues/21755 */display: inline-block !important;position: relative;}#sk-container-id-1 div.sk-text-repr-fallback {display: none;}</style><div id=\"sk-container-id-1\" class=\"sk-top-container\"><div class=\"sk-text-repr-fallback\"><pre>Pipeline(steps=[(&#x27;tf-idf&#x27;, TfidfVectorizer()), (&#x27;clf&#x27;, MultinomialNB())])</pre><b>In a Jupyter environment, please rerun this cell to show the HTML representation or trust the notebook. <br />On GitHub, the HTML representation is unable to render, please try loading this page with nbviewer.org.</b></div><div class=\"sk-container\" hidden><div class=\"sk-item sk-dashed-wrapped\"><div class=\"sk-label-container\"><div class=\"sk-label sk-toggleable\"><input class=\"sk-toggleable__control sk-hidden--visually\" id=\"sk-estimator-id-1\" type=\"checkbox\" ><label for=\"sk-estimator-id-1\" class=\"sk-toggleable__label sk-toggleable__label-arrow\">Pipeline</label><div class=\"sk-toggleable__content\"><pre>Pipeline(steps=[(&#x27;tf-idf&#x27;, TfidfVectorizer()), (&#x27;clf&#x27;, MultinomialNB())])</pre></div></div></div><div class=\"sk-serial\"><div class=\"sk-item\"><div class=\"sk-estimator sk-toggleable\"><input class=\"sk-toggleable__control sk-hidden--visually\" id=\"sk-estimator-id-2\" type=\"checkbox\" ><label for=\"sk-estimator-id-2\" class=\"sk-toggleable__label sk-toggleable__label-arrow\">TfidfVectorizer</label><div class=\"sk-toggleable__content\"><pre>TfidfVectorizer()</pre></div></div></div><div class=\"sk-item\"><div class=\"sk-estimator sk-toggleable\"><input class=\"sk-toggleable__control sk-hidden--visually\" id=\"sk-estimator-id-3\" type=\"checkbox\" ><label for=\"sk-estimator-id-3\" class=\"sk-toggleable__label sk-toggleable__label-arrow\">MultinomialNB</label><div class=\"sk-toggleable__content\"><pre>MultinomialNB()</pre></div></div></div></div></div></div></div>"
      ],
      "text/plain": [
       "Pipeline(steps=[('tf-idf', TfidfVectorizer()), ('clf', MultinomialNB())])"
      ]
     },
     "execution_count": 20,
     "metadata": {},
     "output_type": "execute_result"
    }
   ],
   "source": [
    "from sklearn.feature_extraction.text import TfidfVectorizer\n",
    "from sklearn.naive_bayes import MultinomialNB\n",
    "from sklearn.pipeline import Pipeline\n",
    "\n",
    "model_0 = Pipeline([\n",
    "    ('tf-idf', TfidfVectorizer()),\n",
    "    ('clf', MultinomialNB())\n",
    "])\n",
    "\n",
    "model_0.fit(\n",
    "    X=train_sentences,\n",
    "    y=train_labels_encoded\n",
    ")"
   ]
  },
  {
   "cell_type": "code",
   "execution_count": 21,
   "id": "b04cb652-f219-4033-9d61-16cbffeaef9a",
   "metadata": {},
   "outputs": [
    {
     "data": {
      "text/plain": [
       "0.7218323844829869"
      ]
     },
     "execution_count": 21,
     "metadata": {},
     "output_type": "execute_result"
    }
   ],
   "source": [
    "model_0.score(\n",
    "    X=val_sentences,\n",
    "    y=val_labels_encoded\n",
    ")"
   ]
  },
  {
   "cell_type": "code",
   "execution_count": 22,
   "id": "c59a7d4a-772a-4d34-a1d1-3d2635a5a6fe",
   "metadata": {},
   "outputs": [
    {
     "data": {
      "text/plain": [
       "array([4, 1, 3, ..., 4, 4, 1])"
      ]
     },
     "execution_count": 22,
     "metadata": {},
     "output_type": "execute_result"
    }
   ],
   "source": [
    "baseline_preds = model_0.predict(val_sentences)\n",
    "baseline_preds"
   ]
  },
  {
   "cell_type": "code",
   "execution_count": 23,
   "id": "9863c13a-c771-4657-93e9-4e657a94f21a",
   "metadata": {},
   "outputs": [
    {
     "data": {
      "text/plain": [
       "array([0, 0, 3, ..., 4, 1, 1])"
      ]
     },
     "execution_count": 23,
     "metadata": {},
     "output_type": "execute_result"
    }
   ],
   "source": [
    "val_labels_encoded"
   ]
  },
  {
   "cell_type": "markdown",
   "id": "e9a7c6e8-be3c-4d2d-9ca2-a9534cc4c633",
   "metadata": {},
   "source": [
    "### Download and Load the Helper Functions\n",
    "\n",
    "The helper functions are available here: https://github.com/mrdbourke/tensorflow-deep-learning/blob/main/extras/helper_functions.py"
   ]
  },
  {
   "cell_type": "code",
   "execution_count": 3,
   "id": "77a4a571-e870-4994-9477-f1758bebec34",
   "metadata": {},
   "outputs": [],
   "source": [
    "from helper_functions import calculate_results"
   ]
  },
  {
   "cell_type": "code",
   "execution_count": 25,
   "id": "6fbad9a6-12c1-4ce6-b39d-30b68ebbb025",
   "metadata": {},
   "outputs": [
    {
     "data": {
      "text/plain": [
       "{'accuracy': 72.1832384482987,\n",
       " 'precision': 0.7186466952323352,\n",
       " 'recall': 0.7218323844829869,\n",
       " 'f1': 0.6989250353450294}"
      ]
     },
     "execution_count": 25,
     "metadata": {},
     "output_type": "execute_result"
    }
   ],
   "source": [
    "baseline_results = calculate_results(\n",
    "    y_true=val_labels_encoded,\n",
    "    y_pred=baseline_preds\n",
    ")\n",
    "baseline_results"
   ]
  },
  {
   "cell_type": "markdown",
   "id": "a9efcac7-4de9-4a82-a970-e05bec8df61a",
   "metadata": {},
   "source": [
    "### Preparing the Data for Deep Sequence Models"
   ]
  },
  {
   "cell_type": "code",
   "execution_count": 4,
   "id": "39723fb3-584f-43bf-8c40-d6a6da210c77",
   "metadata": {},
   "outputs": [],
   "source": [
    "import numpy as np\n",
    "import tensorflow as tf\n",
    "\n",
    "from tensorflow import keras\n",
    "from tensorflow.keras import layers"
   ]
  },
  {
   "cell_type": "code",
   "execution_count": 27,
   "id": "c45e94e3-4169-41ad-b263-188a29993d5e",
   "metadata": {},
   "outputs": [
    {
     "data": {
      "text/plain": [
       "26.338269273494777"
      ]
     },
     "execution_count": 27,
     "metadata": {},
     "output_type": "execute_result"
    }
   ],
   "source": [
    "# Get the average length of the sentences\n",
    "np.mean([len(sentence.split()) for sentence in train_sentences])"
   ]
  },
  {
   "cell_type": "code",
   "execution_count": 28,
   "id": "41e608ee-f643-4cb7-b12e-526d54db4888",
   "metadata": {},
   "outputs": [
    {
     "data": {
      "text/plain": [
       "(array([4.2075e+04, 8.3771e+04, 3.6877e+04, 1.0945e+04, 3.9310e+03,\n",
       "        1.4450e+03, 5.6000e+02, 2.2600e+02, 1.0100e+02, 4.5000e+01,\n",
       "        2.0000e+01, 1.2000e+01, 9.0000e+00, 1.0000e+01, 6.0000e+00,\n",
       "        2.0000e+00, 3.0000e+00, 0.0000e+00, 1.0000e+00, 1.0000e+00]),\n",
       " array([  1.  ,  15.75,  30.5 ,  45.25,  60.  ,  74.75,  89.5 , 104.25,\n",
       "        119.  , 133.75, 148.5 , 163.25, 178.  , 192.75, 207.5 , 222.25,\n",
       "        237.  , 251.75, 266.5 , 281.25, 296.  ]),\n",
       " <BarContainer object of 20 artists>)"
      ]
     },
     "execution_count": 28,
     "metadata": {},
     "output_type": "execute_result"
    },
    {
     "data": {
      "image/png": "[encoded data removed]",
      "text/plain": [
       "<Figure size 640x480 with 1 Axes>"
      ]
     },
     "metadata": {},
     "output_type": "display_data"
    }
   ],
   "source": [
    "import matplotlib.pyplot as plt\n",
    "\n",
    "plt.hist([len(sentence.split()) for sentence in train_sentences], bins=20)"
   ]
  },
  {
   "cell_type": "code",
   "execution_count": 29,
   "id": "f91088f7-e1a2-4bf0-9565-b91e44421a3d",
   "metadata": {},
   "outputs": [
    {
     "data": {
      "text/plain": [
       "55"
      ]
     },
     "execution_count": 29,
     "metadata": {},
     "output_type": "execute_result"
    }
   ],
   "source": [
    "# Check how long 95% of the sentences are\n",
    "output_seq_len = int(np.percentile([\n",
    "    len(sentence.split()) for sentence in train_sentences\n",
    "], 95))\n",
    "\n",
    "output_seq_len"
   ]
  },
  {
   "cell_type": "markdown",
   "id": "477b107b-dd92-46f0-b858-fbef1ea3c99a",
   "metadata": {},
   "source": [
    "For more information: https://numpy.org/doc/stable/reference/generated/numpy.percentile.html"
   ]
  },
  {
   "cell_type": "code",
   "execution_count": 30,
   "id": "399f7607-c7fa-493a-bc89-59db707ba1bb",
   "metadata": {},
   "outputs": [
    {
     "data": {
      "text/plain": [
       "296"
      ]
     },
     "execution_count": 30,
     "metadata": {},
     "output_type": "execute_result"
    }
   ],
   "source": [
    "# Check the maximum sequence length in the training set\n",
    "max([len(sentence.split()) for sentence in train_sentences])"
   ]
  },
  {
   "cell_type": "markdown",
   "id": "5b0e1631-3cff-4756-81b7-eb98ce4898c7",
   "metadata": {},
   "source": [
    "#### Creating the Text Vectorization Layer\n",
    "\n",
    "The vocabulary size of:\n",
    "\n",
    "* PubMed 20k = 68k\n",
    "* PubMed 200k = 331k"
   ]
  },
  {
   "cell_type": "code",
   "execution_count": 31,
   "id": "257f1643-d88a-437c-9d78-e3c74cf88968",
   "metadata": {},
   "outputs": [],
   "source": [
    "max_tokens = 68000    # PubMed 20k dataset"
   ]
  },
  {
   "cell_type": "code",
   "execution_count": 32,
   "id": "b102643a-35a8-461f-b014-eb8b3cd36ebb",
   "metadata": {},
   "outputs": [],
   "source": [
    "text_vectorization_layer = layers.TextVectorization(\n",
    "    max_tokens=max_tokens,\n",
    "    output_mode='int',\n",
    "    output_sequence_length=output_seq_len\n",
    ")"
   ]
  },
  {
   "cell_type": "code",
   "execution_count": 33,
   "id": "617be3ff-f082-4590-af02-1e8e7d627458",
   "metadata": {},
   "outputs": [],
   "source": [
    "# Adapt text vectorizer to the training sentences\n",
    "text_vectorization_layer.adapt(train_sentences)"
   ]
  },
  {
   "cell_type": "code",
   "execution_count": 34,
   "id": "89fbea55-4a15-46c4-9d89-7b02e3549629",
   "metadata": {},
   "outputs": [
    {
     "name": "stdout",
     "output_type": "stream",
     "text": [
      "Text:\n",
      "\"no major adverse occurrences , as defined by the study protocol , were reported from the acupuncture group although one woman found the needling uncomfortable , and no study participant experienced an increase in swelling of > @ % .\"\n",
      "\n",
      "Length of text: 40\n",
      "\n",
      "Vectorized text:\n",
      "[[   33   347   118 10639    25   472    22     2    17   402     9   205\n",
      "     27     2   373    13   311    88  5942   208     2  2233 14331     3\n",
      "     33    17  1276   581    26   179     5  3046     4     0     0     0\n",
      "      0     0     0     0     0     0     0     0     0     0     0     0\n",
      "      0     0     0     0     0     0     0]]\n"
     ]
    }
   ],
   "source": [
    "# Test the text vectorizer on random sentences\n",
    "import random\n",
    "\n",
    "target_sentence = random.choice(train_sentences)\n",
    "print(f'Text:\\n\"{target_sentence}\"')\n",
    "print(f'\\nLength of text: {len(target_sentence.split())}')\n",
    "print(f'\\nVectorized text:\\n{text_vectorization_layer([target_sentence])}')"
   ]
  },
  {
   "cell_type": "code",
   "execution_count": 35,
   "id": "8b15b076-c216-41c7-9d6b-f720623de854",
   "metadata": {},
   "outputs": [
    {
     "name": "stdout",
     "output_type": "stream",
     "text": [
      "Number of words in the vocabulary: 64841\n",
      "Most common words in the vocab: ['', '[UNK]', 'the', 'and', 'of']\n",
      "Least common words in the vocab: ['aainduced', 'aaigroup', 'aachener', 'aachen', 'aaacp']\n"
     ]
    }
   ],
   "source": [
    "# Check the number of words in the training vocabulary\n",
    "rct_20k_text_vocab = text_vectorization_layer.get_vocabulary()\n",
    "print(f'Number of words in the vocabulary: {len(rct_20k_text_vocab)}')\n",
    "print(f'Most common words in the vocab: {rct_20k_text_vocab[:5]}')\n",
    "print(f'Least common words in the vocab: {rct_20k_text_vocab[-5:]}')"
   ]
  },
  {
   "cell_type": "code",
   "execution_count": 36,
   "id": "ba9287b9-85ae-4aca-8c51-8e3516f167ab",
   "metadata": {},
   "outputs": [
    {
     "data": {
      "text/plain": [
       "{'name': 'text_vectorization',\n",
       " 'trainable': True,\n",
       " 'dtype': 'string',\n",
       " 'batch_input_shape': (None,),\n",
       " 'max_tokens': 68000,\n",
       " 'standardize': 'lower_and_strip_punctuation',\n",
       " 'split': 'whitespace',\n",
       " 'ngrams': None,\n",
       " 'output_mode': 'int',\n",
       " 'output_sequence_length': 55,\n",
       " 'pad_to_max_tokens': False,\n",
       " 'sparse': False,\n",
       " 'ragged': False,\n",
       " 'vocabulary': None,\n",
       " 'idf_weights': None,\n",
       " 'encoding': 'utf-8',\n",
       " 'vocabulary_size': 64841}"
      ]
     },
     "execution_count": 36,
     "metadata": {},
     "output_type": "execute_result"
    }
   ],
   "source": [
    "text_vectorization_layer.get_config()"
   ]
  },
  {
   "cell_type": "markdown",
   "id": "230290a3-9cee-4747-ba3d-41426eaef9a4",
   "metadata": {},
   "source": [
    "#### Creating the Custom Token Embedding Layer"
   ]
  },
  {
   "cell_type": "code",
   "execution_count": 37,
   "id": "b2766649-69a4-4dc7-9dd3-6a451194bf5c",
   "metadata": {},
   "outputs": [],
   "source": [
    "token_embed = layers.Embedding(\n",
    "    input_dim=len(rct_20k_text_vocab),\n",
    "    output_dim=128,\n",
    "    mask_zero=True,\n",
    "    name='token_embedding_layer'\n",
    ")"
   ]
  },
  {
   "cell_type": "code",
   "execution_count": 38,
   "id": "91a46088-4f0d-43a1-ac9b-5c91ec12fda2",
   "metadata": {},
   "outputs": [
    {
     "name": "stdout",
     "output_type": "stream",
     "text": [
      "Sentence before vectorization:\n",
      "\"no major adverse occurrences , as defined by the study protocol , were reported from the acupuncture group although one woman found the needling uncomfortable , and no study participant experienced an increase in swelling of > @ % .\"\n",
      "\n",
      "Sentence after vectorization (before embedding):\n",
      "[[   33   347   118 10639    25   472    22     2    17   402     9   205\n",
      "     27     2   373    13   311    88  5942   208     2  2233 14331     3\n",
      "     33    17  1276   581    26   179     5  3046     4     0     0     0\n",
      "      0     0     0     0     0     0     0     0     0     0     0     0\n",
      "      0     0     0     0     0     0     0]]\n",
      "\n",
      "Sentence after embedding:\n",
      "[[[ 0.04512676  0.03001421 -0.01486202 ...  0.03721819 -0.01012977\n",
      "    0.02893213]\n",
      "  [ 0.02161742 -0.03582425  0.02320168 ... -0.03745623 -0.04014815\n",
      "   -0.01405487]\n",
      "  [ 0.00819992  0.01085467  0.00459565 ...  0.01568636 -0.02781228\n",
      "    0.03034103]\n",
      "  ...\n",
      "  [-0.00416742 -0.00737026  0.04979238 ... -0.03042125 -0.03704349\n",
      "    0.0292425 ]\n",
      "  [-0.00416742 -0.00737026  0.04979238 ... -0.03042125 -0.03704349\n",
      "    0.0292425 ]\n",
      "  [-0.00416742 -0.00737026  0.04979238 ... -0.03042125 -0.03704349\n",
      "    0.0292425 ]]]\n",
      "\n",
      "Embedded sentence shape: (1, 55, 128)\n"
     ]
    }
   ],
   "source": [
    "print(f'Sentence before vectorization:\\n\"{target_sentence}\"\\n')\n",
    "vectorized_sentence = text_vectorization_layer([target_sentence])\n",
    "print(f'Sentence after vectorization (before embedding):\\n{vectorized_sentence}\\n')\n",
    "embedded_sentence = token_embed(vectorized_sentence)\n",
    "print(f'Sentence after embedding:\\n{embedded_sentence}\\n')\n",
    "print(f'Embedded sentence shape: {embedded_sentence.shape}')"
   ]
  },
  {
   "cell_type": "markdown",
   "id": "950d7667-1e4d-47c7-ba8c-355cd5ee5d92",
   "metadata": {},
   "source": [
    "### Creating Datasets (To Optimize Data Loads)"
   ]
  },
  {
   "cell_type": "code",
   "execution_count": 39,
   "id": "f303a676-a2a3-4729-8b09-1d523b83d11c",
   "metadata": {},
   "outputs": [
    {
     "data": {
      "text/plain": [
       "<_TensorSliceDataset element_spec=(TensorSpec(shape=(), dtype=tf.string, name=None), TensorSpec(shape=(5,), dtype=tf.float64, name=None))>"
      ]
     },
     "execution_count": 39,
     "metadata": {},
     "output_type": "execute_result"
    }
   ],
   "source": [
    "train_dataset = tf.data.Dataset.from_tensor_slices((train_sentences, train_labels_one_hot))\n",
    "valid_dataset = tf.data.Dataset.from_tensor_slices((val_sentences, val_labels_one_hot))\n",
    "test_dataset = tf.data.Dataset.from_tensor_slices((test_sentences, test_labels_one_hot))\n",
    "\n",
    "train_dataset"
   ]
  },
  {
   "cell_type": "code",
   "execution_count": 40,
   "id": "9c235c41-f837-4ac2-8e55-228088763890",
   "metadata": {},
   "outputs": [
    {
     "data": {
      "text/plain": [
       "<_PrefetchDataset element_spec=(TensorSpec(shape=(None,), dtype=tf.string, name=None), TensorSpec(shape=(None, 5), dtype=tf.float64, name=None))>"
      ]
     },
     "execution_count": 40,
     "metadata": {},
     "output_type": "execute_result"
    }
   ],
   "source": [
    "AUTOTUNE = tf.data.AUTOTUNE\n",
    "\n",
    "train_dataset = train_dataset.batch(32).prefetch(AUTOTUNE)\n",
    "valid_dataset = valid_dataset.batch(32).prefetch(AUTOTUNE)\n",
    "test_dataset = test_dataset.batch(32).prefetch(AUTOTUNE)\n",
    "\n",
    "train_dataset"
   ]
  },
  {
   "cell_type": "markdown",
   "id": "1c8d5c37-4c34-4edb-9470-a232f513174d",
   "metadata": {},
   "source": [
    "### Model 1: Conv1D with Token Embeddings"
   ]
  },
  {
   "cell_type": "code",
   "execution_count": 41,
   "id": "df8a099c-2006-45e9-a05f-245f851cd0b3",
   "metadata": {},
   "outputs": [
    {
     "name": "stdout",
     "output_type": "stream",
     "text": [
      "Model: \"skimlit_model_1\"\n",
      "_________________________________________________________________\n",
      " Layer (type)                Output Shape              Param #   \n",
      "=================================================================\n",
      " input_layer (InputLayer)    [(None, 1)]               0         \n",
      "                                                                 \n",
      " text_vectorization (TextVe  (None, 55)                0         \n",
      " ctorization)                                                    \n",
      "                                                                 \n",
      " token_embedding_layer (Emb  (None, 55, 128)           8299648   \n",
      " edding)                                                         \n",
      "                                                                 \n",
      " conv1d (Conv1D)             (None, 55, 64)            41024     \n",
      "                                                                 \n",
      " global_average_pooling1d (  (None, 64)                0         \n",
      " GlobalAveragePooling1D)                                         \n",
      "                                                                 \n",
      " output_layer (Dense)        (None, 5)                 325       \n",
      "                                                                 \n",
      "=================================================================\n",
      "Total params: 8340997 (31.82 MB)\n",
      "Trainable params: 8340997 (31.82 MB)\n",
      "Non-trainable params: 0 (0.00 Byte)\n",
      "_________________________________________________________________\n"
     ]
    }
   ],
   "source": [
    "inputs = layers.Input(shape=(1,), dtype='string', name='input_layer')\n",
    "text_vectors = text_vectorization_layer(inputs)\n",
    "token_embeddings = token_embed(text_vectors)\n",
    "x = layers.Conv1D(64, kernel_size=5, padding='same', activation='relu')(token_embeddings)\n",
    "x = layers.GlobalAveragePooling1D()(x)\n",
    "outputs = layers.Dense(num_classes, activation='softmax', name='output_layer')(x)\n",
    "\n",
    "model_1 = tf.keras.Model(inputs, outputs, name='skimlit_model_1')\n",
    "\n",
    "model_1.compile(\n",
    "    loss='categorical_crossentropy',\n",
    "    optimizer=tf.keras.optimizers.legacy.Adam(),\n",
    "    metrics=['accuracy']\n",
    ")\n",
    "\n",
    "model_1.summary()"
   ]
  },
  {
   "cell_type": "code",
   "execution_count": 42,
   "id": "c9fde868-9a9d-4c46-ba37-14ac835f9f35",
   "metadata": {},
   "outputs": [
    {
     "name": "stdout",
     "output_type": "stream",
     "text": [
      "Epoch 1/3\n",
      "562/562 [==============================] - 20s 34ms/step - loss: 0.9088 - accuracy: 0.6432 - val_loss: 0.6863 - val_accuracy: 0.7384\n",
      "Epoch 2/3\n",
      "562/562 [==============================] - 19s 34ms/step - loss: 0.6606 - accuracy: 0.7550 - val_loss: 0.6349 - val_accuracy: 0.7683\n",
      "Epoch 3/3\n",
      "562/562 [==============================] - 24s 42ms/step - loss: 0.6209 - accuracy: 0.7717 - val_loss: 0.5981 - val_accuracy: 0.7842\n"
     ]
    }
   ],
   "source": [
    "history_1 = model_1.fit(\n",
    "    train_dataset,\n",
    "    epochs=3,\n",
    "    steps_per_epoch=int(0.1 * len(train_dataset)),\n",
    "    validation_data=valid_dataset,\n",
    "    validation_steps=int(0.1 * len(valid_dataset))\n",
    ")"
   ]
  },
  {
   "cell_type": "code",
   "execution_count": 43,
   "id": "82039afa-0746-4a27-b5bb-91a5a18c3463",
   "metadata": {},
   "outputs": [
    {
     "name": "stdout",
     "output_type": "stream",
     "text": [
      "945/945 [==============================] - 3s 3ms/step - loss: 0.6011 - accuracy: 0.7841\n"
     ]
    },
    {
     "data": {
      "text/plain": [
       "[0.6010958552360535, 0.7841255068778992]"
      ]
     },
     "execution_count": 43,
     "metadata": {},
     "output_type": "execute_result"
    }
   ],
   "source": [
    "model_1.evaluate(valid_dataset)"
   ]
  },
  {
   "cell_type": "code",
   "execution_count": 44,
   "id": "52f409fd-09d9-467c-9d9f-53766241fef3",
   "metadata": {},
   "outputs": [
    {
     "name": "stdout",
     "output_type": "stream",
     "text": [
      "945/945 [==============================] - 2s 2ms/step\n"
     ]
    },
    {
     "data": {
      "text/plain": [
       "(array([[3.9982113e-01, 1.8424201e-01, 9.8316647e-02, 2.8995404e-01,\n",
       "         2.7666125e-02],\n",
       "        [4.7359622e-01, 2.5149289e-01, 1.3472503e-02, 2.5408718e-01,\n",
       "         7.3513086e-03],\n",
       "        [1.4851484e-01, 6.7618061e-03, 2.4291840e-03, 8.4223133e-01,\n",
       "         6.2731473e-05],\n",
       "        ...,\n",
       "        [2.5470897e-06, 5.9121393e-04, 6.7055126e-04, 2.4986134e-06,\n",
       "         9.9873322e-01],\n",
       "        [5.7062473e-02, 4.9798086e-01, 9.3497366e-02, 6.3608967e-02,\n",
       "         2.8785038e-01],\n",
       "        [1.9596368e-01, 6.3895798e-01, 5.2789725e-02, 4.6432666e-02,\n",
       "         6.5855995e-02]], dtype=float32),\n",
       " (30212, 5))"
      ]
     },
     "execution_count": 44,
     "metadata": {},
     "output_type": "execute_result"
    }
   ],
   "source": [
    "model_1_pred_probs = model_1.predict(valid_dataset)\n",
    "model_1_pred_probs, model_1_pred_probs.shape"
   ]
  },
  {
   "cell_type": "code",
   "execution_count": 45,
   "id": "9409f473-c5db-4779-9a0f-24e95705700b",
   "metadata": {},
   "outputs": [
    {
     "data": {
      "text/plain": [
       "<tf.Tensor: shape=(30212,), dtype=int64, numpy=array([0, 0, 3, ..., 4, 1, 1])>"
      ]
     },
     "execution_count": 45,
     "metadata": {},
     "output_type": "execute_result"
    }
   ],
   "source": [
    "model_1_preds = tf.argmax(model_1_pred_probs, axis=1)\n",
    "model_1_preds"
   ]
  },
  {
   "cell_type": "code",
   "execution_count": 46,
   "id": "38f49988-3c08-44b2-973a-b5a28b3bfd5e",
   "metadata": {},
   "outputs": [
    {
     "data": {
      "text/plain": [
       "{'accuracy': 78.41255130411757,\n",
       " 'precision': 0.7808670153545283,\n",
       " 'recall': 0.7841255130411757,\n",
       " 'f1': 0.7817332386081248}"
      ]
     },
     "execution_count": 46,
     "metadata": {},
     "output_type": "execute_result"
    }
   ],
   "source": [
    "model_1_results = calculate_results(\n",
    "    y_true=val_labels_encoded,\n",
    "    y_pred=model_1_preds\n",
    ")\n",
    "model_1_results"
   ]
  },
  {
   "cell_type": "markdown",
   "id": "fdf98b00-6bd5-41e6-843a-677e7cba2377",
   "metadata": {},
   "source": [
    "### Model 2: Feature Extraction with Pre-trained Token Embeddings"
   ]
  },
  {
   "cell_type": "code",
   "execution_count": 47,
   "id": "07c781aa-984c-44c1-a680-ec590542ef94",
   "metadata": {},
   "outputs": [],
   "source": [
    "import tensorflow_hub as hub\n",
    "\n",
    "use_embedding_layer = hub.KerasLayer(\n",
    "    'https://tfhub.dev/google/universal-sentence-encoder/4',\n",
    "    trainable=False,\n",
    "    name='universal_sentence_encoder'\n",
    ")"
   ]
  },
  {
   "cell_type": "code",
   "execution_count": 48,
   "id": "f39848f5-e64f-4e09-80d4-651383a08941",
   "metadata": {},
   "outputs": [
    {
     "name": "stdout",
     "output_type": "stream",
     "text": [
      "Random sentence:\n",
      "\"no major adverse occurrences , as defined by the study protocol , were reported from the acupuncture group although one woman found the needling uncomfortable , and no study participant experienced an increase in swelling of > @ % .\"\n",
      "\n",
      "Sentence after embedding:\n",
      "[ 0.00976055  0.05689659 -0.01213548 -0.05323793  0.01331824  0.06867745\n",
      "  0.00219826 -0.04737353  0.06251882  0.0139769   0.04110466  0.00975517\n",
      "  0.07796044 -0.04182032  0.01713898 -0.00628474 -0.059038   -0.05292323\n",
      "  0.01741254 -0.03275552  0.04204125  0.04082135 -0.05894475  0.03975804\n",
      " -0.03804285  0.06350521 -0.01375526 -0.08300043  0.04403037 -0.03581662]\n",
      "\n",
      "Length of sentence embedding: 512\n"
     ]
    }
   ],
   "source": [
    "print(f'Random sentence:\\n\"{target_sentence}\"\\n')\n",
    "use_embedded_sentence = use_embedding_layer([target_sentence])\n",
    "print(f'Sentence after embedding:\\n{use_embedded_sentence[0][:30]}\\n')\n",
    "print(f'Length of sentence embedding: {len(use_embedded_sentence[0])}')"
   ]
  },
  {
   "cell_type": "code",
   "execution_count": 49,
   "id": "d6b798ec-d79c-4ede-8beb-52e46abe5f1a",
   "metadata": {},
   "outputs": [
    {
     "name": "stdout",
     "output_type": "stream",
     "text": [
      "Model: \"skimlit_model_2\"\n",
      "_________________________________________________________________\n",
      " Layer (type)                Output Shape              Param #   \n",
      "=================================================================\n",
      " input_layer (InputLayer)    [(None,)]                 0         \n",
      "                                                                 \n",
      " universal_sentence_encoder  (None, 512)               256797824 \n",
      "  (KerasLayer)                                                   \n",
      "                                                                 \n",
      " dense (Dense)               (None, 128)               65664     \n",
      "                                                                 \n",
      " output_layer (Dense)        (None, 5)                 645       \n",
      "                                                                 \n",
      "=================================================================\n",
      "Total params: 256864133 (979.86 MB)\n",
      "Trainable params: 66309 (259.02 KB)\n",
      "Non-trainable params: 256797824 (979.61 MB)\n",
      "_________________________________________________________________\n"
     ]
    }
   ],
   "source": [
    "inputs = layers.Input(shape=[], dtype=tf.string, name='input_layer')\n",
    "pretrained_embedding = use_embedding_layer(inputs)\n",
    "x = layers.Dense(128, activation='relu')(pretrained_embedding)\n",
    "outputs = layers.Dense(num_classes, activation='softmax', name='output_layer')(x)\n",
    "\n",
    "model_2 = tf.keras.Model(inputs, outputs, name='skimlit_model_2')\n",
    "\n",
    "model_2.compile(\n",
    "    loss='categorical_crossentropy',\n",
    "    optimizer=tf.keras.optimizers.legacy.Adam(),\n",
    "    metrics=['accuracy']\n",
    ")\n",
    "\n",
    "model_2.summary()"
   ]
  },
  {
   "cell_type": "code",
   "execution_count": 50,
   "id": "192f3994-bc74-4625-92bc-66269d9a3bd6",
   "metadata": {},
   "outputs": [
    {
     "name": "stdout",
     "output_type": "stream",
     "text": [
      "Epoch 1/3\n",
      "562/562 [==============================] - 7s 7ms/step - loss: 0.9181 - accuracy: 0.6493 - val_loss: 0.7972 - val_accuracy: 0.6882\n",
      "Epoch 2/3\n",
      "562/562 [==============================] - 4s 7ms/step - loss: 0.7685 - accuracy: 0.7009 - val_loss: 0.7553 - val_accuracy: 0.7048\n",
      "Epoch 3/3\n",
      "562/562 [==============================] - 3s 6ms/step - loss: 0.7523 - accuracy: 0.7116 - val_loss: 0.7392 - val_accuracy: 0.7118\n"
     ]
    }
   ],
   "source": [
    "history_2 = model_2.fit(\n",
    "    train_dataset,\n",
    "    epochs=3,\n",
    "    steps_per_epoch=int(0.1 * len(train_dataset)),\n",
    "    validation_data=valid_dataset,\n",
    "    validation_steps=int(0.1 * len(valid_dataset))\n",
    ")"
   ]
  },
  {
   "cell_type": "code",
   "execution_count": 51,
   "id": "d0301c52-1742-4daa-a7d6-b3d2f722af88",
   "metadata": {},
   "outputs": [
    {
     "name": "stdout",
     "output_type": "stream",
     "text": [
      "945/945 [==============================] - 5s 6ms/step - loss: 0.7413 - accuracy: 0.7136\n"
     ]
    },
    {
     "data": {
      "text/plain": [
       "[0.7413352727890015, 0.7135906219482422]"
      ]
     },
     "execution_count": 51,
     "metadata": {},
     "output_type": "execute_result"
    }
   ],
   "source": [
    "model_2.evaluate(valid_dataset)"
   ]
  },
  {
   "cell_type": "code",
   "execution_count": 52,
   "id": "a541e079-0d38-4f81-bc95-ccad4722ac42",
   "metadata": {},
   "outputs": [
    {
     "name": "stdout",
     "output_type": "stream",
     "text": [
      "945/945 [==============================] - 7s 7ms/step\n"
     ]
    },
    {
     "data": {
      "text/plain": [
       "array([[3.9683256e-01, 4.0370589e-01, 3.0042632e-03, 1.8602107e-01,\n",
       "        1.0436178e-02],\n",
       "       [3.6283866e-01, 4.8454598e-01, 4.2573549e-03, 1.4452705e-01,\n",
       "        3.8309181e-03],\n",
       "       [2.1394895e-01, 1.4853211e-01, 1.9879324e-02, 5.7625687e-01,\n",
       "        4.1382689e-02],\n",
       "       ...,\n",
       "       [1.7372982e-03, 5.4209293e-03, 4.7305427e-02, 7.7106443e-04,\n",
       "        9.4476533e-01],\n",
       "       [4.3288190e-03, 5.2967250e-02, 1.9983472e-01, 1.2534080e-03,\n",
       "        7.4161583e-01],\n",
       "       [1.9436978e-01, 2.5495291e-01, 4.7211781e-01, 9.5221465e-03,\n",
       "        6.9037281e-02]], dtype=float32)"
      ]
     },
     "execution_count": 52,
     "metadata": {},
     "output_type": "execute_result"
    }
   ],
   "source": [
    "model_2_pred_probs = model_2.predict(valid_dataset)\n",
    "model_2_pred_probs"
   ]
  },
  {
   "cell_type": "code",
   "execution_count": 53,
   "id": "cad7341b-7314-4a22-9890-0b2998dd6cb5",
   "metadata": {},
   "outputs": [
    {
     "data": {
      "text/plain": [
       "<tf.Tensor: shape=(30212,), dtype=int64, numpy=array([1, 1, 3, ..., 4, 4, 2])>"
      ]
     },
     "execution_count": 53,
     "metadata": {},
     "output_type": "execute_result"
    }
   ],
   "source": [
    "model_2_preds = tf.argmax(model_2_pred_probs, axis=1)\n",
    "model_2_preds"
   ]
  },
  {
   "cell_type": "code",
   "execution_count": 54,
   "id": "ef022f7e-c88d-48f1-b5c3-9580e743384f",
   "metadata": {},
   "outputs": [
    {
     "data": {
      "text/plain": [
       "{'accuracy': 71.35906262412286,\n",
       " 'precision': 0.714066349187408,\n",
       " 'recall': 0.7135906262412286,\n",
       " 'f1': 0.7106895430119391}"
      ]
     },
     "execution_count": 54,
     "metadata": {},
     "output_type": "execute_result"
    }
   ],
   "source": [
    "model_2_results = calculate_results(\n",
    "    y_true=val_labels_encoded,\n",
    "    y_pred=model_2_preds\n",
    ")\n",
    "model_2_results"
   ]
  },
  {
   "cell_type": "markdown",
   "id": "7d74acac-cb42-4e18-b9f6-fee931d76bac",
   "metadata": {},
   "source": [
    "### Model 3: Conv1D with Character Embeddings"
   ]
  },
  {
   "cell_type": "markdown",
   "id": "a4c230d3-a8a0-4d34-bdaf-ae58327abe81",
   "metadata": {},
   "source": [
    "#### Creating the Character Vectorization Layer"
   ]
  },
  {
   "cell_type": "code",
   "execution_count": 23,
   "id": "a28cda74-a075-4215-9725-4ab0d0516b7b",
   "metadata": {},
   "outputs": [],
   "source": [
    "def split_chars(text):\n",
    "    \"\"\"Splits the text and returns its characters.\n",
    "    \"\"\"\n",
    "    return ' '.join(list(text))"
   ]
  },
  {
   "cell_type": "code",
   "execution_count": 56,
   "id": "9519a017-2a6e-4555-b038-e754b0e760e3",
   "metadata": {},
   "outputs": [
    {
     "data": {
      "text/plain": [
       "'n o   m a j o r   a d v e r s e   o c c u r r e n c e s   ,   a s   d e f i n e d   b y   t h e   s t u d y   p r o t o c o l   ,   w e r e   r e p o r t e d   f r o m   t h e   a c u p u n c t u r e   g r o u p   a l t h o u g h   o n e   w o m a n   f o u n d   t h e   n e e d l i n g   u n c o m f o r t a b l e   ,   a n d   n o   s t u d y   p a r t i c i p a n t   e x p e r i e n c e d   a n   i n c r e a s e   i n   s w e l l i n g   o f   >   @   %   .'"
      ]
     },
     "execution_count": 56,
     "metadata": {},
     "output_type": "execute_result"
    }
   ],
   "source": [
    "split_chars(target_sentence)"
   ]
  },
  {
   "cell_type": "code",
   "execution_count": 57,
   "id": "e3c03184-eb03-4cb3-8aa1-09c214c67695",
   "metadata": {},
   "outputs": [
    {
     "data": {
      "text/plain": [
       "['t o   i n v e s t i g a t e   t h e   e f f i c a c y   o f   @   w e e k s   o f   d a i l y   l o w - d o s e   o r a l   p r e d n i s o l o n e   i n   i m p r o v i n g   p a i n   ,   m o b i l i t y   ,   a n d   s y s t e m i c   l o w - g r a d e   i n f l a m m a t i o n   i n   t h e   s h o r t   t e r m   a n d   w h e t h e r   t h e   e f f e c t   w o u l d   b e   s u s t a i n e d   a t   @   w e e k s   i n   o l d e r   a d u l t s   w i t h   m o d e r a t e   t o   s e v e r e   k n e e   o s t e o a r t h r i t i s   (   o a   )   .',\n",
       " 'a   t o t a l   o f   @   p a t i e n t s   w i t h   p r i m a r y   k n e e   o a   w e r e   r a n d o m i z e d   @ : @   ;   @   r e c e i v e d   @   m g / d a y   o f   p r e d n i s o l o n e   a n d   @   r e c e i v e d   p l a c e b o   f o r   @   w e e k s   .',\n",
       " 'o u t c o m e   m e a s u r e s   i n c l u d e d   p a i n   r e d u c t i o n   a n d   i m p r o v e m e n t   i n   f u n c t i o n   s c o r e s   a n d   s y s t e m i c   i n f l a m m a t i o n   m a r k e r s   .',\n",
       " 'p a i n   w a s   a s s e s s e d   u s i n g   t h e   v i s u a l   a n a l o g   p a i n   s c a l e   (   @ - @   m m   )   .',\n",
       " 's e c o n d a r y   o u t c o m e   m e a s u r e s   i n c l u d e d   t h e   w e s t e r n   o n t a r i o   a n d   m c m a s t e r   u n i v e r s i t i e s   o s t e o a r t h r i t i s   i n d e x   s c o r e s   ,   p a t i e n t   g l o b a l   a s s e s s m e n t   (   p g a   )   o f   t h e   s e v e r i t y   o f   k n e e   o a   ,   a n d   @ - m i n   w a l k   d i s t a n c e   (   @ m w d   )   .']"
      ]
     },
     "execution_count": 57,
     "metadata": {},
     "output_type": "execute_result"
    }
   ],
   "source": [
    "train_chars = [split_chars(sentence) for sentence in train_sentences]\n",
    "val_chars = [split_chars(sentence) for sentence in val_sentences]\n",
    "test_chars = [split_chars(sentence) for sentence in test_sentences]\n",
    "\n",
    "train_chars[:5]"
   ]
  },
  {
   "cell_type": "code",
   "execution_count": 58,
   "id": "1216ec17-7bc5-4487-aba3-4b000fc0df6f",
   "metadata": {},
   "outputs": [
    {
     "data": {
      "text/plain": [
       "149.3662574983337"
      ]
     },
     "execution_count": 58,
     "metadata": {},
     "output_type": "execute_result"
    }
   ],
   "source": [
    "# Get the average character length\n",
    "char_lens = [len(sentence) for sentence in train_sentences]\n",
    "mean_char_len = np.mean(char_lens)\n",
    "mean_char_len"
   ]
  },
  {
   "cell_type": "code",
   "execution_count": 59,
   "id": "56d94fcc-fc57-4ef4-bcc9-2fce4ab94cbc",
   "metadata": {},
   "outputs": [
    {
     "data": {
      "text/plain": [
       "(array([1.41175e+05, 3.71110e+04, 1.60000e+03, 1.27000e+02, 2.10000e+01,\n",
       "        5.00000e+00, 1.00000e+00]),\n",
       " array([1.00000000e+00, 1.98857143e+02, 3.96714286e+02, 5.94571429e+02,\n",
       "        7.92428571e+02, 9.90285714e+02, 1.18814286e+03, 1.38600000e+03]),\n",
       " <BarContainer object of 7 artists>)"
      ]
     },
     "execution_count": 59,
     "metadata": {},
     "output_type": "execute_result"
    },
    {
     "data": {
      "image/png": "[encoded data removed]",
      "text/plain": [
       "<Figure size 640x480 with 1 Axes>"
      ]
     },
     "metadata": {},
     "output_type": "display_data"
    }
   ],
   "source": [
    "# Check the distribution of the sequence at a character-level\n",
    "import matplotlib.pyplot as plt\n",
    "\n",
    "plt.hist(char_lens, bins=7)"
   ]
  },
  {
   "cell_type": "code",
   "execution_count": 60,
   "id": "b620d069-dcc3-4da2-a73b-dff2860e655d",
   "metadata": {},
   "outputs": [
    {
     "data": {
      "text/plain": [
       "290"
      ]
     },
     "execution_count": 60,
     "metadata": {},
     "output_type": "execute_result"
    }
   ],
   "source": [
    "# Check the length of the 95th percentile of the sequences\n",
    "output_seq_char_len =  int(np.percentile(char_lens, 95))\n",
    "output_seq_char_len"
   ]
  },
  {
   "cell_type": "code",
   "execution_count": 61,
   "id": "caaf2e11-9b0c-48bd-bed1-a6c58c9cefe5",
   "metadata": {},
   "outputs": [
    {
     "data": {
      "text/plain": [
       "'abcdefghijklmnopqrstuvwxyz0123456789'"
      ]
     },
     "execution_count": 61,
     "metadata": {},
     "output_type": "execute_result"
    }
   ],
   "source": [
    "import string\n",
    "\n",
    "alphabet = string.ascii_lowercase + string.digits\n",
    "alphabet"
   ]
  },
  {
   "cell_type": "code",
   "execution_count": 62,
   "id": "c2470d3b-2dd8-4f1d-a7ac-8c1c66c3ac6a",
   "metadata": {},
   "outputs": [],
   "source": [
    "NUM_CHAR_TOKENS = len(alphabet) + 2    # Add space and the <OOV> token\n",
    "\n",
    "char_vectorization_layer = layers.TextVectorization(\n",
    "    max_tokens=NUM_CHAR_TOKENS,\n",
    "    output_sequence_length=output_seq_char_len,\n",
    "    name='char_vectorization_layer'\n",
    ")"
   ]
  },
  {
   "cell_type": "code",
   "execution_count": 63,
   "id": "ff7a7cb5-2a63-4865-809b-f5d26b7dbfc3",
   "metadata": {},
   "outputs": [],
   "source": [
    "char_vectorization_layer.adapt(train_chars)"
   ]
  },
  {
   "cell_type": "code",
   "execution_count": 64,
   "id": "d9e4e1af-0d59-4b88-a551-b53519a80f25",
   "metadata": {},
   "outputs": [
    {
     "data": {
      "text/plain": [
       "(28, ['', '[UNK]', 'e', 't', 'i'], ['k', 'x', 'z', 'q', 'j'])"
      ]
     },
     "execution_count": 64,
     "metadata": {},
     "output_type": "execute_result"
    }
   ],
   "source": [
    "char_vocab = char_vectorization_layer.get_vocabulary()\n",
    "len(char_vocab), char_vocab[:5], char_vocab[-5:]"
   ]
  },
  {
   "cell_type": "code",
   "execution_count": 65,
   "id": "b81b231d-a6f8-4f4f-85d3-37179d3bcce8",
   "metadata": {},
   "outputs": [
    {
     "name": "stdout",
     "output_type": "stream",
     "text": [
      "Charified text (length=58):\n",
      "\"t o   c o m p a r e   c l o s e d - s y s t e m   (   c o s   )   p i v c s   w i t h   o p e n - s y s t e m   (   m o s   )   p i v c s   .\"\n",
      "\n",
      "Vectorized chars (length=290):\n",
      "[[ 3  7 11  7 15 14  5  8  2 11 12  7  9  2 10  9 19  9  3  2 15 11  7  9\n",
      "  14  4 21 11  9 20  4  3 13  7 14  2  6  9 19  9  3  2 15 15  7  9 14  4\n",
      "  21 11  9  0  0  0  0  0  0  0  0  0  0  0  0  0  0  0  0  0  0  0  0  0\n",
      "   0  0  0  0  0  0  0  0  0  0  0  0  0  0  0  0  0  0  0  0  0  0  0  0\n",
      "   0  0  0  0  0  0  0  0  0  0  0  0  0  0  0  0  0  0  0  0  0  0  0  0\n",
      "   0  0  0  0  0  0  0  0  0  0  0  0  0  0  0  0  0  0  0  0  0  0  0  0\n",
      "   0  0  0  0  0  0  0  0  0  0  0  0  0  0  0  0  0  0  0  0  0  0  0  0\n",
      "   0  0  0  0  0  0  0  0  0  0  0  0  0  0  0  0  0  0  0  0  0  0  0  0\n",
      "   0  0  0  0  0  0  0  0  0  0  0  0  0  0  0  0  0  0  0  0  0  0  0  0\n",
      "   0  0  0  0  0  0  0  0  0  0  0  0  0  0  0  0  0  0  0  0  0  0  0  0\n",
      "   0  0  0  0  0  0  0  0  0  0  0  0  0  0  0  0  0  0  0  0  0  0  0  0\n",
      "   0  0  0  0  0  0  0  0  0  0  0  0  0  0  0  0  0  0  0  0  0  0  0  0\n",
      "   0  0]]\n"
     ]
    }
   ],
   "source": [
    "random_train_char = random.choice(train_chars)\n",
    "print(f'Charified text (length={len(random_train_char.split())}):\\n\"{random_train_char}\"\\n')\n",
    "\n",
    "vectorized_chars = char_vectorization_layer([random_train_char])\n",
    "print(f'Vectorized chars (length={len(vectorized_chars[0])}):\\n{vectorized_chars}')"
   ]
  },
  {
   "cell_type": "markdown",
   "id": "942b4fe2-c5f0-499c-9ac3-0b1a3ccc3b29",
   "metadata": {},
   "source": [
    "#### Creating the Character-Level Embeddings"
   ]
  },
  {
   "cell_type": "code",
   "execution_count": 66,
   "id": "71c5b2a7-3298-43e4-a0fa-6749f961112a",
   "metadata": {},
   "outputs": [],
   "source": [
    "char_embed = layers.Embedding(\n",
    "    input_dim=len(char_vocab),\n",
    "    output_dim=25,    # Size of the character embeddings in the paper\n",
    "    mask_zero=True,\n",
    "    name='char_embed'\n",
    ")"
   ]
  },
  {
   "cell_type": "code",
   "execution_count": 67,
   "id": "defc3952-00e6-401f-941a-4bd1f0875e3a",
   "metadata": {},
   "outputs": [
    {
     "data": {
      "text/plain": [
       "(<tf.Tensor: shape=(1, 290, 25), dtype=float32, numpy=\n",
       " array([[[ 0.00253403,  0.02663866,  0.03468734, ..., -0.00217485,\n",
       "          -0.04192872,  0.02068874],\n",
       "         [-0.00251464,  0.00207957,  0.00316826, ..., -0.0388535 ,\n",
       "           0.00987913, -0.0237473 ],\n",
       "         [-0.03238677, -0.02183094, -0.00495323, ..., -0.02811427,\n",
       "           0.01214734, -0.0326633 ],\n",
       "         ...,\n",
       "         [ 0.02186443,  0.01102876, -0.03784069, ..., -0.04768609,\n",
       "           0.03250076, -0.04042744],\n",
       "         [ 0.02186443,  0.01102876, -0.03784069, ..., -0.04768609,\n",
       "           0.03250076, -0.04042744],\n",
       "         [ 0.02186443,  0.01102876, -0.03784069, ..., -0.04768609,\n",
       "           0.03250076, -0.04042744]]], dtype=float32)>,\n",
       " TensorShape([1, 290, 25]))"
      ]
     },
     "execution_count": 67,
     "metadata": {},
     "output_type": "execute_result"
    }
   ],
   "source": [
    "char_embed_example = char_embed(vectorized_chars)\n",
    "char_embed_example, char_embed_example.shape"
   ]
  },
  {
   "cell_type": "markdown",
   "id": "6257222b-4457-4770-b00b-f2bf8e474fff",
   "metadata": {},
   "source": [
    "#### Building the Conv1D Model"
   ]
  },
  {
   "cell_type": "code",
   "execution_count": 68,
   "id": "9a481c9c-2242-46f4-9a5a-2b4ad376d83d",
   "metadata": {},
   "outputs": [
    {
     "name": "stdout",
     "output_type": "stream",
     "text": [
      "Model: \"skimlit_model_3\"\n",
      "_________________________________________________________________\n",
      " Layer (type)                Output Shape              Param #   \n",
      "=================================================================\n",
      " input_layer (InputLayer)    [(None, 1)]               0         \n",
      "                                                                 \n",
      " char_vectorization_layer (  (None, 290)               0         \n",
      " TextVectorization)                                              \n",
      "                                                                 \n",
      " char_embed (Embedding)      (None, 290, 25)           700       \n",
      "                                                                 \n",
      " conv1d_1 (Conv1D)           (None, 290, 64)           8064      \n",
      "                                                                 \n",
      " global_max_pooling1d (Glob  (None, 64)                0         \n",
      " alMaxPooling1D)                                                 \n",
      "                                                                 \n",
      " output_layer (Dense)        (None, 5)                 325       \n",
      "                                                                 \n",
      "=================================================================\n",
      "Total params: 9089 (35.50 KB)\n",
      "Trainable params: 9089 (35.50 KB)\n",
      "Non-trainable params: 0 (0.00 Byte)\n",
      "_________________________________________________________________\n"
     ]
    }
   ],
   "source": [
    "inputs = layers.Input(shape=(1,), dtype='string', name='input_layer')\n",
    "char_vectors = char_vectorization_layer(inputs)\n",
    "char_embeddings = char_embed(char_vectors)\n",
    "x = layers.Conv1D(64, kernel_size=5, padding='same', activation='relu')(char_embeddings)\n",
    "x = layers.GlobalMaxPooling1D()(x)\n",
    "outputs = layers.Dense(num_classes, activation='softmax', name='output_layer')(x)\n",
    "\n",
    "model_3 = tf.keras.Model(inputs, outputs, name='skimlit_model_3')\n",
    "\n",
    "model_3.compile(\n",
    "    loss='categorical_crossentropy',\n",
    "    optimizer=tf.keras.optimizers.legacy.Adam(),\n",
    "    metrics=['accuracy']\n",
    ")\n",
    "\n",
    "model_3.summary()"
   ]
  },
  {
   "cell_type": "code",
   "execution_count": 69,
   "id": "e6aec3be-4a78-47f9-83e4-90e567f5ae59",
   "metadata": {},
   "outputs": [
    {
     "data": {
      "text/plain": [
       "<_PrefetchDataset element_spec=(TensorSpec(shape=(None,), dtype=tf.string, name=None), TensorSpec(shape=(None, 5), dtype=tf.float64, name=None))>"
      ]
     },
     "execution_count": 69,
     "metadata": {},
     "output_type": "execute_result"
    }
   ],
   "source": [
    "# Create char-level datasets\n",
    "train_char_dataset = tf.data.Dataset.from_tensor_slices((\n",
    "    train_chars,\n",
    "    train_labels_one_hot\n",
    ")).batch(32).prefetch(AUTOTUNE)\n",
    "\n",
    "valid_char_dataset = tf.data.Dataset.from_tensor_slices((\n",
    "    val_chars,\n",
    "    val_labels_one_hot\n",
    ")).batch(32).prefetch(AUTOTUNE)\n",
    "\n",
    "test_char_dataset = tf.data.Dataset.from_tensor_slices((\n",
    "    test_chars,\n",
    "    test_labels_one_hot\n",
    ")).batch(32).prefetch(AUTOTUNE)\n",
    "\n",
    "train_char_dataset"
   ]
  },
  {
   "cell_type": "code",
   "execution_count": 70,
   "id": "d0998eae-5c6b-4845-b2da-58ac50681a0b",
   "metadata": {},
   "outputs": [
    {
     "name": "stdout",
     "output_type": "stream",
     "text": [
      "Epoch 1/3\n",
      "562/562 [==============================] - 6s 9ms/step - loss: 1.2604 - accuracy: 0.4909 - val_loss: 1.0475 - val_accuracy: 0.5778\n",
      "Epoch 2/3\n",
      "562/562 [==============================] - 5s 9ms/step - loss: 1.0170 - accuracy: 0.5946 - val_loss: 0.9546 - val_accuracy: 0.6187\n",
      "Epoch 3/3\n",
      "562/562 [==============================] - 5s 9ms/step - loss: 0.9412 - accuracy: 0.6295 - val_loss: 0.8893 - val_accuracy: 0.6486\n"
     ]
    }
   ],
   "source": [
    "history_3 = model_3.fit(\n",
    "    train_char_dataset,\n",
    "    epochs=3,\n",
    "    steps_per_epoch=int(0.1 * len(train_char_dataset)),\n",
    "    validation_data=valid_char_dataset,\n",
    "    validation_steps=int(0.1 * len(valid_char_dataset))\n",
    ")"
   ]
  },
  {
   "cell_type": "code",
   "execution_count": 71,
   "id": "4ed89f27-c521-4420-816c-37c322215d36",
   "metadata": {},
   "outputs": [
    {
     "name": "stdout",
     "output_type": "stream",
     "text": [
      "945/945 [==============================] - 3s 3ms/step - loss: 0.9035 - accuracy: 0.6464\n"
     ]
    },
    {
     "data": {
      "text/plain": [
       "[0.903527557849884, 0.6464318633079529]"
      ]
     },
     "execution_count": 71,
     "metadata": {},
     "output_type": "execute_result"
    }
   ],
   "source": [
    "model_3.evaluate(valid_char_dataset)"
   ]
  },
  {
   "cell_type": "code",
   "execution_count": 72,
   "id": "f78b803b-0658-463e-a036-47a7eda2cba8",
   "metadata": {},
   "outputs": [
    {
     "name": "stdout",
     "output_type": "stream",
     "text": [
      "945/945 [==============================] - 3s 3ms/step\n"
     ]
    },
    {
     "data": {
      "text/plain": [
       "array([[0.169593  , 0.35774806, 0.13869755, 0.2704683 , 0.0634931 ],\n",
       "       [0.1282455 , 0.6668355 , 0.01464869, 0.1173723 , 0.072898  ],\n",
       "       [0.09550262, 0.2430917 , 0.15669858, 0.46794105, 0.0367661 ],\n",
       "       ...,\n",
       "       [0.01608845, 0.04447899, 0.2105057 , 0.05743901, 0.67148787],\n",
       "       [0.0283309 , 0.13998981, 0.3057556 , 0.02674079, 0.49918297],\n",
       "       [0.5413106 , 0.27118242, 0.08441819, 0.08852147, 0.01456728]],\n",
       "      dtype=float32)"
      ]
     },
     "execution_count": 72,
     "metadata": {},
     "output_type": "execute_result"
    }
   ],
   "source": [
    "model_3_pred_probs = model_3.predict(valid_char_dataset)\n",
    "model_3_pred_probs"
   ]
  },
  {
   "cell_type": "code",
   "execution_count": 73,
   "id": "1088a7e3-fd06-4a4a-ad98-f762ca375ac2",
   "metadata": {},
   "outputs": [
    {
     "data": {
      "text/plain": [
       "<tf.Tensor: shape=(30212,), dtype=int64, numpy=array([1, 1, 3, ..., 4, 4, 0])>"
      ]
     },
     "execution_count": 73,
     "metadata": {},
     "output_type": "execute_result"
    }
   ],
   "source": [
    "model_3_preds = tf.argmax(model_3_pred_probs, axis=1)\n",
    "model_3_preds"
   ]
  },
  {
   "cell_type": "code",
   "execution_count": 74,
   "id": "b68e5ec7-b37f-4df2-bf47-52e8d1eeaa03",
   "metadata": {},
   "outputs": [
    {
     "data": {
      "text/plain": [
       "{'accuracy': 64.64318813716405,\n",
       " 'precision': 0.6367235846451026,\n",
       " 'recall': 0.6464318813716404,\n",
       " 'f1': 0.6363962415174074}"
      ]
     },
     "execution_count": 74,
     "metadata": {},
     "output_type": "execute_result"
    }
   ],
   "source": [
    "model_3_results = calculate_results(\n",
    "    y_true=val_labels_encoded,\n",
    "    y_pred=model_3_preds\n",
    ")\n",
    "model_3_results"
   ]
  },
  {
   "cell_type": "markdown",
   "id": "166dbf4b-0668-4ed8-84f1-96e3111ddf8b",
   "metadata": {},
   "source": [
    "### Model 4: Pre-trained Token Embeddings + Character Embeddings\n",
    "\n",
    "1. Create a token-level embedding model (same as `model_1`).\n",
    "2. Create a character-level embedding model (same as `model_3`).\n",
    "3. Combine (1) and (2) with a `Concatenate` layer.\n",
    "4. Build a series of output layers on top of (3).\n",
    "5. Construct a model which takes:\n",
    "    - Token and character-level sequences as inputs.\n",
    "    - Produces sequence label probabilities as output.\n",
    "\n",
    "For more information:\n",
    "* https://www.tensorflow.org/api_docs/python/tf/keras/layers/Concatenate\n",
    "* https://www.tensorflow.org/api_docs/python/tf/keras/layers/Dropout"
   ]
  },
  {
   "cell_type": "code",
   "execution_count": 75,
   "id": "0ac9dab3-2c4f-493d-b85e-7c5341874263",
   "metadata": {},
   "outputs": [],
   "source": [
    "token_inputs = layers.Input(shape=[], dtype='string', name='token_input')\n",
    "token_embeddings = use_embedding_layer(token_inputs)\n",
    "token_outputs = layers.Dense(128, activation='relu', name='token_output')(token_embeddings)\n",
    "token_model = tf.keras.Model(\n",
    "    inputs=token_inputs,\n",
    "    outputs=token_outputs,\n",
    "    name='skimlit_token_model_4'\n",
    ")\n",
    "\n",
    "char_inputs = layers.Input(shape=(1,), dtype='string', name='char_input')\n",
    "char_vectors = char_vectorization_layer(char_inputs)\n",
    "char_embeddings = char_embed(char_vectors)\n",
    "char_bi_lstm = layers.Bidirectional(layers.LSTM(25))(char_embeddings)\n",
    "char_model = tf.keras.Model(\n",
    "    inputs=char_inputs,\n",
    "    outputs=char_bi_lstm,\n",
    "    name='skimlit_char_model_4'\n",
    ")\n",
    "\n",
    "token_char_concat = layers.Concatenate(name='token_char_hybrid')([\n",
    "    token_model.output,\n",
    "    char_model.output\n",
    "])\n",
    "\n",
    "combined_dropout = layers.Dropout(0.5)(token_char_concat)\n",
    "combined_dense = layers.Dense(128, activation='relu')(combined_dropout)\n",
    "final_dropout = layers.Dropout(0.5)(combined_dense)\n",
    "output_layer = layers.Dense(num_classes, activation='softmax', name='output_layer')(final_dropout)\n",
    "\n",
    "model_4 = tf.keras.Model(\n",
    "    inputs=[token_model.input, char_model.input],\n",
    "    outputs=output_layer,\n",
    "    name='skimlit_model_4'\n",
    ")"
   ]
  },
  {
   "cell_type": "code",
   "execution_count": 76,
   "id": "2f31dea1-a54b-4e47-973e-aa3c176dabf0",
   "metadata": {},
   "outputs": [
    {
     "name": "stdout",
     "output_type": "stream",
     "text": [
      "Model: \"skimlit_model_4\"\n",
      "__________________________________________________________________________________________________\n",
      " Layer (type)                Output Shape                 Param #   Connected to                  \n",
      "==================================================================================================\n",
      " char_input (InputLayer)     [(None, 1)]                  0         []                            \n",
      "                                                                                                  \n",
      " token_input (InputLayer)    [(None,)]                    0         []                            \n",
      "                                                                                                  \n",
      " char_vectorization_layer (  (None, 290)                  0         ['char_input[0][0]']          \n",
      " TextVectorization)                                                                               \n",
      "                                                                                                  \n",
      " universal_sentence_encoder  (None, 512)                  2567978   ['token_input[0][0]']         \n",
      "  (KerasLayer)                                            24                                      \n",
      "                                                                                                  \n",
      " char_embed (Embedding)      (None, 290, 25)              700       ['char_vectorization_layer[1][\n",
      "                                                                    0]']                          \n",
      "                                                                                                  \n",
      " token_output (Dense)        (None, 128)                  65664     ['universal_sentence_encoder[1\n",
      "                                                                    ][0]']                        \n",
      "                                                                                                  \n",
      " bidirectional (Bidirection  (None, 50)                   10200     ['char_embed[1][0]']          \n",
      " al)                                                                                              \n",
      "                                                                                                  \n",
      " token_char_hybrid (Concate  (None, 178)                  0         ['token_output[0][0]',        \n",
      " nate)                                                               'bidirectional[0][0]']       \n",
      "                                                                                                  \n",
      " dropout (Dropout)           (None, 178)                  0         ['token_char_hybrid[0][0]']   \n",
      "                                                                                                  \n",
      " dense_1 (Dense)             (None, 128)                  22912     ['dropout[0][0]']             \n",
      "                                                                                                  \n",
      " dropout_1 (Dropout)         (None, 128)                  0         ['dense_1[0][0]']             \n",
      "                                                                                                  \n",
      " output_layer (Dense)        (None, 5)                    645       ['dropout_1[0][0]']           \n",
      "                                                                                                  \n",
      "==================================================================================================\n",
      "Total params: 256897945 (979.99 MB)\n",
      "Trainable params: 100121 (391.10 KB)\n",
      "Non-trainable params: 256797824 (979.61 MB)\n",
      "__________________________________________________________________________________________________\n"
     ]
    }
   ],
   "source": [
    "model_4.summary()"
   ]
  },
  {
   "cell_type": "code",
   "execution_count": 78,
   "id": "2a0b6675-8415-4347-9014-9e7d0582766c",
   "metadata": {},
   "outputs": [
    {
     "data": {
      "image/png": "[encoded data removed]",
      "text/plain": [
       "<IPython.core.display.Image object>"
      ]
     },
     "execution_count": 78,
     "metadata": {},
     "output_type": "execute_result"
    }
   ],
   "source": [
    "tf.keras.utils.plot_model(model_4, show_shapes=True)"
   ]
  },
  {
   "cell_type": "code",
   "execution_count": 80,
   "id": "25ba101b-7752-409e-a6d9-0973e534c73b",
   "metadata": {},
   "outputs": [],
   "source": [
    "model_4.compile(\n",
    "    loss='categorical_crossentropy',\n",
    "    optimizer=tf.keras.optimizers.legacy.Adam(),\n",
    "    metrics=['accuracy']\n",
    ")"
   ]
  },
  {
   "cell_type": "code",
   "execution_count": 81,
   "id": "77493a7a-34cb-4064-a954-17eb50db84de",
   "metadata": {},
   "outputs": [
    {
     "data": {
      "text/plain": [
       "(<_PrefetchDataset element_spec=((TensorSpec(shape=(None,), dtype=tf.string, name=None), TensorSpec(shape=(None,), dtype=tf.string, name=None)), TensorSpec(shape=(None, 5), dtype=tf.float64, name=None))>,\n",
       " <_PrefetchDataset element_spec=((TensorSpec(shape=(None,), dtype=tf.string, name=None), TensorSpec(shape=(None,), dtype=tf.string, name=None)), TensorSpec(shape=(None, 5), dtype=tf.float64, name=None))>,\n",
       " <_PrefetchDataset element_spec=((TensorSpec(shape=(None,), dtype=tf.string, name=None), TensorSpec(shape=(None,), dtype=tf.string, name=None)), TensorSpec(shape=(None, 5), dtype=tf.float64, name=None))>)"
      ]
     },
     "execution_count": 81,
     "metadata": {},
     "output_type": "execute_result"
    }
   ],
   "source": [
    "# Combine the char and token datasets\n",
    "train_char_token_data = tf.data.Dataset.from_tensor_slices((train_sentences, train_chars))\n",
    "train_char_token_labels = tf.data.Dataset.from_tensor_slices(train_labels_one_hot)\n",
    "train_char_token_dataset = tf.data.Dataset.zip((train_char_token_data, train_char_token_labels))\n",
    "\n",
    "train_char_token_dataset = train_char_token_dataset.batch(32).prefetch(AUTOTUNE)\n",
    "\n",
    "valid_char_token_dataset = tf.data.Dataset.zip((\n",
    "    tf.data.Dataset.from_tensor_slices((val_sentences, val_chars)),\n",
    "    tf.data.Dataset.from_tensor_slices(val_labels_one_hot)\n",
    ")).batch(32).prefetch(AUTOTUNE)\n",
    "\n",
    "test_char_token_dataset = tf.data.Dataset.zip((\n",
    "    tf.data.Dataset.from_tensor_slices((test_sentences, test_chars)),\n",
    "    tf.data.Dataset.from_tensor_slices(test_labels_one_hot)\n",
    ")).batch(32).prefetch(AUTOTUNE)\n",
    "\n",
    "train_char_token_dataset, valid_char_token_dataset, test_char_token_dataset"
   ]
  },
  {
   "cell_type": "code",
   "execution_count": 82,
   "id": "017d8998-553b-4a49-88ca-4c321d126e29",
   "metadata": {},
   "outputs": [
    {
     "name": "stdout",
     "output_type": "stream",
     "text": [
      "Epoch 1/3\n",
      "562/562 [==============================] - 56s 88ms/step - loss: 0.9879 - accuracy: 0.6086 - val_loss: 0.7840 - val_accuracy: 0.6968\n",
      "Epoch 2/3\n",
      "562/562 [==============================] - 48s 85ms/step - loss: 0.8034 - accuracy: 0.6913 - val_loss: 0.7174 - val_accuracy: 0.7311\n",
      "Epoch 3/3\n",
      "562/562 [==============================] - 52s 93ms/step - loss: 0.7762 - accuracy: 0.7048 - val_loss: 0.6932 - val_accuracy: 0.7367\n"
     ]
    }
   ],
   "source": [
    "history_4 = model_4.fit(\n",
    "    train_char_token_dataset,\n",
    "    epochs=3,\n",
    "    steps_per_epoch=int(0.1 * len(train_char_token_dataset)),\n",
    "    validation_data=valid_char_token_dataset,\n",
    "    validation_steps=int(0.1 * len(valid_char_token_dataset))\n",
    ")"
   ]
  },
  {
   "cell_type": "code",
   "execution_count": 83,
   "id": "a3985a1c-911a-48d6-a605-fad3f354cd38",
   "metadata": {},
   "outputs": [
    {
     "name": "stdout",
     "output_type": "stream",
     "text": [
      "945/945 [==============================] - 21s 20ms/step\n"
     ]
    },
    {
     "data": {
      "text/plain": [
       "array([[5.0410950e-01, 3.1377178e-01, 4.4499342e-03, 1.7263351e-01,\n",
       "        5.0353431e-03],\n",
       "       [3.3907378e-01, 4.6669513e-01, 2.2849280e-03, 1.9022541e-01,\n",
       "        1.7207183e-03],\n",
       "       [3.0912268e-01, 9.3267873e-02, 3.7505489e-02, 5.4382253e-01,\n",
       "        1.6281433e-02],\n",
       "       ...,\n",
       "       [5.6469423e-04, 1.0977191e-02, 6.0052466e-02, 2.3017080e-04,\n",
       "        9.2817551e-01],\n",
       "       [1.0592522e-02, 7.4236996e-02, 2.5179678e-01, 4.9821525e-03,\n",
       "        6.5839159e-01],\n",
       "       [2.7327421e-01, 3.6091223e-01, 2.7498618e-01, 3.1280845e-02,\n",
       "        5.9546545e-02]], dtype=float32)"
      ]
     },
     "execution_count": 83,
     "metadata": {},
     "output_type": "execute_result"
    }
   ],
   "source": [
    "model_4_pred_probs = model_4.predict(valid_char_token_dataset)\n",
    "model_4_pred_probs"
   ]
  },
  {
   "cell_type": "code",
   "execution_count": 86,
   "id": "60489e2c-d210-4e35-aec9-78f367479f1a",
   "metadata": {},
   "outputs": [
    {
     "data": {
      "text/plain": [
       "<tf.Tensor: shape=(30212,), dtype=int64, numpy=array([0, 1, 3, ..., 4, 4, 1])>"
      ]
     },
     "execution_count": 86,
     "metadata": {},
     "output_type": "execute_result"
    }
   ],
   "source": [
    "model_4_preds = tf.argmax(model_4_pred_probs, axis=1)\n",
    "model_4_preds"
   ]
  },
  {
   "cell_type": "code",
   "execution_count": 87,
   "id": "5f152110-637d-47ee-969e-4e4d02d6c903",
   "metadata": {},
   "outputs": [
    {
     "data": {
      "text/plain": [
       "{'accuracy': 73.43439692837283,\n",
       " 'precision': 0.7338149116564285,\n",
       " 'recall': 0.7343439692837284,\n",
       " 'f1': 0.7322430150251856}"
      ]
     },
     "execution_count": 87,
     "metadata": {},
     "output_type": "execute_result"
    }
   ],
   "source": [
    "model_4_results = calculate_results(\n",
    "    y_true=val_labels_encoded,\n",
    "    y_pred=model_4_preds\n",
    ")\n",
    "model_4_results"
   ]
  },
  {
   "cell_type": "markdown",
   "id": "f9015355-3028-4f2d-af1d-b99cbf3cf374",
   "metadata": {},
   "source": [
    "### Model 5: Pre-trained Token + Character + Positional Embeddings\n",
    "\n",
    "Positional embeddings can be added via feature engineering, by grouping non-obvious features from the data and encoding them numerically to help the model learn.\n",
    "\n",
    "Examples of feature engineering techniques:\n",
    "\n",
    "* Imputation\n",
    "* Discretization\n",
    "* Categorical encoding\n",
    "* Data augmentation\n",
    "* Feature spilitting\n",
    "* Outlier handling\n",
    "* Scaling and standardisation"
   ]
  },
  {
   "cell_type": "code",
   "execution_count": 88,
   "id": "0bc9f6f9-82de-42a4-99bc-21c048cb011b",
   "metadata": {},
   "outputs": [
    {
     "data": {
      "text/html": [
       "<div>\n",
       "<style scoped>\n",
       "    .dataframe tbody tr th:only-of-type {\n",
       "        vertical-align: middle;\n",
       "    }\n",
       "\n",
       "    .dataframe tbody tr th {\n",
       "        vertical-align: top;\n",
       "    }\n",
       "\n",
       "    .dataframe thead th {\n",
       "        text-align: right;\n",
       "    }\n",
       "</style>\n",
       "<table border=\"1\" class=\"dataframe\">\n",
       "  <thead>\n",
       "    <tr style=\"text-align: right;\">\n",
       "      <th></th>\n",
       "      <th>target</th>\n",
       "      <th>text</th>\n",
       "      <th>line_number</th>\n",
       "      <th>total_lines</th>\n",
       "    </tr>\n",
       "  </thead>\n",
       "  <tbody>\n",
       "    <tr>\n",
       "      <th>0</th>\n",
       "      <td>OBJECTIVE</td>\n",
       "      <td>to investigate the efficacy of @ weeks of dail...</td>\n",
       "      <td>0</td>\n",
       "      <td>11</td>\n",
       "    </tr>\n",
       "    <tr>\n",
       "      <th>1</th>\n",
       "      <td>METHODS</td>\n",
       "      <td>a total of @ patients with primary knee oa wer...</td>\n",
       "      <td>1</td>\n",
       "      <td>11</td>\n",
       "    </tr>\n",
       "    <tr>\n",
       "      <th>2</th>\n",
       "      <td>METHODS</td>\n",
       "      <td>outcome measures included pain reduction and i...</td>\n",
       "      <td>2</td>\n",
       "      <td>11</td>\n",
       "    </tr>\n",
       "    <tr>\n",
       "      <th>3</th>\n",
       "      <td>METHODS</td>\n",
       "      <td>pain was assessed using the visual analog pain...</td>\n",
       "      <td>3</td>\n",
       "      <td>11</td>\n",
       "    </tr>\n",
       "    <tr>\n",
       "      <th>4</th>\n",
       "      <td>METHODS</td>\n",
       "      <td>secondary outcome measures included the wester...</td>\n",
       "      <td>4</td>\n",
       "      <td>11</td>\n",
       "    </tr>\n",
       "  </tbody>\n",
       "</table>\n",
       "</div>"
      ],
      "text/plain": [
       "      target                                               text  line_number  \\\n",
       "0  OBJECTIVE  to investigate the efficacy of @ weeks of dail...            0   \n",
       "1    METHODS  a total of @ patients with primary knee oa wer...            1   \n",
       "2    METHODS  outcome measures included pain reduction and i...            2   \n",
       "3    METHODS  pain was assessed using the visual analog pain...            3   \n",
       "4    METHODS  secondary outcome measures included the wester...            4   \n",
       "\n",
       "   total_lines  \n",
       "0           11  \n",
       "1           11  \n",
       "2           11  \n",
       "3           11  \n",
       "4           11  "
      ]
     },
     "execution_count": 88,
     "metadata": {},
     "output_type": "execute_result"
    }
   ],
   "source": [
    "train_df.head()"
   ]
  },
  {
   "cell_type": "markdown",
   "id": "49c738f5-125f-4e00-b3a2-b4855acf6395",
   "metadata": {},
   "source": [
    "#### Creating Positional Embeddings"
   ]
  },
  {
   "cell_type": "code",
   "execution_count": 89,
   "id": "03ab42d2-2dbc-4437-b0cf-3870df58c3d3",
   "metadata": {},
   "outputs": [
    {
     "data": {
      "text/plain": [
       "0     15000\n",
       "1     15000\n",
       "2     15000\n",
       "3     15000\n",
       "4     14992\n",
       "5     14949\n",
       "6     14758\n",
       "7     14279\n",
       "8     13346\n",
       "9     11981\n",
       "10    10041\n",
       "11     7892\n",
       "12     5853\n",
       "13     4152\n",
       "14     2835\n",
       "15     1861\n",
       "16     1188\n",
       "17      751\n",
       "18      462\n",
       "19      286\n",
       "20      162\n",
       "21      101\n",
       "22       66\n",
       "23       33\n",
       "24       22\n",
       "25       14\n",
       "26        7\n",
       "27        4\n",
       "28        3\n",
       "29        1\n",
       "30        1\n",
       "Name: line_number, dtype: int64"
      ]
     },
     "execution_count": 89,
     "metadata": {},
     "output_type": "execute_result"
    }
   ],
   "source": [
    "train_df['line_number'].value_counts()"
   ]
  },
  {
   "cell_type": "code",
   "execution_count": 90,
   "id": "983c0083-22c6-47ee-8808-c31da6352f60",
   "metadata": {},
   "outputs": [
    {
     "data": {
      "text/plain": [
       "<Axes: ylabel='Frequency'>"
      ]
     },
     "execution_count": 90,
     "metadata": {},
     "output_type": "execute_result"
    },
    {
     "data": {
      "image/png": "[encoded data removed]",
      "text/plain": [
       "<Figure size 640x480 with 1 Axes>"
      ]
     },
     "metadata": {},
     "output_type": "display_data"
    }
   ],
   "source": [
    "train_df.line_number.plot.hist()"
   ]
  },
  {
   "cell_type": "code",
   "execution_count": 100,
   "id": "c92a76be-639e-4ab2-96cc-513603763f6c",
   "metadata": {},
   "outputs": [
    {
     "data": {
      "text/plain": [
       "13.0"
      ]
     },
     "execution_count": 100,
     "metadata": {},
     "output_type": "execute_result"
    }
   ],
   "source": [
    "np.percentile(train_df['line_number'], 95)"
   ]
  },
  {
   "cell_type": "code",
   "execution_count": 95,
   "id": "06f1a6e5-5e68-4971-93ef-06bd7c46f194",
   "metadata": {},
   "outputs": [
    {
     "data": {
      "text/plain": [
       "(<tf.Tensor: shape=(15, 15), dtype=float32, numpy=\n",
       " array([[1., 0., 0., 0., 0., 0., 0., 0., 0., 0., 0., 0., 0., 0., 0.],\n",
       "        [0., 1., 0., 0., 0., 0., 0., 0., 0., 0., 0., 0., 0., 0., 0.],\n",
       "        [0., 0., 1., 0., 0., 0., 0., 0., 0., 0., 0., 0., 0., 0., 0.],\n",
       "        [0., 0., 0., 1., 0., 0., 0., 0., 0., 0., 0., 0., 0., 0., 0.],\n",
       "        [0., 0., 0., 0., 1., 0., 0., 0., 0., 0., 0., 0., 0., 0., 0.],\n",
       "        [0., 0., 0., 0., 0., 1., 0., 0., 0., 0., 0., 0., 0., 0., 0.],\n",
       "        [0., 0., 0., 0., 0., 0., 1., 0., 0., 0., 0., 0., 0., 0., 0.],\n",
       "        [0., 0., 0., 0., 0., 0., 0., 1., 0., 0., 0., 0., 0., 0., 0.],\n",
       "        [0., 0., 0., 0., 0., 0., 0., 0., 1., 0., 0., 0., 0., 0., 0.],\n",
       "        [0., 0., 0., 0., 0., 0., 0., 0., 0., 1., 0., 0., 0., 0., 0.],\n",
       "        [0., 0., 0., 0., 0., 0., 0., 0., 0., 0., 1., 0., 0., 0., 0.],\n",
       "        [0., 0., 0., 0., 0., 0., 0., 0., 0., 0., 0., 1., 0., 0., 0.],\n",
       "        [1., 0., 0., 0., 0., 0., 0., 0., 0., 0., 0., 0., 0., 0., 0.],\n",
       "        [0., 1., 0., 0., 0., 0., 0., 0., 0., 0., 0., 0., 0., 0., 0.],\n",
       "        [0., 0., 1., 0., 0., 0., 0., 0., 0., 0., 0., 0., 0., 0., 0.]],\n",
       "       dtype=float32)>,\n",
       " TensorShape([180040, 15]))"
      ]
     },
     "execution_count": 95,
     "metadata": {},
     "output_type": "execute_result"
    }
   ],
   "source": [
    "train_line_numbers_one_hot = tf.one_hot(train_df['line_number'].to_numpy(), depth=15)\n",
    "train_line_numbers_one_hot[:15], train_line_numbers_one_hot.shape"
   ]
  },
  {
   "cell_type": "code",
   "execution_count": 96,
   "id": "479c3870-a996-4f65-8a21-c0d3864d8e26",
   "metadata": {},
   "outputs": [
    {
     "data": {
      "text/plain": [
       "(TensorShape([30212, 15]), TensorShape([30135, 15]))"
      ]
     },
     "execution_count": 96,
     "metadata": {},
     "output_type": "execute_result"
    }
   ],
   "source": [
    "val_line_numbers_one_hot = tf.one_hot(val_df['line_number'].to_numpy(), depth=15)\n",
    "test_line_numbers_one_hot = tf.one_hot(test_df['line_number'].to_numpy(), depth=15)\n",
    "\n",
    "val_line_numbers_one_hot.shape, test_line_numbers_one_hot.shape"
   ]
  },
  {
   "cell_type": "code",
   "execution_count": 97,
   "id": "df77abeb-4266-4e84-b120-d88e5a6f7cb2",
   "metadata": {},
   "outputs": [
    {
     "data": {
      "text/plain": [
       "11    24468\n",
       "10    23639\n",
       "12    22113\n",
       "9     19400\n",
       "13    18438\n",
       "14    14610\n",
       "8     12285\n",
       "15    10768\n",
       "7      7464\n",
       "16     7429\n",
       "17     5202\n",
       "6      3353\n",
       "18     3344\n",
       "19     2480\n",
       "20     1281\n",
       "5      1146\n",
       "21      770\n",
       "22      759\n",
       "23      264\n",
       "4       215\n",
       "24      200\n",
       "25      182\n",
       "26       81\n",
       "28       58\n",
       "3        32\n",
       "30       31\n",
       "27       28\n",
       "Name: total_lines, dtype: int64"
      ]
     },
     "execution_count": 97,
     "metadata": {},
     "output_type": "execute_result"
    }
   ],
   "source": [
    "train_df.total_lines.value_counts()"
   ]
  },
  {
   "cell_type": "code",
   "execution_count": 98,
   "id": "33ce2872-1ef6-45b4-8d53-9e53c2c65bb5",
   "metadata": {},
   "outputs": [
    {
     "data": {
      "text/plain": [
       "<Axes: ylabel='Frequency'>"
      ]
     },
     "execution_count": 98,
     "metadata": {},
     "output_type": "execute_result"
    },
    {
     "data": {
      "image/png": "[encoded data removed]",
      "text/plain": [
       "<Figure size 640x480 with 1 Axes>"
      ]
     },
     "metadata": {},
     "output_type": "display_data"
    }
   ],
   "source": [
    "train_df.total_lines.plot.hist()"
   ]
  },
  {
   "cell_type": "code",
   "execution_count": 99,
   "id": "20a108a0-57a5-470d-a714-2fb426d49963",
   "metadata": {},
   "outputs": [
    {
     "data": {
      "text/plain": [
       "18.0"
      ]
     },
     "execution_count": 99,
     "metadata": {},
     "output_type": "execute_result"
    }
   ],
   "source": [
    "np.percentile(train_df['total_lines'], 95)"
   ]
  },
  {
   "cell_type": "code",
   "execution_count": 102,
   "id": "594f431c-6b97-44ad-8603-a19808fe2457",
   "metadata": {},
   "outputs": [
    {
     "data": {
      "text/plain": [
       "(TensorShape([180040, 20]),\n",
       " <tf.Tensor: shape=(5, 20), dtype=float32, numpy=\n",
       " array([[0., 0., 0., 0., 0., 0., 0., 0., 0., 0., 0., 1., 0., 0., 0., 0.,\n",
       "         0., 0., 0., 0.],\n",
       "        [0., 0., 0., 0., 0., 0., 0., 0., 0., 0., 0., 1., 0., 0., 0., 0.,\n",
       "         0., 0., 0., 0.],\n",
       "        [0., 0., 0., 0., 0., 0., 0., 0., 0., 0., 0., 1., 0., 0., 0., 0.,\n",
       "         0., 0., 0., 0.],\n",
       "        [0., 0., 0., 0., 0., 0., 0., 0., 0., 0., 0., 1., 0., 0., 0., 0.,\n",
       "         0., 0., 0., 0.],\n",
       "        [0., 0., 0., 0., 0., 0., 0., 0., 0., 0., 0., 1., 0., 0., 0., 0.,\n",
       "         0., 0., 0., 0.]], dtype=float32)>)"
      ]
     },
     "execution_count": 102,
     "metadata": {},
     "output_type": "execute_result"
    }
   ],
   "source": [
    "train_total_lines_one_hot = tf.one_hot(train_df['total_lines'].to_numpy(), depth=20)\n",
    "val_total_lines_one_hot = tf.one_hot(val_df['total_lines'].to_numpy(), depth=20)\n",
    "test_total_lines_one_hot = tf.one_hot(test_df['total_lines'].to_numpy(), depth=20)\n",
    "\n",
    "train_total_lines_one_hot.shape, train_total_lines_one_hot[:5]"
   ]
  },
  {
   "cell_type": "markdown",
   "id": "86340437-f44d-4b3c-93aa-d8f244cd9cc5",
   "metadata": {},
   "source": [
    "#### Building the Tribrid Embedding Model\n",
    "\n",
    "1. Create a token-level model.\n",
    "2. Create a character-level model.\n",
    "3. Create a model for the `line_number` feature.\n",
    "4. Create a model for the `total_lines` feature.\n",
    "5. Combine the outputs of (1) and (2) with `Concatenate`.\n",
    "6. Combine the outputs (3), (4) and (5) with `Concatenate`.\n",
    "7. Create an output layer to accept the tribrid embeddings and output label probabilities.\n",
    "8. Combine the inputs of (1), (2), (3) and (4) and outputs into a `tf.keras.Model`."
   ]
  },
  {
   "cell_type": "code",
   "execution_count": 103,
   "id": "4aca5a7b-7d23-4113-83e1-c07fc7f5ae08",
   "metadata": {},
   "outputs": [],
   "source": [
    "# 1. The token-level model\n",
    "token_inputs = layers.Input(shape=[], dtype='string', name='token_input')\n",
    "token_embeddings = use_embedding_layer(token_inputs)\n",
    "token_outputs = layers.Dense(128, activation='relu')(token_embeddings)\n",
    "token_model = tf.keras.Model(\n",
    "    inputs=token_inputs,\n",
    "    outputs=token_outputs\n",
    ")\n",
    "\n",
    "# 2. The character-level model\n",
    "char_inputs = layers.Input(shape=(1,), dtype='string', name='char_input')\n",
    "char_vectors = char_vectorization_layer(char_inputs)\n",
    "char_embeddings = char_embed(char_vectors)\n",
    "char_bi_lstm = layers.Bidirectional(layers.LSTM(24))(char_embeddings)\n",
    "char_model = tf.keras.Model(\n",
    "    inputs=char_inputs,\n",
    "    outputs=char_bi_lstm\n",
    ")\n",
    "\n",
    "# 3. The line-number model\n",
    "line_number_inputs = layers.Input(shape=(15,), dtype=tf.float32, name='line_number_input')\n",
    "x = layers.Dense(32, activation='relu')(line_number_inputs)\n",
    "line_number_model = tf.keras.Model(\n",
    "    inputs=line_number_inputs,\n",
    "    outputs=x\n",
    ")\n",
    "\n",
    "# 4. The total-lines model\n",
    "total_lines_inputs = layers.Input(shape=(20,), dtype=tf.float32, name='total_lines_input')\n",
    "y = layers.Dense(32, activation='relu')(total_lines_inputs)\n",
    "total_lines_model = tf.keras.Model(\n",
    "    inputs=total_lines_inputs,\n",
    "    outputs=y\n",
    ")\n",
    "\n",
    "# 5. Concatenate (1) and (2)\n",
    "combined_embeddings = layers.Concatenate(name='char_token_hybrid_embeddings')([\n",
    "    token_model.output,\n",
    "    char_model.output\n",
    "])\n",
    "\n",
    "# 5.1 Pass the character-token embeddings through a dropout layer\n",
    "z = layers.Dense(256, activation='relu')(combined_embeddings)\n",
    "z = layers.Dropout(0.5)(z)\n",
    "\n",
    "# 6. Concatenate (3), (4) and (5)\n",
    "tribrid_embeddings = layers.Concatenate(name='char_token_positional_embeddings')([\n",
    "    line_number_model.output,\n",
    "    total_lines_model.output,\n",
    "    z\n",
    "])\n",
    "\n",
    "# 7. The final output layer\n",
    "output_layer = layers.Dense(num_classes, activation='softmax', name='output_layer')(tribrid_embeddings)\n",
    "\n",
    "# 8. The tribrid model\n",
    "model_5 = tf.keras.Model(\n",
    "    inputs=[\n",
    "        line_number_model.input,\n",
    "        total_lines_model.input,\n",
    "        token_model.input,\n",
    "        char_model.input\n",
    "    ],\n",
    "    outputs=output_layer,\n",
    "    name='skimlit_model_5'\n",
    ")"
   ]
  },
  {
   "cell_type": "code",
   "execution_count": 104,
   "id": "8611d177-787f-4886-97c5-69e049e83262",
   "metadata": {},
   "outputs": [
    {
     "name": "stdout",
     "output_type": "stream",
     "text": [
      "Model: \"skimlit_model_5\"\n",
      "__________________________________________________________________________________________________\n",
      " Layer (type)                Output Shape                 Param #   Connected to                  \n",
      "==================================================================================================\n",
      " char_input (InputLayer)     [(None, 1)]                  0         []                            \n",
      "                                                                                                  \n",
      " token_input (InputLayer)    [(None,)]                    0         []                            \n",
      "                                                                                                  \n",
      " char_vectorization_layer (  (None, 290)                  0         ['char_input[0][0]']          \n",
      " TextVectorization)                                                                               \n",
      "                                                                                                  \n",
      " universal_sentence_encoder  (None, 512)                  2567978   ['token_input[0][0]']         \n",
      "  (KerasLayer)                                            24                                      \n",
      "                                                                                                  \n",
      " char_embed (Embedding)      (None, 290, 25)              700       ['char_vectorization_layer[2][\n",
      "                                                                    0]']                          \n",
      "                                                                                                  \n",
      " dense_2 (Dense)             (None, 128)                  65664     ['universal_sentence_encoder[2\n",
      "                                                                    ][0]']                        \n",
      "                                                                                                  \n",
      " bidirectional_1 (Bidirecti  (None, 48)                   9600      ['char_embed[2][0]']          \n",
      " onal)                                                                                            \n",
      "                                                                                                  \n",
      " char_token_hybrid_embeddin  (None, 176)                  0         ['dense_2[0][0]',             \n",
      " gs (Concatenate)                                                    'bidirectional_1[0][0]']     \n",
      "                                                                                                  \n",
      " line_number_input (InputLa  [(None, 15)]                 0         []                            \n",
      " yer)                                                                                             \n",
      "                                                                                                  \n",
      " total_lines_input (InputLa  [(None, 20)]                 0         []                            \n",
      " yer)                                                                                             \n",
      "                                                                                                  \n",
      " dense_5 (Dense)             (None, 256)                  45312     ['char_token_hybrid_embeddings\n",
      "                                                                    [0][0]']                      \n",
      "                                                                                                  \n",
      " dense_3 (Dense)             (None, 32)                   512       ['line_number_input[0][0]']   \n",
      "                                                                                                  \n",
      " dense_4 (Dense)             (None, 32)                   672       ['total_lines_input[0][0]']   \n",
      "                                                                                                  \n",
      " dropout_2 (Dropout)         (None, 256)                  0         ['dense_5[0][0]']             \n",
      "                                                                                                  \n",
      " char_token_positional_embe  (None, 320)                  0         ['dense_3[0][0]',             \n",
      " ddings (Concatenate)                                                'dense_4[0][0]',             \n",
      "                                                                     'dropout_2[0][0]']           \n",
      "                                                                                                  \n",
      " output_layer (Dense)        (None, 5)                    1605      ['char_token_positional_embedd\n",
      "                                                                    ings[0][0]']                  \n",
      "                                                                                                  \n",
      "==================================================================================================\n",
      "Total params: 256921889 (980.08 MB)\n",
      "Trainable params: 124065 (484.63 KB)\n",
      "Non-trainable params: 256797824 (979.61 MB)\n",
      "__________________________________________________________________________________________________\n"
     ]
    }
   ],
   "source": [
    "model_5.summary()"
   ]
  },
  {
   "cell_type": "code",
   "execution_count": 105,
   "id": "efde3550-2b6f-4402-a494-7e5a6aef8eac",
   "metadata": {},
   "outputs": [
    {
     "data": {
      "image/png": "[encoded data removed]",
      "text/plain": [
       "<IPython.core.display.Image object>"
      ]
     },
     "execution_count": 105,
     "metadata": {},
     "output_type": "execute_result"
    }
   ],
   "source": [
    "tf.keras.utils.plot_model(model_5, to_file='skimlit_model_5.png', show_shapes=True)"
   ]
  },
  {
   "cell_type": "code",
   "execution_count": 106,
   "id": "d121a09e-a2ce-4334-9532-fb569bf40f8d",
   "metadata": {},
   "outputs": [],
   "source": [
    "# 9. Compile the token + char + positional embedding model\n",
    "model_5.compile(\n",
    "    loss=tf.keras.losses.CategoricalCrossentropy(label_smoothing=0.2),\n",
    "    optimizer=tf.keras.optimizers.legacy.Adam(),\n",
    "    metrics=['accuracy']\n",
    ")"
   ]
  },
  {
   "cell_type": "markdown",
   "id": "e3eab7e4-1af4-4793-b9e8-18fb9942c59c",
   "metadata": {},
   "source": [
    "> For more on label smoothing: https://pyimagesearch.com/2019/12/30/label-smoothing-with-keras-tensorflow-and-deep-learning/"
   ]
  },
  {
   "cell_type": "markdown",
   "id": "8775381e-9fa7-4393-b1b6-57f0b5922210",
   "metadata": {},
   "source": [
    "#### Creating the Tribrid Embedding Datasets"
   ]
  },
  {
   "cell_type": "code",
   "execution_count": 107,
   "id": "69b91bb7-cab4-4570-98af-3e09d81ac2d3",
   "metadata": {},
   "outputs": [
    {
     "data": {
      "text/plain": [
       "<_PrefetchDataset element_spec=((TensorSpec(shape=(None, 15), dtype=tf.float32, name=None), TensorSpec(shape=(None, 20), dtype=tf.float32, name=None), TensorSpec(shape=(None,), dtype=tf.string, name=None), TensorSpec(shape=(None,), dtype=tf.string, name=None)), TensorSpec(shape=(None, 5), dtype=tf.float64, name=None))>"
      ]
     },
     "execution_count": 107,
     "metadata": {},
     "output_type": "execute_result"
    }
   ],
   "source": [
    "train_tribrid_dataset = tf.data.Dataset.zip((\n",
    "    tf.data.Dataset.from_tensor_slices((\n",
    "        train_line_numbers_one_hot,\n",
    "        train_total_lines_one_hot,\n",
    "        train_sentences,\n",
    "        train_chars\n",
    "    )),\n",
    "    tf.data.Dataset.from_tensor_slices(train_labels_one_hot)\n",
    ")).batch(32).prefetch(AUTOTUNE)\n",
    "\n",
    "valid_tribrid_dataset = tf.data.Dataset.zip((\n",
    "    tf.data.Dataset.from_tensor_slices((\n",
    "        val_line_numbers_one_hot,\n",
    "        val_total_lines_one_hot,\n",
    "        val_sentences,\n",
    "        val_chars\n",
    "    )),\n",
    "    tf.data.Dataset.from_tensor_slices(val_labels_one_hot)\n",
    ")).batch(32).prefetch(AUTOTUNE)\n",
    "\n",
    "test_tribrid_dataset = tf.data.Dataset.zip((\n",
    "    tf.data.Dataset.from_tensor_slices((\n",
    "        test_line_numbers_one_hot,\n",
    "        test_total_lines_one_hot,\n",
    "        test_sentences,\n",
    "        test_chars\n",
    "    )),\n",
    "    tf.data.Dataset.from_tensor_slices(test_labels_one_hot)\n",
    ")).batch(32).prefetch(AUTOTUNE)\n",
    "\n",
    "train_tribrid_dataset"
   ]
  },
  {
   "cell_type": "markdown",
   "id": "dc49a0e8-2469-41ac-ac7f-6cd19e314ce2",
   "metadata": {},
   "source": [
    "#### Fitting the Tribrid Model"
   ]
  },
  {
   "cell_type": "code",
   "execution_count": 108,
   "id": "b98ce8ad-f633-40a2-bd5b-2bbb6e0cf8b8",
   "metadata": {},
   "outputs": [
    {
     "name": "stdout",
     "output_type": "stream",
     "text": [
      "Epoch 1/3\n",
      "562/562 [==============================] - 55s 87ms/step - loss: 1.1071 - accuracy: 0.7171 - val_loss: 0.9821 - val_accuracy: 0.8068\n",
      "Epoch 2/3\n",
      "562/562 [==============================] - 45s 80ms/step - loss: 0.9687 - accuracy: 0.8138 - val_loss: 0.9514 - val_accuracy: 0.8255\n",
      "Epoch 3/3\n",
      "562/562 [==============================] - 47s 84ms/step - loss: 0.9513 - accuracy: 0.8241 - val_loss: 0.9421 - val_accuracy: 0.8288\n"
     ]
    }
   ],
   "source": [
    "history_5 = model_5.fit(\n",
    "    train_tribrid_dataset,\n",
    "    epochs=3,\n",
    "    steps_per_epoch=int(0.1 * len(train_tribrid_dataset)),\n",
    "    validation_data=valid_tribrid_dataset,\n",
    "    validation_steps=int(0.1 * len(valid_tribrid_dataset))\n",
    ")"
   ]
  },
  {
   "cell_type": "code",
   "execution_count": 109,
   "id": "8b441c15-e541-4603-9751-62d1d3a44aa2",
   "metadata": {},
   "outputs": [
    {
     "name": "stdout",
     "output_type": "stream",
     "text": [
      "945/945 [==============================] - 21s 20ms/step\n"
     ]
    },
    {
     "data": {
      "text/plain": [
       "array([[0.50284016, 0.11095677, 0.00918146, 0.3605205 , 0.0165011 ],\n",
       "       [0.5537837 , 0.10245509, 0.03985364, 0.2933568 , 0.0105507 ],\n",
       "       [0.2922519 , 0.09117708, 0.11021468, 0.44066614, 0.0656902 ],\n",
       "       ...,\n",
       "       [0.04003962, 0.10741596, 0.05043951, 0.03685592, 0.7652491 ],\n",
       "       [0.03078633, 0.27761498, 0.08448258, 0.03047094, 0.57664514],\n",
       "       [0.17564893, 0.6046672 , 0.10933894, 0.04445126, 0.06589372]],\n",
       "      dtype=float32)"
      ]
     },
     "execution_count": 109,
     "metadata": {},
     "output_type": "execute_result"
    }
   ],
   "source": [
    "model_5_pred_probs = model_5.predict(valid_tribrid_dataset)\n",
    "model_5_pred_probs"
   ]
  },
  {
   "cell_type": "code",
   "execution_count": 110,
   "id": "1d5b5b77-43f2-4ff2-8e9e-f1625a37faf0",
   "metadata": {},
   "outputs": [
    {
     "data": {
      "text/plain": [
       "<tf.Tensor: shape=(30212,), dtype=int64, numpy=array([0, 0, 3, ..., 4, 4, 1])>"
      ]
     },
     "execution_count": 110,
     "metadata": {},
     "output_type": "execute_result"
    }
   ],
   "source": [
    "model_5_preds = tf.argmax(model_5_pred_probs, axis=1)\n",
    "model_5_preds"
   ]
  },
  {
   "cell_type": "code",
   "execution_count": 111,
   "id": "6f49a847-2d09-4278-85a3-c8029c33b829",
   "metadata": {},
   "outputs": [
    {
     "data": {
      "text/plain": [
       "{'accuracy': 83.17224943730967,\n",
       " 'precision': 0.8312502211907868,\n",
       " 'recall': 0.8317224943730968,\n",
       " 'f1': 0.8308620090769324}"
      ]
     },
     "execution_count": 111,
     "metadata": {},
     "output_type": "execute_result"
    }
   ],
   "source": [
    "model_5_results = calculate_results(\n",
    "    y_true=val_labels_encoded,\n",
    "    y_pred=model_5_preds\n",
    ")\n",
    "model_5_results"
   ]
  },
  {
   "cell_type": "markdown",
   "id": "fb843866-a94a-4f1b-8df3-2133298927a9",
   "metadata": {},
   "source": [
    "### Comparing the Model Results"
   ]
  },
  {
   "cell_type": "code",
   "execution_count": 113,
   "id": "5b9a260c-9108-4562-8345-460258f7ade7",
   "metadata": {},
   "outputs": [
    {
     "data": {
      "text/html": [
       "<div>\n",
       "<style scoped>\n",
       "    .dataframe tbody tr th:only-of-type {\n",
       "        vertical-align: middle;\n",
       "    }\n",
       "\n",
       "    .dataframe tbody tr th {\n",
       "        vertical-align: top;\n",
       "    }\n",
       "\n",
       "    .dataframe thead th {\n",
       "        text-align: right;\n",
       "    }\n",
       "</style>\n",
       "<table border=\"1\" class=\"dataframe\">\n",
       "  <thead>\n",
       "    <tr style=\"text-align: right;\">\n",
       "      <th></th>\n",
       "      <th>accuracy</th>\n",
       "      <th>precision</th>\n",
       "      <th>recall</th>\n",
       "      <th>f1</th>\n",
       "    </tr>\n",
       "  </thead>\n",
       "  <tbody>\n",
       "    <tr>\n",
       "      <th>model_0_baseline</th>\n",
       "      <td>0.721832</td>\n",
       "      <td>0.718647</td>\n",
       "      <td>0.721832</td>\n",
       "      <td>0.698925</td>\n",
       "    </tr>\n",
       "    <tr>\n",
       "      <th>model_1_custom_token_embeddings</th>\n",
       "      <td>0.784126</td>\n",
       "      <td>0.780867</td>\n",
       "      <td>0.784126</td>\n",
       "      <td>0.781733</td>\n",
       "    </tr>\n",
       "    <tr>\n",
       "      <th>model_2_pretrained_token_embeddings</th>\n",
       "      <td>0.713591</td>\n",
       "      <td>0.714066</td>\n",
       "      <td>0.713591</td>\n",
       "      <td>0.710690</td>\n",
       "    </tr>\n",
       "    <tr>\n",
       "      <th>model_3_custom_char_embeddings</th>\n",
       "      <td>0.646432</td>\n",
       "      <td>0.636724</td>\n",
       "      <td>0.646432</td>\n",
       "      <td>0.636396</td>\n",
       "    </tr>\n",
       "    <tr>\n",
       "      <th>model_4_hybrid_char_token_embeddings</th>\n",
       "      <td>0.734344</td>\n",
       "      <td>0.733815</td>\n",
       "      <td>0.734344</td>\n",
       "      <td>0.732243</td>\n",
       "    </tr>\n",
       "    <tr>\n",
       "      <th>model_5_tribrid_char_token_pos_embeddings</th>\n",
       "      <td>0.831722</td>\n",
       "      <td>0.831250</td>\n",
       "      <td>0.831722</td>\n",
       "      <td>0.830862</td>\n",
       "    </tr>\n",
       "  </tbody>\n",
       "</table>\n",
       "</div>"
      ],
      "text/plain": [
       "                                           accuracy  precision    recall  \\\n",
       "model_0_baseline                           0.721832   0.718647  0.721832   \n",
       "model_1_custom_token_embeddings            0.784126   0.780867  0.784126   \n",
       "model_2_pretrained_token_embeddings        0.713591   0.714066  0.713591   \n",
       "model_3_custom_char_embeddings             0.646432   0.636724  0.646432   \n",
       "model_4_hybrid_char_token_embeddings       0.734344   0.733815  0.734344   \n",
       "model_5_tribrid_char_token_pos_embeddings  0.831722   0.831250  0.831722   \n",
       "\n",
       "                                                 f1  \n",
       "model_0_baseline                           0.698925  \n",
       "model_1_custom_token_embeddings            0.781733  \n",
       "model_2_pretrained_token_embeddings        0.710690  \n",
       "model_3_custom_char_embeddings             0.636396  \n",
       "model_4_hybrid_char_token_embeddings       0.732243  \n",
       "model_5_tribrid_char_token_pos_embeddings  0.830862  "
      ]
     },
     "execution_count": 113,
     "metadata": {},
     "output_type": "execute_result"
    }
   ],
   "source": [
    "model_results = pd.DataFrame({\n",
    "    'model_0_baseline': baseline_results,\n",
    "    'model_1_custom_token_embeddings': model_1_results,\n",
    "    'model_2_pretrained_token_embeddings': model_2_results,\n",
    "    'model_3_custom_char_embeddings': model_3_results,\n",
    "    'model_4_hybrid_char_token_embeddings': model_4_results,\n",
    "    'model_5_tribrid_char_token_pos_embeddings': model_5_results\n",
    "})\n",
    "model_results = model_results.transpose()\n",
    "model_results['accuracy'] = model_results['accuracy'] / 100\n",
    "model_results"
   ]
  },
  {
   "cell_type": "code",
   "execution_count": 114,
   "id": "2be4c516-f443-4774-b868-f362256019fe",
   "metadata": {},
   "outputs": [
    {
     "data": {
      "image/png": "[encoded data removed]",
      "text/plain": [
       "<Figure size 1000x700 with 1 Axes>"
      ]
     },
     "metadata": {},
     "output_type": "display_data"
    }
   ],
   "source": [
    "model_results.plot(kind='barh', figsize=(10, 7)).legend(bbox_to_anchor=(1.0, 1.0));"
   ]
  },
  {
   "cell_type": "code",
   "execution_count": 115,
   "id": "3debcdf9-e585-4891-8bd4-808930fef678",
   "metadata": {},
   "outputs": [
    {
     "data": {
      "image/png": "[encoded data removed]",
      "text/plain": [
       "<Figure size 1000x700 with 1 Axes>"
      ]
     },
     "metadata": {},
     "output_type": "display_data"
    }
   ],
   "source": [
    "model_results.sort_values('f1')['f1'].plot(kind='barh', figsize=(10, 7));"
   ]
  },
  {
   "cell_type": "markdown",
   "id": "3a5e37ee-7710-4a2c-a982-32d29218e925",
   "metadata": {},
   "source": [
    "## Working with the PubMed 200k RCT Dataset"
   ]
  },
  {
   "cell_type": "code",
   "execution_count": 5,
   "id": "30185487-1c18-4a71-9b3e-a9497a91ae72",
   "metadata": {},
   "outputs": [],
   "source": [
    "data_dir = 'pubmed-rct/PubMed_200k_RCT_numbers_replaced_with_at_sign/'"
   ]
  },
  {
   "cell_type": "code",
   "execution_count": 119,
   "id": "5587556b-9346-44bb-9da8-c9b84524b392",
   "metadata": {},
   "outputs": [
    {
     "name": "stdout",
     "output_type": "stream",
     "text": [
      "Archive:  pubmed-rct/PubMed_200k_RCT_numbers_replaced_with_at_sign/train.zip\n",
      "  inflating: train.txt               \n"
     ]
    }
   ],
   "source": [
    "!unzip 'pubmed-rct/PubMed_200k_RCT_numbers_replaced_with_at_sign/train.zip'"
   ]
  },
  {
   "cell_type": "code",
   "execution_count": 120,
   "id": "a68c4903-6ed1-42b7-a4b7-83eb521663ac",
   "metadata": {},
   "outputs": [],
   "source": [
    "!mv 'train.txt' 'pubmed-rct/PubMed_200k_RCT_numbers_replaced_with_at_sign/'"
   ]
  },
  {
   "cell_type": "code",
   "execution_count": 6,
   "id": "370bee2a-4fb2-4ba9-8eee-62736aa7d965",
   "metadata": {},
   "outputs": [],
   "source": [
    "import tensorflow\n",
    "\n",
    "from tensorflow import keras\n",
    "from tensorflow.data import Dataset, AUTOTUNE\n",
    "from tensorflow.keras import layers"
   ]
  },
  {
   "cell_type": "markdown",
   "id": "7a0de3e5-11d2-4025-b5bc-b3a238e7bc4d",
   "metadata": {},
   "source": [
    "### Preparing the Datasets"
   ]
  },
  {
   "cell_type": "code",
   "execution_count": 7,
   "id": "02ae299c-14d4-4d0d-a75a-783880b8f4d5",
   "metadata": {},
   "outputs": [
    {
     "data": {
      "text/html": [
       "<div>\n",
       "<style scoped>\n",
       "    .dataframe tbody tr th:only-of-type {\n",
       "        vertical-align: middle;\n",
       "    }\n",
       "\n",
       "    .dataframe tbody tr th {\n",
       "        vertical-align: top;\n",
       "    }\n",
       "\n",
       "    .dataframe thead th {\n",
       "        text-align: right;\n",
       "    }\n",
       "</style>\n",
       "<table border=\"1\" class=\"dataframe\">\n",
       "  <thead>\n",
       "    <tr style=\"text-align: right;\">\n",
       "      <th></th>\n",
       "      <th>target</th>\n",
       "      <th>text</th>\n",
       "      <th>line_number</th>\n",
       "      <th>total_lines</th>\n",
       "    </tr>\n",
       "  </thead>\n",
       "  <tbody>\n",
       "    <tr>\n",
       "      <th>0</th>\n",
       "      <td>BACKGROUND</td>\n",
       "      <td>the emergence of hiv as a chronic condition me...</td>\n",
       "      <td>0</td>\n",
       "      <td>10</td>\n",
       "    </tr>\n",
       "    <tr>\n",
       "      <th>1</th>\n",
       "      <td>BACKGROUND</td>\n",
       "      <td>this paper describes the design and evaluation...</td>\n",
       "      <td>1</td>\n",
       "      <td>10</td>\n",
       "    </tr>\n",
       "    <tr>\n",
       "      <th>2</th>\n",
       "      <td>METHODS</td>\n",
       "      <td>this study is designed as a randomised control...</td>\n",
       "      <td>2</td>\n",
       "      <td>10</td>\n",
       "    </tr>\n",
       "    <tr>\n",
       "      <th>3</th>\n",
       "      <td>METHODS</td>\n",
       "      <td>the intervention group will participate in the...</td>\n",
       "      <td>3</td>\n",
       "      <td>10</td>\n",
       "    </tr>\n",
       "    <tr>\n",
       "      <th>4</th>\n",
       "      <td>METHODS</td>\n",
       "      <td>the program is based on self-efficacy theory a...</td>\n",
       "      <td>4</td>\n",
       "      <td>10</td>\n",
       "    </tr>\n",
       "  </tbody>\n",
       "</table>\n",
       "</div>"
      ],
      "text/plain": [
       "       target                                               text  line_number  \\\n",
       "0  BACKGROUND  the emergence of hiv as a chronic condition me...            0   \n",
       "1  BACKGROUND  this paper describes the design and evaluation...            1   \n",
       "2     METHODS  this study is designed as a randomised control...            2   \n",
       "3     METHODS  the intervention group will participate in the...            3   \n",
       "4     METHODS  the program is based on self-efficacy theory a...            4   \n",
       "\n",
       "   total_lines  \n",
       "0           10  \n",
       "1           10  \n",
       "2           10  \n",
       "3           10  \n",
       "4           10  "
      ]
     },
     "execution_count": 7,
     "metadata": {},
     "output_type": "execute_result"
    }
   ],
   "source": [
    "import pandas as pd\n",
    "\n",
    "# Create the dataframes\n",
    "train_df = pd.DataFrame(preprocess_text_with_line_numbers(data_dir + 'train.txt'))\n",
    "val_df = pd.DataFrame(preprocess_text_with_line_numbers(data_dir + 'dev.txt'))\n",
    "test_df = pd.DataFrame(preprocess_text_with_line_numbers(data_dir + 'test.txt'))\n",
    "\n",
    "train_df.head()"
   ]
  },
  {
   "cell_type": "code",
   "execution_count": 8,
   "id": "7546250f-fe1a-43d9-996b-2642f193e324",
   "metadata": {},
   "outputs": [
    {
     "data": {
      "text/plain": [
       "(2211861, 28932, 29493)"
      ]
     },
     "execution_count": 8,
     "metadata": {},
     "output_type": "execute_result"
    }
   ],
   "source": [
    "len(train_df), len(val_df), len(test_df)"
   ]
  },
  {
   "cell_type": "code",
   "execution_count": 9,
   "id": "cdcfd1bb-6b9b-4950-bd0d-0d862631793f",
   "metadata": {},
   "outputs": [
    {
     "data": {
      "text/plain": [
       "RESULTS        766271\n",
       "METHODS        722586\n",
       "CONCLUSIONS    339714\n",
       "BACKGROUND     196689\n",
       "OBJECTIVE      186601\n",
       "Name: target, dtype: int64"
      ]
     },
     "execution_count": 9,
     "metadata": {},
     "output_type": "execute_result"
    }
   ],
   "source": [
    "train_df['target'].value_counts()"
   ]
  },
  {
   "cell_type": "code",
   "execution_count": 10,
   "id": "e34dfbf1-4557-4507-af42-074d0f32b37c",
   "metadata": {},
   "outputs": [
    {
     "data": {
      "text/plain": [
       "array([0, 0, 2, ..., 4, 4, 4])"
      ]
     },
     "execution_count": 10,
     "metadata": {},
     "output_type": "execute_result"
    }
   ],
   "source": [
    "# Collect the sample labels and encode them\n",
    "from sklearn.preprocessing import LabelEncoder\n",
    "\n",
    "label_encoder = LabelEncoder()\n",
    "\n",
    "train_labels_encoded = label_encoder.fit_transform(train_df['target'].to_numpy())\n",
    "val_labels_encoded = label_encoder.fit_transform(val_df['target'].to_numpy())\n",
    "test_labels_encoded = label_encoder.fit_transform(test_df['target'].to_numpy())\n",
    "\n",
    "train_labels_encoded"
   ]
  },
  {
   "cell_type": "code",
   "execution_count": 11,
   "id": "5dc94316-e49b-4e2b-9749-d1eb790e051e",
   "metadata": {},
   "outputs": [
    {
     "data": {
      "text/plain": [
       "<tf.Tensor: shape=(2211861, 5), dtype=float32, numpy=\n",
       "array([[1., 0., 0., 0., 0.],\n",
       "       [1., 0., 0., 0., 0.],\n",
       "       [0., 0., 1., 0., 0.],\n",
       "       ...,\n",
       "       [0., 0., 0., 0., 1.],\n",
       "       [0., 0., 0., 0., 1.],\n",
       "       [0., 0., 0., 0., 1.]], dtype=float32)>"
      ]
     },
     "execution_count": 11,
     "metadata": {},
     "output_type": "execute_result"
    }
   ],
   "source": [
    "# Collect the sample sentences\n",
    "train_sentences = train_df['text'].to_list()\n",
    "val_sentences = val_df['text'].to_list()\n",
    "test_sentences = test_df['text'].to_list()\n",
    "\n",
    "# One-hot encode the labels\n",
    "train_labels_one_hot = tf.one_hot(train_labels_encoded, depth=5)\n",
    "val_labels_one_hot = tf.one_hot(val_labels_encoded, depth=5)\n",
    "test_labels_one_hot = tf.one_hot(test_labels_encoded, depth=5)\n",
    "\n",
    "train_labels_one_hot"
   ]
  },
  {
   "cell_type": "code",
   "execution_count": 12,
   "id": "38af37c8-3926-4384-a68a-c61d275ba314",
   "metadata": {},
   "outputs": [
    {
     "data": {
      "text/plain": [
       "0     190654\n",
       "1     190654\n",
       "2     190654\n",
       "3     190644\n",
       "4     190357\n",
       "5     189080\n",
       "6     185551\n",
       "7     177967\n",
       "8     164187\n",
       "9     143835\n",
       "10    117871\n",
       "11     90168\n",
       "12     64864\n",
       "13     44350\n",
       "14     29186\n",
       "15     18785\n",
       "16     11803\n",
       "17      7392\n",
       "18      4688\n",
       "19      3030\n",
       "20      1925\n",
       "21      1268\n",
       "22       814\n",
       "23       564\n",
       "24       398\n",
       "25       288\n",
       "26       214\n",
       "27       159\n",
       "28       118\n",
       "29        88\n",
       "30        64\n",
       "31        55\n",
       "32        42\n",
       "33        34\n",
       "34        21\n",
       "35        17\n",
       "36        12\n",
       "37         9\n",
       "40         6\n",
       "38         6\n",
       "39         6\n",
       "41         5\n",
       "42         5\n",
       "43         5\n",
       "44         4\n",
       "45         4\n",
       "46         3\n",
       "47         2\n",
       "48         2\n",
       "49         2\n",
       "50         1\n",
       "Name: line_number, dtype: int64"
      ]
     },
     "execution_count": 12,
     "metadata": {},
     "output_type": "execute_result"
    }
   ],
   "source": [
    "train_df.line_number.value_counts()"
   ]
  },
  {
   "cell_type": "code",
   "execution_count": 13,
   "id": "4aade2fa-1deb-427b-b91d-f7d486c32f25",
   "metadata": {},
   "outputs": [
    {
     "data": {
      "image/png": "[encoded data removed]",
      "text/plain": [
       "<Figure size 640x480 with 1 Axes>"
      ]
     },
     "metadata": {},
     "output_type": "display_data"
    }
   ],
   "source": [
    "train_df.line_number.plot.hist();"
   ]
  },
  {
   "cell_type": "code",
   "execution_count": 14,
   "id": "0dde23a1-3ccb-4499-8a6d-a358d6d518d4",
   "metadata": {},
   "outputs": [
    {
     "data": {
      "text/plain": [
       "13.0"
      ]
     },
     "execution_count": 14,
     "metadata": {},
     "output_type": "execute_result"
    }
   ],
   "source": [
    "import numpy as np\n",
    "\n",
    "np.percentile(train_df['line_number'], 95)"
   ]
  },
  {
   "cell_type": "code",
   "execution_count": 15,
   "id": "943374e7-f1e5-4c23-9a60-e5425994a5a6",
   "metadata": {},
   "outputs": [
    {
     "data": {
      "text/plain": [
       "<tf.Tensor: shape=(2211861, 15), dtype=float32, numpy=\n",
       "array([[1., 0., 0., ..., 0., 0., 0.],\n",
       "       [0., 1., 0., ..., 0., 0., 0.],\n",
       "       [0., 0., 1., ..., 0., 0., 0.],\n",
       "       ...,\n",
       "       [0., 0., 0., ..., 0., 0., 0.],\n",
       "       [0., 0., 0., ..., 0., 0., 0.],\n",
       "       [0., 0., 0., ..., 0., 0., 0.]], dtype=float32)>"
      ]
     },
     "execution_count": 15,
     "metadata": {},
     "output_type": "execute_result"
    }
   ],
   "source": [
    "# Collect the line_numbers and one-hot encode them\n",
    "train_line_numbers_one_hot = tf.one_hot(train_df['line_number'].to_numpy(), depth=15)\n",
    "val_line_numbers_one_hot = tf.one_hot(val_df['line_number'].to_numpy(), depth=15)\n",
    "test_line_numbers_one_hot = tf.one_hot(test_df['line_number'].to_numpy(), depth=15)\n",
    "\n",
    "train_line_numbers_one_hot"
   ]
  },
  {
   "cell_type": "code",
   "execution_count": 16,
   "id": "40c71ddb-d8f9-4c32-95eb-97f03ef9957b",
   "metadata": {},
   "outputs": [
    {
     "data": {
      "text/plain": [
       "10    304733\n",
       "11    303648\n",
       "12    266682\n",
       "9     259640\n",
       "13    212296\n",
       "8     183168\n",
       "14    156015\n",
       "15    111712\n",
       "7     110240\n",
       "16     74987\n",
       "6      53088\n",
       "17     48672\n",
       "18     31502\n",
       "19     22100\n",
       "5      21174\n",
       "20     13797\n",
       "21      9988\n",
       "4       6385\n",
       "22      5750\n",
       "23      3984\n",
       "24      2750\n",
       "25      1924\n",
       "26      1485\n",
       "27      1148\n",
       "3       1148\n",
       "28       870\n",
       "29       720\n",
       "33       442\n",
       "31       416\n",
       "30       279\n",
       "32       264\n",
       "35       180\n",
       "34       140\n",
       "37       114\n",
       "36       111\n",
       "50        51\n",
       "49        50\n",
       "46        47\n",
       "45        46\n",
       "43        44\n",
       "40        41\n",
       "2         30\n",
       "Name: total_lines, dtype: int64"
      ]
     },
     "execution_count": 16,
     "metadata": {},
     "output_type": "execute_result"
    }
   ],
   "source": [
    "train_df.total_lines.value_counts()"
   ]
  },
  {
   "cell_type": "code",
   "execution_count": 17,
   "id": "f354e869-be5d-495a-969c-3c881a4bcb77",
   "metadata": {},
   "outputs": [
    {
     "data": {
      "image/png": "[encoded data removed]",
      "text/plain": [
       "<Figure size 640x480 with 1 Axes>"
      ]
     },
     "metadata": {},
     "output_type": "display_data"
    }
   ],
   "source": [
    "train_df.total_lines.plot.hist();"
   ]
  },
  {
   "cell_type": "code",
   "execution_count": 18,
   "id": "c5bd5132-b894-44dd-ba3a-20a6c13a2105",
   "metadata": {},
   "outputs": [
    {
     "data": {
      "text/plain": [
       "17.0"
      ]
     },
     "execution_count": 18,
     "metadata": {},
     "output_type": "execute_result"
    }
   ],
   "source": [
    "np.percentile(train_df['total_lines'], 95)"
   ]
  },
  {
   "cell_type": "code",
   "execution_count": 19,
   "id": "6b341095-a098-414e-8334-e4f1c37a2eb0",
   "metadata": {},
   "outputs": [
    {
     "data": {
      "text/plain": [
       "<tf.Tensor: shape=(2211861, 20), dtype=float32, numpy=\n",
       "array([[0., 0., 0., ..., 0., 0., 0.],\n",
       "       [0., 0., 0., ..., 0., 0., 0.],\n",
       "       [0., 0., 0., ..., 0., 0., 0.],\n",
       "       ...,\n",
       "       [0., 0., 0., ..., 0., 0., 0.],\n",
       "       [0., 0., 0., ..., 0., 0., 0.],\n",
       "       [0., 0., 0., ..., 0., 0., 0.]], dtype=float32)>"
      ]
     },
     "execution_count": 19,
     "metadata": {},
     "output_type": "execute_result"
    }
   ],
   "source": [
    "# Collect the total_lines and one-hot encode them\n",
    "train_total_lines_one_hot = tf.one_hot(train_df['total_lines'].to_numpy(), depth=20)\n",
    "val_total_lines_one_hot = tf.one_hot(val_df['total_lines'].to_numpy(), depth=20)\n",
    "test_total_lines_one_hot = tf.one_hot(test_df['total_lines'].to_numpy(), depth=20)\n",
    "\n",
    "train_total_lines_one_hot"
   ]
  },
  {
   "cell_type": "code",
   "execution_count": 24,
   "id": "867fb38a-3777-4ba7-8faf-f1ce22a877c2",
   "metadata": {},
   "outputs": [
    {
     "data": {
      "text/plain": [
       "'t h e   e m e r g e n c e   o f   h i v   a s   a   c h r o n i c   c o n d i t i o n   m e a n s   t h a t   p e o p l e   l i v i n g   w i t h   h i v   a r e   r e q u i r e d   t o   t a k e   m o r e   r e s p o n s i b i l i t y   f o r   t h e   s e l f - m a n a g e m e n t   o f   t h e i r   c o n d i t i o n   ,   i n c l u d i n g   m a k i n g   p h y s i c a l   ,   e m o t i o n a l   a n d   s o c i a l   a d j u s t m e n t s   .'"
      ]
     },
     "execution_count": 24,
     "metadata": {},
     "output_type": "execute_result"
    }
   ],
   "source": [
    "# Create the character sets\n",
    "train_chars = [split_chars(sentence) for sentence in train_sentences]\n",
    "val_chars = [split_chars(sentence) for sentence in val_sentences]\n",
    "test_chars = [split_chars(sentence) for sentence in test_sentences]\n",
    "\n",
    "train_chars[0]"
   ]
  },
  {
   "cell_type": "code",
   "execution_count": 25,
   "id": "72fb7b7a-21a4-4690-b174-ceb475261939",
   "metadata": {},
   "outputs": [
    {
     "data": {
      "text/plain": [
       "284.0"
      ]
     },
     "execution_count": 25,
     "metadata": {},
     "output_type": "execute_result"
    }
   ],
   "source": [
    "np.percentile([len(sentence) for sentence in train_sentences], 95)"
   ]
  },
  {
   "cell_type": "code",
   "execution_count": 26,
   "id": "807817ac-3d44-42ed-b768-3083c8987fb5",
   "metadata": {},
   "outputs": [
    {
     "data": {
      "text/plain": [
       "<_PrefetchDataset element_spec=((TensorSpec(shape=(None, 15), dtype=tf.float32, name=None), TensorSpec(shape=(None, 20), dtype=tf.float32, name=None), TensorSpec(shape=(None,), dtype=tf.string, name=None), TensorSpec(shape=(None,), dtype=tf.string, name=None)), TensorSpec(shape=(None, 5), dtype=tf.float32, name=None))>"
      ]
     },
     "execution_count": 26,
     "metadata": {},
     "output_type": "execute_result"
    }
   ],
   "source": [
    "# Create the datasets and prefetch them\n",
    "from tensorflow.data import Dataset, AUTOTUNE\n",
    "\n",
    "train_dataset = Dataset.zip((\n",
    "    Dataset.from_tensor_slices((\n",
    "        train_line_numbers_one_hot,\n",
    "        train_total_lines_one_hot,\n",
    "        train_sentences,\n",
    "        train_chars\n",
    "    )),\n",
    "    Dataset.from_tensor_slices(train_labels_one_hot)\n",
    ")).batch(32).prefetch(AUTOTUNE)\n",
    "\n",
    "valid_dataset = Dataset.zip((\n",
    "    Dataset.from_tensor_slices((\n",
    "        val_line_numbers_one_hot,\n",
    "        val_total_lines_one_hot,\n",
    "        val_sentences,\n",
    "        val_chars\n",
    "    )),\n",
    "    Dataset.from_tensor_slices(val_labels_one_hot)\n",
    ")).batch(32).prefetch(AUTOTUNE)\n",
    "\n",
    "test_dataset = Dataset.zip((\n",
    "    Dataset.from_tensor_slices((\n",
    "        test_line_numbers_one_hot,\n",
    "        test_total_lines_one_hot,\n",
    "        test_sentences,\n",
    "        test_chars\n",
    "    )),\n",
    "    Dataset.from_tensor_slices(test_labels_one_hot)\n",
    ")).batch(32).prefetch(AUTOTUNE)\n",
    "\n",
    "train_dataset"
   ]
  },
  {
   "cell_type": "markdown",
   "id": "61d5cdfb-a1cc-4816-8b93-ab460f4ffc93",
   "metadata": {},
   "source": [
    "### Creating the Token Embeddings"
   ]
  },
  {
   "cell_type": "code",
   "execution_count": 28,
   "id": "fa8d5708-a127-489b-83f9-f5954bccd599",
   "metadata": {},
   "outputs": [
    {
     "data": {
      "text/plain": [
       "['the emergence of hiv as a chronic condition means that people living with hiv are required to take more responsibility for the self-management of their condition , including making physical , emotional and social adjustments .',\n",
       " 'this paper describes the design and evaluation of positive outlook , an online program aiming to enhance the self-management skills of gay men living with hiv .',\n",
       " 'this study is designed as a randomised controlled trial in which men living with hiv in australia will be assigned to either an intervention group or usual care control group .',\n",
       " \"the intervention group will participate in the online group program ` positive outlook ' .\",\n",
       " 'the program is based on self-efficacy theory and uses a self-management approach to enhance skills , confidence and abilities to manage the psychosocial issues associated with hiv in daily life .']"
      ]
     },
     "execution_count": 28,
     "metadata": {},
     "output_type": "execute_result"
    }
   ],
   "source": [
    "train_sentences[:5]"
   ]
  },
  {
   "cell_type": "code",
   "execution_count": 27,
   "id": "e7d2b571-1a10-4d8d-ac5c-f89285353922",
   "metadata": {},
   "outputs": [
    {
     "data": {
      "text/plain": [
       "2211861"
      ]
     },
     "execution_count": 27,
     "metadata": {},
     "output_type": "execute_result"
    }
   ],
   "source": [
    "len(train_sentences)"
   ]
  },
  {
   "cell_type": "code",
   "execution_count": 25,
   "id": "ee3df6cc-bcf2-4c99-bb1f-4bc97bb5d893",
   "metadata": {},
   "outputs": [
    {
     "data": {
      "text/plain": [
       "54.0"
      ]
     },
     "execution_count": 25,
     "metadata": {},
     "output_type": "execute_result"
    }
   ],
   "source": [
    "np.percentile([\n",
    "    len(sentence.split()) for sentence in train_sentences\n",
    "], 95)"
   ]
  },
  {
   "cell_type": "code",
   "execution_count": 37,
   "id": "be3edfb3-c3e5-46a7-9155-75ed792c17f4",
   "metadata": {},
   "outputs": [
    {
     "data": {
      "text/plain": [
       "<_PrefetchDataset element_spec=TensorSpec(shape=(None,), dtype=tf.string, name=None)>"
      ]
     },
     "execution_count": 37,
     "metadata": {},
     "output_type": "execute_result"
    }
   ],
   "source": [
    "train_token_dataset = Dataset.from_tensor_slices(train_sentences).batch(32).prefetch(AUTOTUNE)\n",
    "train_token_dataset"
   ]
  },
  {
   "cell_type": "code",
   "execution_count": 33,
   "id": "a788cb12-9531-486b-b98e-beea920e7534",
   "metadata": {},
   "outputs": [],
   "source": [
    "token_vectorizer = layers.TextVectorization(\n",
    "    max_tokens=331000,\n",
    "    output_sequence_length=54\n",
    ")"
   ]
  },
  {
   "cell_type": "code",
   "execution_count": 38,
   "id": "c0440ee0-bb09-4eec-9449-af73e5d5d404",
   "metadata": {},
   "outputs": [
    {
     "name": "stdout",
     "output_type": "stream",
     "text": [
      "CPU times: user 4 s, sys: 270 ms, total: 4.27 s\n",
      "Wall time: 3.73 s\n"
     ]
    }
   ],
   "source": [
    "%%time\n",
    "token_vectorizer.adapt(\n",
    "    train_token_dataset,\n",
    "    batch_size=32,\n",
    "    steps=int(0.1 * len(train_token_dataset))\n",
    ")"
   ]
  },
  {
   "cell_type": "code",
   "execution_count": 39,
   "id": "fe4675c5-ce35-4616-8bbf-c1cd33392249",
   "metadata": {},
   "outputs": [],
   "source": [
    "rct_200k_token_vocab = token_vectorizer.get_vocabulary()"
   ]
  },
  {
   "cell_type": "code",
   "execution_count": 40,
   "id": "e63ac502-29a4-4509-94a1-dbd845d6bb5e",
   "metadata": {},
   "outputs": [],
   "source": [
    "token_embed = layers.Embedding(\n",
    "    input_dim=len(rct_200k_token_vocab),\n",
    "    output_dim=128,\n",
    "    mask_zero=True,\n",
    "    name='token_embedding_layer'\n",
    ")"
   ]
  },
  {
   "cell_type": "markdown",
   "id": "965ae145-f10c-40d8-97af-916930850bd9",
   "metadata": {},
   "source": [
    "### Creating the Character Embeddings"
   ]
  },
  {
   "cell_type": "code",
   "execution_count": 31,
   "id": "6c990966-08d8-40bf-ac21-7c17b21eb63a",
   "metadata": {},
   "outputs": [
    {
     "data": {
      "text/plain": [
       "['m a n y   p a t h o g e n i c   p r o c e s s e s   a n d   d i s e a s e s   a r e   t h e   r e s u l t   o f   a n   e r r o n e o u s   a c t i v a t i o n   o f   t h e   c o m p l e m e n t   c a s c a d e   a n d   a   n u m b e r   o f   i n h i b i t o r s   o f   c o m p l e m e n t   h a v e   t h u s   b e e n   e x a m i n e d   f o r   a n t i - i n f l a m m a t o r y   a c t i o n s   .',\n",
       " 'i t   w a s   r e c e n t l y   d e m o n s t r a t e d   t h a t   s u p r a p h y s i o l o g i c a l   c o n c e n t r a t i o n s   o f   t h e   e n d o g e n o u s   c o m p l e m e n t   i n h i b i t o r   m a p @   (   a l s o   d e n o t e d   m a p @   )   p r o t e c t   a g a i n s t   m y o c a r d i a l   r e p e r f u s i o n   i n j u r y   .',\n",
       " 'i n   t h e   p r e s e n t   s t u d y   ,   w e   e x a m i n e d   t h e   a s s o c i a t i o n   b e t w e e n   o u t c o m e   a f t e r   a c u t e   m y o c a r d i a l   i n f a r c t i o n   (   m i   )   a n d   t h e   p l a s m a   l e v e l s   o f   m a p @   a n d   i t s   r e l a t e d   p r o t e i n s   m a s p - @   a n d   m a s p - @   i n   p a t i e n t s   w i t h   f i r s t - t i m e   m i   .',\n",
       " 'i n   a d d i t i o n   ,   w e   c o m p a r e d   p l a s m a   l e v e l s   o f   m a p @   ,   m a s p - @   ,   a n d   m a s p - @   i n   m i   p a t i e n t s   t o   l e v e l s   i n   a   h e a l t h y   c o n t r o l   g r o u p   .',\n",
       " 'a   t o t a l   o f   @   m i   p a t i e n t s   a n d   @   c o n t r o l   p e r s o n s   w e r e   i n c l u d e d   .']"
      ]
     },
     "execution_count": 31,
     "metadata": {},
     "output_type": "execute_result"
    }
   ],
   "source": [
    "test_chars[:5]"
   ]
  },
  {
   "cell_type": "code",
   "execution_count": 30,
   "id": "1e6f5ff9-54a0-4b2a-b54e-b593297007cd",
   "metadata": {},
   "outputs": [
    {
     "data": {
      "text/plain": [
       "29493"
      ]
     },
     "execution_count": 30,
     "metadata": {},
     "output_type": "execute_result"
    }
   ],
   "source": [
    "len(test_chars)"
   ]
  },
  {
   "cell_type": "code",
   "execution_count": 41,
   "id": "b6c87085-a9b1-42ae-8ec4-cd601a33a278",
   "metadata": {},
   "outputs": [
    {
     "data": {
      "text/plain": [
       "<_PrefetchDataset element_spec=TensorSpec(shape=(None,), dtype=tf.string, name=None)>"
      ]
     },
     "execution_count": 41,
     "metadata": {},
     "output_type": "execute_result"
    }
   ],
   "source": [
    "train_char_dataset = Dataset.from_tensor_slices(train_chars).batch(32).prefetch(AUTOTUNE)\n",
    "train_char_dataset"
   ]
  },
  {
   "cell_type": "code",
   "execution_count": 29,
   "id": "10988ff1-d28b-45a3-89d1-666c1273e52f",
   "metadata": {},
   "outputs": [
    {
     "data": {
      "text/plain": [
       "'abcdefghijklmnopqrstuvwxyz0123456789'"
      ]
     },
     "execution_count": 29,
     "metadata": {},
     "output_type": "execute_result"
    }
   ],
   "source": [
    "import string\n",
    "\n",
    "string.ascii_lowercase + string.digits"
   ]
  },
  {
   "cell_type": "code",
   "execution_count": 42,
   "id": "32d13760-8a89-454a-962a-a64b457754dd",
   "metadata": {},
   "outputs": [],
   "source": [
    "char_vectorizer = layers.TextVectorization(\n",
    "    max_tokens=len(string.ascii_letters + string.digits) + 2,\n",
    "    output_sequence_length=284\n",
    ")"
   ]
  },
  {
   "cell_type": "code",
   "execution_count": 43,
   "id": "dfb069b0-9131-451d-8ddb-8829d9d77f52",
   "metadata": {},
   "outputs": [
    {
     "name": "stdout",
     "output_type": "stream",
     "text": [
      "CPU times: user 4.55 s, sys: 319 ms, total: 4.87 s\n",
      "Wall time: 4.32 s\n"
     ]
    }
   ],
   "source": [
    "%%time\n",
    "char_vectorizer.adapt(\n",
    "    train_char_dataset,\n",
    "    batch_size=32,\n",
    "    steps=int(0.1 * len(train_char_dataset))\n",
    ")"
   ]
  },
  {
   "cell_type": "code",
   "execution_count": 44,
   "id": "589bfb99-9b33-4dc7-ab99-e45aa4082b2f",
   "metadata": {},
   "outputs": [],
   "source": [
    "rct_200k_char_vocab = char_vectorizer.get_vocabulary()"
   ]
  },
  {
   "cell_type": "code",
   "execution_count": 45,
   "id": "dfdf9be5-ac7e-404b-8522-f7b68e14725f",
   "metadata": {},
   "outputs": [],
   "source": [
    "char_embed = layers.Embedding(\n",
    "    input_dim=len(rct_200k_char_vocab),\n",
    "    output_dim=24,\n",
    "    mask_zero=True,\n",
    "    name='char_embedding_layer'\n",
    ")"
   ]
  },
  {
   "cell_type": "markdown",
   "id": "238cf92c-54ac-4f30-a248-d1d26d355033",
   "metadata": {},
   "source": [
    "### Building the Large Model"
   ]
  },
  {
   "cell_type": "code",
   "execution_count": 50,
   "id": "33b90fb9-527d-4167-b455-be77f073280b",
   "metadata": {},
   "outputs": [
    {
     "data": {
      "text/plain": [
       "5"
      ]
     },
     "execution_count": 50,
     "metadata": {},
     "output_type": "execute_result"
    }
   ],
   "source": [
    "num_classes = len(set(train_labels_encoded))\n",
    "num_classes"
   ]
  },
  {
   "cell_type": "code",
   "execution_count": 64,
   "id": "765a133e-7b8b-468c-aafe-015904918b1f",
   "metadata": {},
   "outputs": [
    {
     "name": "stdout",
     "output_type": "stream",
     "text": [
      "Model: \"skimlit_large_model\"\n",
      "__________________________________________________________________________________________________\n",
      " Layer (type)                Output Shape                 Param #   Connected to                  \n",
      "==================================================================================================\n",
      " token_input (InputLayer)    [(None, 1)]                  0         []                            \n",
      "                                                                                                  \n",
      " text_vectorization (TextVe  (None, 54)                   0         ['token_input[0][0]']         \n",
      " ctorization)                                                                                     \n",
      "                                                                                                  \n",
      " char_input (InputLayer)     [(None, 1)]                  0         []                            \n",
      "                                                                                                  \n",
      " token_embedding_layer (Emb  (None, 54, 128)              8924416   ['text_vectorization[13][0]'] \n",
      " edding)                                                                                          \n",
      "                                                                                                  \n",
      " text_vectorization_1 (Text  (None, 284)                  0         ['char_input[0][0]']          \n",
      " Vectorization)                                                                                   \n",
      "                                                                                                  \n",
      " dense_51 (Dense)            (None, 54, 128)              16512     ['token_embedding_layer[13][0]\n",
      "                                                                    ']                            \n",
      "                                                                                                  \n",
      " char_embedding_layer (Embe  (None, 284, 24)              672       ['text_vectorization_1[13][0]'\n",
      " dding)                                                             ]                             \n",
      "                                                                                                  \n",
      " dense_52 (Dense)            (None, 54, 32)               4128      ['dense_51[0][0]']            \n",
      "                                                                                                  \n",
      " bidirectional_13 (Bidirect  (None, 48)                   9408      ['char_embedding_layer[13][0]'\n",
      " ional)                                                             ]                             \n",
      "                                                                                                  \n",
      " global_max_pooling1d_4 (Gl  (None, 32)                   0         ['dense_52[0][0]']            \n",
      " obalMaxPooling1D)                                                                                \n",
      "                                                                                                  \n",
      " dense_53 (Dense)            (None, 32)                   1568      ['bidirectional_13[0][0]']    \n",
      "                                                                                                  \n",
      " hybrid_char_token_embeddin  (None, 64)                   0         ['global_max_pooling1d_4[0][0]\n",
      " gs (Concatenate)                                                   ',                            \n",
      "                                                                     'dense_53[0][0]']            \n",
      "                                                                                                  \n",
      " line_number_input (InputLa  [(None, 15)]                 0         []                            \n",
      " yer)                                                                                             \n",
      "                                                                                                  \n",
      " total_lines_input (InputLa  [(None, 20)]                 0         []                            \n",
      " yer)                                                                                             \n",
      "                                                                                                  \n",
      " dense_56 (Dense)            (None, 256)                  16640     ['hybrid_char_token_embeddings\n",
      "                                                                    [0][0]']                      \n",
      "                                                                                                  \n",
      " dense_54 (Dense)            (None, 32)                   512       ['line_number_input[0][0]']   \n",
      "                                                                                                  \n",
      " dense_55 (Dense)            (None, 32)                   672       ['total_lines_input[0][0]']   \n",
      "                                                                                                  \n",
      " dropout_1 (Dropout)         (None, 256)                  0         ['dense_56[0][0]']            \n",
      "                                                                                                  \n",
      " tribrid_char_token_pos_emb  (None, 320)                  0         ['dense_54[0][0]',            \n",
      " eddings (Concatenate)                                               'dense_55[0][0]',            \n",
      "                                                                     'dropout_1[0][0]']           \n",
      "                                                                                                  \n",
      " output_layer (Dense)        (None, 5)                    1605      ['tribrid_char_token_pos_embed\n",
      "                                                                    dings[0][0]']                 \n",
      "                                                                                                  \n",
      "==================================================================================================\n",
      "Total params: 8976133 (34.24 MB)\n",
      "Trainable params: 8976133 (34.24 MB)\n",
      "Non-trainable params: 0 (0.00 Byte)\n",
      "__________________________________________________________________________________________________\n"
     ]
    }
   ],
   "source": [
    "token_inputs = layers.Input(shape=(1,), dtype='string', name='token_input')\n",
    "token_vectors = token_vectorizer(token_inputs)\n",
    "token_embeddings = token_embed(token_vectors)\n",
    "a = layers.Dense(128, activation='relu')(token_embeddings)\n",
    "a = layers.Dense(32, activation='relu')(a)\n",
    "a = layers.GlobalMaxPool1D()(a)\n",
    "token_model = tf.keras.Model(inputs=token_inputs, outputs=a)\n",
    "\n",
    "char_inputs = layers.Input(shape=(1,), dtype='string', name='char_input')\n",
    "char_vectors = char_vectorizer(char_inputs)\n",
    "char_embeddings = char_embed(char_vectors)\n",
    "char_bi_lstm = layers.Bidirectional(layers.LSTM(24))(char_embeddings)\n",
    "b = layers.Dense(32, activation='relu')(char_bi_lstm)\n",
    "char_model = tf.keras.Model(inputs=char_inputs, outputs=b)\n",
    "\n",
    "line_number_inputs = layers.Input(shape=(15,), dtype=tf.float32, name='line_number_input')\n",
    "x = layers.Dense(32, activation='relu')(line_number_inputs)\n",
    "line_number_model = tf.keras.Model(inputs=line_number_inputs, outputs=x)\n",
    "\n",
    "total_lines_inputs = layers.Input(shape=(20,), dtype=tf.float32, name='total_lines_input')\n",
    "y = layers.Dense(32, activation='relu')(total_lines_inputs)\n",
    "total_lines_model = tf.keras.Model(inputs=total_lines_inputs, outputs=y)\n",
    "\n",
    "combined_embeddings = layers.Concatenate(name='hybrid_char_token_embeddings')([\n",
    "    token_model.output,\n",
    "    char_model.output\n",
    "])\n",
    "\n",
    "z = layers.Dense(256, activation='relu')(combined_embeddings)\n",
    "z = layers.Dropout(0.5)(z)\n",
    "\n",
    "tribrid_embeddings = layers.Concatenate(name='tribrid_char_token_pos_embeddings')([\n",
    "    line_number_model.output,\n",
    "    total_lines_model.output,\n",
    "    z\n",
    "])\n",
    "\n",
    "output_layer = layers.Dense(num_classes, activation='softmax', name='output_layer')(tribrid_embeddings)\n",
    "\n",
    "model_large = tf.keras.Model(\n",
    "    inputs=[\n",
    "        line_number_model.input,\n",
    "        total_lines_model.input,\n",
    "        token_model.input,\n",
    "        char_model.input\n",
    "    ],\n",
    "    outputs=output_layer,\n",
    "    name='skimlit_large_model'\n",
    ")\n",
    "\n",
    "model_large.summary()"
   ]
  },
  {
   "cell_type": "code",
   "execution_count": 65,
   "id": "07b9344f-88e5-4e7a-945c-80dbe15e14b5",
   "metadata": {},
   "outputs": [
    {
     "data": {
      "image/png": "[encoded data removed]",
      "text/plain": [
       "<IPython.core.display.Image object>"
      ]
     },
     "execution_count": 65,
     "metadata": {},
     "output_type": "execute_result"
    }
   ],
   "source": [
    "tf.keras.utils.plot_model(model=model_large, to_file='skimlit_model_large.png', show_shapes=True)"
   ]
  },
  {
   "cell_type": "code",
   "execution_count": 66,
   "id": "2f994b1f-f4a2-46ed-9988-75a2ee109da0",
   "metadata": {},
   "outputs": [],
   "source": [
    "model_large.compile(\n",
    "    loss=tf.keras.losses.CategoricalCrossentropy(label_smoothing=0.2),\n",
    "    optimizer=tf.keras.optimizers.legacy.Adam(),\n",
    "    metrics=['accuracy']\n",
    ")"
   ]
  },
  {
   "cell_type": "markdown",
   "id": "a69cf9e7-21fd-42e5-a911-f2a0385d3b97",
   "metadata": {},
   "source": [
    "### Fitting the Large Model"
   ]
  },
  {
   "cell_type": "code",
   "execution_count": 67,
   "id": "3708fca6-3fa6-4146-ab5c-817db8fb8392",
   "metadata": {},
   "outputs": [
    {
     "name": "stdout",
     "output_type": "stream",
     "text": [
      "Epoch 1/3\n",
      "6912/6912 [==============================] - 535s 76ms/step - loss: 0.9341 - accuracy: 0.8346 - val_loss: 0.9026 - val_accuracy: 0.8611\n",
      "Epoch 2/3\n",
      "6912/6912 [==============================] - 415s 60ms/step - loss: 0.8976 - accuracy: 0.8611 - val_loss: 0.8956 - val_accuracy: 0.8681\n",
      "Epoch 3/3\n",
      "6912/6912 [==============================] - 418s 61ms/step - loss: 0.8937 - accuracy: 0.8642 - val_loss: 0.8857 - val_accuracy: 0.8684\n"
     ]
    }
   ],
   "source": [
    "history_large = model_large.fit(\n",
    "    train_dataset,\n",
    "    epochs=3,\n",
    "    steps_per_epoch=int(0.1 * len(train_dataset)),\n",
    "    validation_data=valid_dataset,\n",
    "    validation_steps=int(0.1 * len(valid_dataset))\n",
    ")"
   ]
  },
  {
   "cell_type": "markdown",
   "id": "8444ed5b-2fd7-468d-b119-d03286c3e3ae",
   "metadata": {},
   "source": [
    "### Evaluating the Large Model"
   ]
  },
  {
   "cell_type": "code",
   "execution_count": 68,
   "id": "5f13bfee-bc89-412a-914d-a46a16f7ff2d",
   "metadata": {},
   "outputs": [
    {
     "name": "stdout",
     "output_type": "stream",
     "text": [
      "905/905 [==============================] - 10s 11ms/step - loss: 0.8780 - accuracy: 0.8713\n"
     ]
    },
    {
     "data": {
      "text/plain": [
       "[0.8780325651168823, 0.8713189363479614]"
      ]
     },
     "execution_count": 68,
     "metadata": {},
     "output_type": "execute_result"
    }
   ],
   "source": [
    "model_large.evaluate(valid_dataset)"
   ]
  },
  {
   "cell_type": "code",
   "execution_count": 70,
   "id": "7d5ac739-dd76-4fb8-a3cb-cbd6b7c9234d",
   "metadata": {},
   "outputs": [
    {
     "name": "stdout",
     "output_type": "stream",
     "text": [
      "922/922 [==============================] - 9s 10ms/step\n"
     ]
    },
    {
     "data": {
      "text/plain": [
       "array([[0.6416472 , 0.04517417, 0.0077225 , 0.28985614, 0.01559999],\n",
       "       [0.54528356, 0.05664951, 0.05924479, 0.24628434, 0.09253791],\n",
       "       [0.43628037, 0.10604442, 0.06779546, 0.34233543, 0.04754429],\n",
       "       ...,\n",
       "       [0.02437647, 0.09580749, 0.03218653, 0.02708866, 0.82054085],\n",
       "       [0.03897727, 0.8286919 , 0.02853928, 0.02836994, 0.0754215 ],\n",
       "       [0.03614338, 0.84157014, 0.0104118 , 0.03001793, 0.08185676]],\n",
       "      dtype=float32)"
      ]
     },
     "execution_count": 70,
     "metadata": {},
     "output_type": "execute_result"
    }
   ],
   "source": [
    "model_large_pred_probs = model_large.predict(test_dataset)\n",
    "model_large_pred_probs"
   ]
  },
  {
   "cell_type": "code",
   "execution_count": 71,
   "id": "ca4f34ab-fd1b-4861-b553-dc90d729bb2e",
   "metadata": {},
   "outputs": [
    {
     "data": {
      "text/plain": [
       "<tf.Tensor: shape=(29493,), dtype=int64, numpy=array([0, 0, 0, ..., 4, 1, 1])>"
      ]
     },
     "execution_count": 71,
     "metadata": {},
     "output_type": "execute_result"
    }
   ],
   "source": [
    "model_large_preds = tf.argmax(model_large_pred_probs, axis=1)\n",
    "model_large_preds"
   ]
  },
  {
   "cell_type": "code",
   "execution_count": 72,
   "id": "c5be4f4f-7f78-40ed-a1a5-51bb1b59d134",
   "metadata": {},
   "outputs": [
    {
     "data": {
      "text/plain": [
       "{'accuracy': 87.06811785847489,\n",
       " 'precision': 0.8733173372793755,\n",
       " 'recall': 0.8706811785847489,\n",
       " 'f1': 0.8683686988223301}"
      ]
     },
     "execution_count": 72,
     "metadata": {},
     "output_type": "execute_result"
    }
   ],
   "source": [
    "model_large_results = calculate_results(\n",
    "    y_true=test_labels_encoded,\n",
    "    y_pred=model_large_preds\n",
    ")\n",
    "model_large_results"
   ]
  },
  {
   "cell_type": "markdown",
   "id": "e18281c6-4e38-46ab-80f7-7f05474bfb09",
   "metadata": {},
   "source": [
    "### Saving the Large Model"
   ]
  },
  {
   "cell_type": "code",
   "execution_count": 73,
   "id": "ba6e4722-adb6-4b76-9210-617da3b555bd",
   "metadata": {},
   "outputs": [],
   "source": [
    "model_large.save('skimlit_model_large.keras')"
   ]
  },
  {
   "cell_type": "markdown",
   "id": "a8a6b9ff-c0ce-418f-a850-fd9a5c989cba",
   "metadata": {},
   "source": [
    "### Evaluating on Custom Example Data\n",
    "\n",
    "Get more abstract data from here: https://pubmed.ncbi.nlm.nih.gov/"
   ]
  },
  {
   "cell_type": "code",
   "execution_count": 74,
   "id": "704bc216-e8a2-4b0f-95fa-54607d68240d",
   "metadata": {},
   "outputs": [
    {
     "name": "stdout",
     "output_type": "stream",
     "text": [
      "--2024-01-29 22:20:53--  https://raw.githubusercontent.com/mrdbourke/tensorflow-deep-learning/main/extras/skimlit_example_abstracts.json\n",
      "Resolving raw.githubusercontent.com (raw.githubusercontent.com)... 185.199.108.133, 185.199.110.133, 185.199.111.133, ...\n",
      "Connecting to raw.githubusercontent.com (raw.githubusercontent.com)|185.199.108.133|:443... connected.\n",
      "HTTP request sent, awaiting response... 200 OK\n",
      "Length: 6737 (6.6K) [text/plain]\n",
      "Saving to: 'skimlit_example_abstracts.json'\n",
      "\n",
      "skimlit_example_abs 100%[===================>]   6.58K  --.-KB/s    in 0s      \n",
      "\n",
      "2024-01-29 22:20:53 (13.9 MB/s) - 'skimlit_example_abstracts.json' saved [6737/6737]\n",
      "\n"
     ]
    }
   ],
   "source": [
    "!wget https://raw.githubusercontent.com/mrdbourke/tensorflow-deep-learning/main/extras/skimlit_example_abstracts.json"
   ]
  },
  {
   "cell_type": "code",
   "execution_count": 78,
   "id": "e099c3f6-607b-4edd-a594-1bd65dc86eb2",
   "metadata": {},
   "outputs": [
    {
     "name": "stdout",
     "output_type": "stream",
     "text": [
      "[\n",
      "  {\n",
      "    \"abstract\": \"This RCT examined the efficacy of a manualized social intervention for children with HFASDs. Participants were randomly assigned to treatment or wait-list conditions. Treatment included instruction and therapeutic activities targeting social skills, face-emotion recognition, interest expansion, and interpretation of non-literal language. A response-cost program was applied to reduce problem behaviors and foster skills acquisition. Significant treatment effects were found for five of seven primary outcome measures (parent ratings and direct child measures). Secondary measures based on staff ratings (treatment group only) corroborated gains reported by parents. High levels of parent, child and staff satisfaction were reported, along with high levels of treatment fidelity. Standardized effect size estimates were primarily in the medium and large ranges and favored the treatment group.\",\n",
      "    \"source\": \"https://pubmed.ncbi.nlm.nih.gov/20232240/\",\n",
      "    \"details\": \"RCT of a manualized social treatment for high-functioning autism spectrum disorders\"\n",
      "  },\n",
      "  {\n",
      "    \"abstract\": \"Postpartum depression (PPD) is the most prevalent mood disorder associated with childbirth. No single cause of PPD has been identified, however the increased risk of nutritional deficiencies incurred through the high nutritional requirements of pregnancy may play a role in the pathology of depressive symptoms. Three nutritional interventions have drawn particular interest as possible non-invasive and cost-effective prevention and/or treatment strategies for PPD; omega-3 (n-3) long chain polyunsaturated fatty acids (LCPUFA), vitamin D and overall diet. We searched for meta-analyses of randomised controlled trials (RCT's) of nutritional interventions during the perinatal period with PPD as an outcome, and checked for any trials published subsequently to the meta-analyses. Fish oil: Eleven RCT's of prenatal fish oil supplementation RCT's show null and positive effects on PPD symptoms. Vitamin D: no relevant RCT's were identified, however seven observational studies of maternal vitamin D levels with PPD outcomes showed inconsistent associations. Diet: Two Australian RCT's with dietary advice interventions in pregnancy had a positive and null result on PPD. With the exception of fish oil, few RCT's with nutritional interventions during pregnancy assess PPD. Further research is needed to determine whether nutritional intervention strategies during pregnancy can protect against symptoms of PPD. Given the prevalence of PPD and ease of administering PPD measures, we recommend future prenatal nutritional RCT's include PPD as an outcome.\",\n",
      "    \"source\": \"https://pubmed.ncbi.nlm.nih.gov/28012571/\",\n",
      "    \"details\": \"Formatting removed (can be used to compare model to actual example)\"\n",
      "  },\n",
      "  {\n",
      "    \"abstract\": \"Mental illness, including depression, anxiety and bipolar disorder, accounts for a significant proportion of global disability and poses a substantial social, economic and heath burden. Treatment is presently dominated by pharmacotherapy, such as antidepressants, and psychotherapy, such as cognitive behavioural therapy; however, such treatments avert less than half of the disease burden, suggesting that additional strategies are needed to prevent and treat mental disorders. There are now consistent mechanistic, observational and interventional data to suggest diet quality may be a modifiable risk factor for mental illness. This review provides an overview of the nutritional psychiatry field. It includes a discussion of the neurobiological mechanisms likely modulated by diet, the use of dietary and nutraceutical interventions in mental disorders, and recommendations for further research. Potential biological pathways related to mental disorders include inflammation, oxidative stress, the gut microbiome, epigenetic modifications and neuroplasticity. Consistent epidemiological evidence, particularly for depression, suggests an association between measures of diet quality and mental health, across multiple populations and age groups; these do not appear to be explained by other demographic, lifestyle factors or reverse causality. Our recently published intervention trial provides preliminary clinical evidence that dietary interventions in clinically diagnosed populations are feasible and can provide significant clinical benefit. Furthermore, nutraceuticals including n-3 fatty acids, folate, S-adenosylmethionine, N-acetyl cysteine and probiotics, among others, are promising avenues for future research. Continued research is now required to investigate the efficacy of intervention studies in large cohorts and within clinically relevant populations, particularly in patients with schizophrenia, bipolar and anxiety disorders.\",\n",
      "    \"source\": \"https://pubmed.ncbi.nlm.nih.gov/28942748/\",\n",
      "    \"details\": \"Effect of nutrition on mental health\"\n",
      "  },\n",
      "  {\n",
      "    \"abstract\": \"Hepatitis C virus (HCV) and alcoholic liver disease (ALD), either alone or in combination, count for more than two thirds of all liver diseases in the Western world. There is no safe level of drinking in HCV-infected patients and the most effective goal for these patients is total abstinence. Baclofen, a GABA(B) receptor agonist, represents a promising pharmacotherapy for alcohol dependence (AD). Previously, we performed a randomized clinical trial (RCT), which demonstrated the safety and efficacy of baclofen in patients affected by AD and cirrhosis. The goal of this post-hoc analysis was to explore baclofen's effect in a subgroup of alcohol-dependent HCV-infected cirrhotic patients. Any patient with HCV infection was selected for this analysis. Among the 84 subjects randomized in the main trial, 24 alcohol-dependent cirrhotic patients had a HCV infection; 12 received baclofen 10mg t.i.d. and 12 received placebo for 12-weeks. With respect to the placebo group (3/12, 25.0%), a significantly higher number of patients who achieved and maintained total alcohol abstinence was found in the baclofen group (10/12, 83.3%; p=0.0123). Furthermore, in the baclofen group, compared to placebo, there was a significantly higher increase in albumin values from baseline (p=0.0132) and a trend toward a significant reduction in INR levels from baseline (p=0.0716). In conclusion, baclofen was safe and significantly more effective than placebo in promoting alcohol abstinence, and improving some Liver Function Tests (LFTs) (i.e. albumin, INR) in alcohol-dependent HCV-infected cirrhotic patients. Baclofen may represent a clinically relevant alcohol pharmacotherapy for these patients.\",\n",
      "    \"source\": \"https://pubmed.ncbi.nlm.nih.gov/22244707/\",\n",
      "    \"details\": \"Baclofen promotes alcohol abstinence in alcohol dependent cirrhotic patients with hepatitis C virus (HCV) infection\"\n",
      "  }\n",
      "]\n"
     ]
    }
   ],
   "source": [
    "import json\n",
    "\n",
    "with open('skimlit_example_abstracts.json') as file:\n",
    "    example_data = json.load(file)\n",
    "\n",
    "print(json.dumps(example_data, indent=2))"
   ]
  },
  {
   "cell_type": "code",
   "execution_count": 154,
   "id": "9fe856f1-a36f-4b79-9ca8-7e913f6841ad",
   "metadata": {},
   "outputs": [],
   "source": [
    "def prep_abstract_and_predict(model, abstract_text):\n",
    "    \"\"\"Takes in the raw abstract text and the SkimLit model and\n",
    "    returns a DataFrame consisting of each line and its prediction.\n",
    "    \"\"\"\n",
    "    abstract_sentences = abstract_text.split('. ')\n",
    "    abstract_chars = [split_chars(sentence) for sentence in abstract_sentences]\n",
    "    abstract_line_numbers = np.array(range(len(abstract_sentences)))\n",
    "    abstract_total_lines = np.ones(len(abstract_line_numbers)) * len(abstract_line_numbers)\n",
    "    dummy_labels = tf.one_hot(np.random.randint(\n",
    "        low=0,\n",
    "        high=num_classes,\n",
    "        size=len(abstract_line_numbers)\n",
    "    ), depth=5)\n",
    "\n",
    "    abstract_dataset = Dataset.zip(\n",
    "        Dataset.from_tensor_slices((\n",
    "            tf.one_hot(abstract_line_numbers, depth=15),\n",
    "            tf.one_hot(abstract_total_lines, depth=20),\n",
    "            abstract_sentences,\n",
    "            abstract_chars\n",
    "        )),\n",
    "        Dataset.from_tensor_slices(dummy_labels)\n",
    "    ).batch(32).prefetch(AUTOTUNE)\n",
    "    \n",
    "    pred_probs = model.predict(abstract_dataset)\n",
    "    preds = tf.argmax(pred_probs, axis=1)\n",
    "    \n",
    "    abstract_df = pd.DataFrame({\n",
    "        'total_lines': abstract_total_lines,\n",
    "        'line_number': abstract_line_numbers,\n",
    "        'text': abstract_sentences,\n",
    "        'prediction': [(\n",
    "            'OBJECTIVE',\n",
    "            'METHODS',\n",
    "            'RESULTS',\n",
    "            'CONCLUSIONS',\n",
    "            'BACKGROUND'\n",
    "        )[pred] for pred in preds],\n",
    "        'probability': tf.reduce_max(pred_probs, axis=1)\n",
    "    })\n",
    "\n",
    "    return abstract_df"
   ]
  },
  {
   "cell_type": "code",
   "execution_count": 155,
   "id": "0a8e0f57-e2a1-4b28-b7e5-052aa4c68d48",
   "metadata": {},
   "outputs": [
    {
     "data": {
      "text/plain": [
       "'This RCT examined the efficacy of a manualized social intervention for children with HFASDs. Participants were randomly assigned to treatment or wait-list conditions. Treatment included instruction and therapeutic activities targeting social skills, face-emotion recognition, interest expansion, and interpretation of non-literal language. A response-cost program was applied to reduce problem behaviors and foster skills acquisition. Significant treatment effects were found for five of seven primary outcome measures (parent ratings and direct child measures). Secondary measures based on staff ratings (treatment group only) corroborated gains reported by parents. High levels of parent, child and staff satisfaction were reported, along with high levels of treatment fidelity. Standardized effect size estimates were primarily in the medium and large ranges and favored the treatment group.'"
      ]
     },
     "execution_count": 155,
     "metadata": {},
     "output_type": "execute_result"
    }
   ],
   "source": [
    "example_data[0]['abstract']"
   ]
  },
  {
   "cell_type": "code",
   "execution_count": 156,
   "id": "365ec894-2b14-493c-86b4-1596452187e0",
   "metadata": {},
   "outputs": [
    {
     "name": "stdout",
     "output_type": "stream",
     "text": [
      "1/1 [==============================] - 0s 20ms/step\n"
     ]
    },
    {
     "data": {
      "text/html": [
       "<div>\n",
       "<style scoped>\n",
       "    .dataframe tbody tr th:only-of-type {\n",
       "        vertical-align: middle;\n",
       "    }\n",
       "\n",
       "    .dataframe tbody tr th {\n",
       "        vertical-align: top;\n",
       "    }\n",
       "\n",
       "    .dataframe thead th {\n",
       "        text-align: right;\n",
       "    }\n",
       "</style>\n",
       "<table border=\"1\" class=\"dataframe\">\n",
       "  <thead>\n",
       "    <tr style=\"text-align: right;\">\n",
       "      <th></th>\n",
       "      <th>total_lines</th>\n",
       "      <th>line_number</th>\n",
       "      <th>text</th>\n",
       "      <th>prediction</th>\n",
       "      <th>probability</th>\n",
       "    </tr>\n",
       "  </thead>\n",
       "  <tbody>\n",
       "    <tr>\n",
       "      <th>0</th>\n",
       "      <td>8.0</td>\n",
       "      <td>0</td>\n",
       "      <td>This RCT examined the efficacy of a manualized...</td>\n",
       "      <td>CONCLUSIONS</td>\n",
       "      <td>0.484745</td>\n",
       "    </tr>\n",
       "    <tr>\n",
       "      <th>1</th>\n",
       "      <td>8.0</td>\n",
       "      <td>1</td>\n",
       "      <td>Participants were randomly assigned to treatme...</td>\n",
       "      <td>RESULTS</td>\n",
       "      <td>0.767730</td>\n",
       "    </tr>\n",
       "    <tr>\n",
       "      <th>2</th>\n",
       "      <td>8.0</td>\n",
       "      <td>2</td>\n",
       "      <td>Treatment included instruction and therapeutic...</td>\n",
       "      <td>RESULTS</td>\n",
       "      <td>0.763824</td>\n",
       "    </tr>\n",
       "    <tr>\n",
       "      <th>3</th>\n",
       "      <td>8.0</td>\n",
       "      <td>3</td>\n",
       "      <td>A response-cost program was applied to reduce ...</td>\n",
       "      <td>RESULTS</td>\n",
       "      <td>0.583485</td>\n",
       "    </tr>\n",
       "    <tr>\n",
       "      <th>4</th>\n",
       "      <td>8.0</td>\n",
       "      <td>4</td>\n",
       "      <td>Significant treatment effects were found for f...</td>\n",
       "      <td>BACKGROUND</td>\n",
       "      <td>0.703371</td>\n",
       "    </tr>\n",
       "    <tr>\n",
       "      <th>5</th>\n",
       "      <td>8.0</td>\n",
       "      <td>5</td>\n",
       "      <td>Secondary measures based on staff ratings (tre...</td>\n",
       "      <td>BACKGROUND</td>\n",
       "      <td>0.777936</td>\n",
       "    </tr>\n",
       "    <tr>\n",
       "      <th>6</th>\n",
       "      <td>8.0</td>\n",
       "      <td>6</td>\n",
       "      <td>High levels of parent, child and staff satisfa...</td>\n",
       "      <td>BACKGROUND</td>\n",
       "      <td>0.782982</td>\n",
       "    </tr>\n",
       "    <tr>\n",
       "      <th>7</th>\n",
       "      <td>8.0</td>\n",
       "      <td>7</td>\n",
       "      <td>Standardized effect size estimates were primar...</td>\n",
       "      <td>BACKGROUND</td>\n",
       "      <td>0.839103</td>\n",
       "    </tr>\n",
       "  </tbody>\n",
       "</table>\n",
       "</div>"
      ],
      "text/plain": [
       "   total_lines  line_number  \\\n",
       "0          8.0            0   \n",
       "1          8.0            1   \n",
       "2          8.0            2   \n",
       "3          8.0            3   \n",
       "4          8.0            4   \n",
       "5          8.0            5   \n",
       "6          8.0            6   \n",
       "7          8.0            7   \n",
       "\n",
       "                                                text   prediction  probability  \n",
       "0  This RCT examined the efficacy of a manualized...  CONCLUSIONS     0.484745  \n",
       "1  Participants were randomly assigned to treatme...      RESULTS     0.767730  \n",
       "2  Treatment included instruction and therapeutic...      RESULTS     0.763824  \n",
       "3  A response-cost program was applied to reduce ...      RESULTS     0.583485  \n",
       "4  Significant treatment effects were found for f...   BACKGROUND     0.703371  \n",
       "5  Secondary measures based on staff ratings (tre...   BACKGROUND     0.777936  \n",
       "6  High levels of parent, child and staff satisfa...   BACKGROUND     0.782982  \n",
       "7  Standardized effect size estimates were primar...   BACKGROUND     0.839103  "
      ]
     },
     "execution_count": 156,
     "metadata": {},
     "output_type": "execute_result"
    }
   ],
   "source": [
    "prep_abstract_and_predict(\n",
    "    model=model_large,\n",
    "    abstract_text=example_data[0]['abstract']\n",
    ")"
   ]
  },
  {
   "cell_type": "code",
   "execution_count": 150,
   "id": "ce626c9b-a5c4-4bbe-a449-f454b2dc55a9",
   "metadata": {},
   "outputs": [
    {
     "data": {
      "text/plain": [
       "\"Postpartum depression (PPD) is the most prevalent mood disorder associated with childbirth. No single cause of PPD has been identified, however the increased risk of nutritional deficiencies incurred through the high nutritional requirements of pregnancy may play a role in the pathology of depressive symptoms. Three nutritional interventions have drawn particular interest as possible non-invasive and cost-effective prevention and/or treatment strategies for PPD; omega-3 (n-3) long chain polyunsaturated fatty acids (LCPUFA), vitamin D and overall diet. We searched for meta-analyses of randomised controlled trials (RCT's) of nutritional interventions during the perinatal period with PPD as an outcome, and checked for any trials published subsequently to the meta-analyses. Fish oil: Eleven RCT's of prenatal fish oil supplementation RCT's show null and positive effects on PPD symptoms. Vitamin D: no relevant RCT's were identified, however seven observational studies of maternal vitamin D levels with PPD outcomes showed inconsistent associations. Diet: Two Australian RCT's with dietary advice interventions in pregnancy had a positive and null result on PPD. With the exception of fish oil, few RCT's with nutritional interventions during pregnancy assess PPD. Further research is needed to determine whether nutritional intervention strategies during pregnancy can protect against symptoms of PPD. Given the prevalence of PPD and ease of administering PPD measures, we recommend future prenatal nutritional RCT's include PPD as an outcome.\""
      ]
     },
     "execution_count": 150,
     "metadata": {},
     "output_type": "execute_result"
    }
   ],
   "source": [
    "example_data[1]['abstract']"
   ]
  },
  {
   "cell_type": "code",
   "execution_count": 148,
   "id": "22037716-3061-4186-9be3-573d128edf2a",
   "metadata": {},
   "outputs": [
    {
     "name": "stdout",
     "output_type": "stream",
     "text": [
      "1/1 [==============================] - 0s 23ms/step\n"
     ]
    },
    {
     "data": {
      "text/html": [
       "<div>\n",
       "<style scoped>\n",
       "    .dataframe tbody tr th:only-of-type {\n",
       "        vertical-align: middle;\n",
       "    }\n",
       "\n",
       "    .dataframe tbody tr th {\n",
       "        vertical-align: top;\n",
       "    }\n",
       "\n",
       "    .dataframe thead th {\n",
       "        text-align: right;\n",
       "    }\n",
       "</style>\n",
       "<table border=\"1\" class=\"dataframe\">\n",
       "  <thead>\n",
       "    <tr style=\"text-align: right;\">\n",
       "      <th></th>\n",
       "      <th>total_lines</th>\n",
       "      <th>line_number</th>\n",
       "      <th>text</th>\n",
       "      <th>prediction</th>\n",
       "      <th>probability</th>\n",
       "    </tr>\n",
       "  </thead>\n",
       "  <tbody>\n",
       "    <tr>\n",
       "      <th>0</th>\n",
       "      <td>10.0</td>\n",
       "      <td>0</td>\n",
       "      <td>Postpartum depression (PPD) is the most preval...</td>\n",
       "      <td>OBJECTIVE</td>\n",
       "      <td>0.652060</td>\n",
       "    </tr>\n",
       "    <tr>\n",
       "      <th>1</th>\n",
       "      <td>10.0</td>\n",
       "      <td>1</td>\n",
       "      <td>No single cause of PPD has been identified, ho...</td>\n",
       "      <td>OBJECTIVE</td>\n",
       "      <td>0.677631</td>\n",
       "    </tr>\n",
       "    <tr>\n",
       "      <th>2</th>\n",
       "      <td>10.0</td>\n",
       "      <td>2</td>\n",
       "      <td>Three nutritional interventions have drawn par...</td>\n",
       "      <td>OBJECTIVE</td>\n",
       "      <td>0.439344</td>\n",
       "    </tr>\n",
       "    <tr>\n",
       "      <th>3</th>\n",
       "      <td>10.0</td>\n",
       "      <td>3</td>\n",
       "      <td>We searched for meta-analyses of randomised co...</td>\n",
       "      <td>RESULTS</td>\n",
       "      <td>0.563533</td>\n",
       "    </tr>\n",
       "    <tr>\n",
       "      <th>4</th>\n",
       "      <td>10.0</td>\n",
       "      <td>4</td>\n",
       "      <td>Fish oil: Eleven RCT's of prenatal fish oil su...</td>\n",
       "      <td>BACKGROUND</td>\n",
       "      <td>0.320092</td>\n",
       "    </tr>\n",
       "    <tr>\n",
       "      <th>5</th>\n",
       "      <td>10.0</td>\n",
       "      <td>5</td>\n",
       "      <td>Vitamin D: no relevant RCT's were identified, ...</td>\n",
       "      <td>BACKGROUND</td>\n",
       "      <td>0.762319</td>\n",
       "    </tr>\n",
       "    <tr>\n",
       "      <th>6</th>\n",
       "      <td>10.0</td>\n",
       "      <td>6</td>\n",
       "      <td>Diet: Two Australian RCT's with dietary advice...</td>\n",
       "      <td>BACKGROUND</td>\n",
       "      <td>0.393382</td>\n",
       "    </tr>\n",
       "    <tr>\n",
       "      <th>7</th>\n",
       "      <td>10.0</td>\n",
       "      <td>7</td>\n",
       "      <td>With the exception of fish oil, few RCT's with...</td>\n",
       "      <td>METHODS</td>\n",
       "      <td>0.424230</td>\n",
       "    </tr>\n",
       "    <tr>\n",
       "      <th>8</th>\n",
       "      <td>10.0</td>\n",
       "      <td>8</td>\n",
       "      <td>Further research is needed to determine whethe...</td>\n",
       "      <td>METHODS</td>\n",
       "      <td>0.697098</td>\n",
       "    </tr>\n",
       "    <tr>\n",
       "      <th>9</th>\n",
       "      <td>10.0</td>\n",
       "      <td>9</td>\n",
       "      <td>Given the prevalence of PPD and ease of admini...</td>\n",
       "      <td>METHODS</td>\n",
       "      <td>0.777082</td>\n",
       "    </tr>\n",
       "  </tbody>\n",
       "</table>\n",
       "</div>"
      ],
      "text/plain": [
       "   total_lines  line_number  \\\n",
       "0         10.0            0   \n",
       "1         10.0            1   \n",
       "2         10.0            2   \n",
       "3         10.0            3   \n",
       "4         10.0            4   \n",
       "5         10.0            5   \n",
       "6         10.0            6   \n",
       "7         10.0            7   \n",
       "8         10.0            8   \n",
       "9         10.0            9   \n",
       "\n",
       "                                                text  prediction  probability  \n",
       "0  Postpartum depression (PPD) is the most preval...   OBJECTIVE     0.652060  \n",
       "1  No single cause of PPD has been identified, ho...   OBJECTIVE     0.677631  \n",
       "2  Three nutritional interventions have drawn par...   OBJECTIVE     0.439344  \n",
       "3  We searched for meta-analyses of randomised co...     RESULTS     0.563533  \n",
       "4  Fish oil: Eleven RCT's of prenatal fish oil su...  BACKGROUND     0.320092  \n",
       "5  Vitamin D: no relevant RCT's were identified, ...  BACKGROUND     0.762319  \n",
       "6  Diet: Two Australian RCT's with dietary advice...  BACKGROUND     0.393382  \n",
       "7  With the exception of fish oil, few RCT's with...     METHODS     0.424230  \n",
       "8  Further research is needed to determine whethe...     METHODS     0.697098  \n",
       "9  Given the prevalence of PPD and ease of admini...     METHODS     0.777082  "
      ]
     },
     "execution_count": 148,
     "metadata": {},
     "output_type": "execute_result"
    }
   ],
   "source": [
    "prep_abstract_and_predict(\n",
    "    model=model_large,\n",
    "    abstract_text=example_data[1]['abstract']\n",
    ")"
   ]
  },
  {
   "cell_type": "code",
   "execution_count": null,
   "id": "9251a5d5-ac53-41db-aab1-6f8a9cd70183",
   "metadata": {},
   "outputs": [],
   "source": []
  }
 ],
 "metadata": {
  "kernelspec": {
   "display_name": "Python 3 (ipykernel)",
   "language": "python",
   "name": "python3"
  },
  "language_info": {
   "codemirror_mode": {
    "name": "ipython",
    "version": 3
   },
   "file_extension": ".py",
   "mimetype": "text/x-python",
   "name": "python",
   "nbconvert_exporter": "python",
   "pygments_lexer": "ipython3",
   "version": "3.10.13"
  }
 },
 "nbformat": 4,
 "nbformat_minor": 5
}
